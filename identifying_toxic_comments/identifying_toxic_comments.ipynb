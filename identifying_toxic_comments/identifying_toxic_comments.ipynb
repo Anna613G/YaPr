{
  "cells": [
    {
      "cell_type": "markdown",
      "metadata": {
        "toc": true,
        "id": "tPfn6ED4K8tc"
      },
      "source": [
        "<h1>Содержание<span class=\"tocSkip\"></span></h1>\n",
        "<div class=\"toc\"><ul class=\"toc-item\"><li><span><a href=\"#Подготовка\" data-toc-modified-id=\"Подготовка-1\"><span class=\"toc-item-num\">1&nbsp;&nbsp;</span>Подготовка</a></span></li><li><span><a href=\"#Обучение\" data-toc-modified-id=\"Обучение-2\"><span class=\"toc-item-num\">2&nbsp;&nbsp;</span>Обучение</a></span></li><li><span><a href=\"#Выводы\" data-toc-modified-id=\"Выводы-3\"><span class=\"toc-item-num\">3&nbsp;&nbsp;</span>Выводы</a></span></li><li><span><a href=\"#Чек-лист-проверки\" data-toc-modified-id=\"Чек-лист-проверки-4\"><span class=\"toc-item-num\">4&nbsp;&nbsp;</span>Чек-лист проверки</a></span></li></ul></div>"
      ]
    },
    {
      "cell_type": "markdown",
      "metadata": {
        "id": "o9ndK9vbK8td"
      },
      "source": [
        "# Проект для «Викишоп»"
      ]
    },
    {
      "cell_type": "markdown",
      "metadata": {
        "id": "lRQN9TfRK8td"
      },
      "source": [
        "Интернет-магазин «Викишоп» запускает новый сервис. Теперь пользователи могут редактировать и дополнять описания товаров, как в вики-сообществах. То есть клиенты предлагают свои правки и комментируют изменения других. Магазину нужен инструмент, который будет искать токсичные комментарии и отправлять их на модерацию.\n",
        "\n",
        "Обучите модель классифицировать комментарии на позитивные и негативные. В вашем распоряжении набор данных с разметкой о токсичности правок.\n",
        "\n",
        "Постройте модель со значением метрики качества *F1* не меньше 0.75.\n"
      ]
    },
    {
      "cell_type": "code",
      "execution_count": null,
      "metadata": {
        "id": "uHCzboodK8te"
      },
      "outputs": [],
      "source": [
        "import pandas as pd\n",
        "\n",
        "import re\n",
        "from pymystem3 import Mystem\n",
        "import nltk\n",
        "from nltk.corpus import stopwords\n",
        "from nltk.stem.wordnet import WordNetLemmatizer\n",
        "\n",
        "from sklearn.model_selection import train_test_split\n",
        "from sklearn.feature_extraction.text import TfidfVectorizer\n",
        "\n",
        "from sklearn.linear_model import LogisticRegression, SGDClassifier\n",
        "from catboost import CatBoostClassifier\n",
        "from sklearn.ensemble import RandomForestClassifier\n",
        "from sklearn.model_selection import GridSearchCV\n",
        "\n",
        "from sklearn.metrics import f1_score\n",
        "from sklearn.model_selection import cross_val_score\n",
        "\n",
        "import warnings\n",
        "warnings.filterwarnings('ignore')\n",
        "\n",
        "from tqdm import tqdm\n",
        "tqdm.pandas()"
      ]
    },
    {
      "cell_type": "markdown",
      "metadata": {
        "id": "DDqCphayK8tf"
      },
      "source": [
        "## Подготовка"
      ]
    },
    {
      "cell_type": "code",
      "execution_count": null,
      "metadata": {
        "id": "4galunRpK8tf"
      },
      "outputs": [],
      "source": [
        "try:\n",
        "    data = pd.read_csv('/datasets/toxic_comments.csv')\n",
        "except:\n",
        "    print('Не удалось прочитать файл')"
      ]
    },
    {
      "cell_type": "code",
      "execution_count": null,
      "metadata": {
        "id": "fjjFQMx8K8tf",
        "outputId": "a3d0a404-f113-46d7-d7ec-df65da08d88f"
      },
      "outputs": [
        {
          "name": "stdout",
          "output_type": "stream",
          "text": [
            "<class 'pandas.core.frame.DataFrame'>\n",
            "RangeIndex: 159292 entries, 0 to 159291\n",
            "Data columns (total 3 columns):\n",
            " #   Column      Non-Null Count   Dtype \n",
            "---  ------      --------------   ----- \n",
            " 0   Unnamed: 0  159292 non-null  int64 \n",
            " 1   text        159292 non-null  object\n",
            " 2   toxic       159292 non-null  int64 \n",
            "dtypes: int64(2), object(1)\n",
            "memory usage: 3.6+ MB\n"
          ]
        }
      ],
      "source": [
        "data.info()"
      ]
    },
    {
      "cell_type": "code",
      "execution_count": null,
      "metadata": {
        "id": "FGK0L_X7K8tg",
        "outputId": "c74e7ef2-eb5a-4ac8-f5e8-918cf70175c4"
      },
      "outputs": [
        {
          "data": {
            "text/html": [
              "<div>\n",
              "<style scoped>\n",
              "    .dataframe tbody tr th:only-of-type {\n",
              "        vertical-align: middle;\n",
              "    }\n",
              "\n",
              "    .dataframe tbody tr th {\n",
              "        vertical-align: top;\n",
              "    }\n",
              "\n",
              "    .dataframe thead th {\n",
              "        text-align: right;\n",
              "    }\n",
              "</style>\n",
              "<table border=\"1\" class=\"dataframe\">\n",
              "  <thead>\n",
              "    <tr style=\"text-align: right;\">\n",
              "      <th></th>\n",
              "      <th>Unnamed: 0</th>\n",
              "      <th>text</th>\n",
              "      <th>toxic</th>\n",
              "    </tr>\n",
              "  </thead>\n",
              "  <tbody>\n",
              "    <tr>\n",
              "      <th>0</th>\n",
              "      <td>0</td>\n",
              "      <td>Explanation\\nWhy the edits made under my usern...</td>\n",
              "      <td>0</td>\n",
              "    </tr>\n",
              "    <tr>\n",
              "      <th>1</th>\n",
              "      <td>1</td>\n",
              "      <td>D'aww! He matches this background colour I'm s...</td>\n",
              "      <td>0</td>\n",
              "    </tr>\n",
              "    <tr>\n",
              "      <th>2</th>\n",
              "      <td>2</td>\n",
              "      <td>Hey man, I'm really not trying to edit war. It...</td>\n",
              "      <td>0</td>\n",
              "    </tr>\n",
              "    <tr>\n",
              "      <th>3</th>\n",
              "      <td>3</td>\n",
              "      <td>\"\\nMore\\nI can't make any real suggestions on ...</td>\n",
              "      <td>0</td>\n",
              "    </tr>\n",
              "    <tr>\n",
              "      <th>4</th>\n",
              "      <td>4</td>\n",
              "      <td>You, sir, are my hero. Any chance you remember...</td>\n",
              "      <td>0</td>\n",
              "    </tr>\n",
              "  </tbody>\n",
              "</table>\n",
              "</div>"
            ],
            "text/plain": [
              "   Unnamed: 0                                               text  toxic\n",
              "0           0  Explanation\\nWhy the edits made under my usern...      0\n",
              "1           1  D'aww! He matches this background colour I'm s...      0\n",
              "2           2  Hey man, I'm really not trying to edit war. It...      0\n",
              "3           3  \"\\nMore\\nI can't make any real suggestions on ...      0\n",
              "4           4  You, sir, are my hero. Any chance you remember...      0"
            ]
          },
          "execution_count": 4,
          "metadata": {},
          "output_type": "execute_result"
        }
      ],
      "source": [
        "data.head()"
      ]
    },
    {
      "cell_type": "code",
      "execution_count": null,
      "metadata": {
        "id": "Ol99VmtVK8tg"
      },
      "outputs": [],
      "source": [
        "data = data.drop('Unnamed: 0', axis =1)"
      ]
    },
    {
      "cell_type": "code",
      "execution_count": null,
      "metadata": {
        "id": "YfRZtvgzK8th",
        "outputId": "7e21f045-9dfd-4bc4-ad11-9da25150c05c"
      },
      "outputs": [
        {
          "data": {
            "text/html": [
              "<div>\n",
              "<style scoped>\n",
              "    .dataframe tbody tr th:only-of-type {\n",
              "        vertical-align: middle;\n",
              "    }\n",
              "\n",
              "    .dataframe tbody tr th {\n",
              "        vertical-align: top;\n",
              "    }\n",
              "\n",
              "    .dataframe thead th {\n",
              "        text-align: right;\n",
              "    }\n",
              "</style>\n",
              "<table border=\"1\" class=\"dataframe\">\n",
              "  <thead>\n",
              "    <tr style=\"text-align: right;\">\n",
              "      <th></th>\n",
              "      <th>text</th>\n",
              "      <th>toxic</th>\n",
              "    </tr>\n",
              "  </thead>\n",
              "  <tbody>\n",
              "    <tr>\n",
              "      <th>0</th>\n",
              "      <td>Explanation\\nWhy the edits made under my usern...</td>\n",
              "      <td>0</td>\n",
              "    </tr>\n",
              "    <tr>\n",
              "      <th>1</th>\n",
              "      <td>D'aww! He matches this background colour I'm s...</td>\n",
              "      <td>0</td>\n",
              "    </tr>\n",
              "    <tr>\n",
              "      <th>2</th>\n",
              "      <td>Hey man, I'm really not trying to edit war. It...</td>\n",
              "      <td>0</td>\n",
              "    </tr>\n",
              "    <tr>\n",
              "      <th>3</th>\n",
              "      <td>\"\\nMore\\nI can't make any real suggestions on ...</td>\n",
              "      <td>0</td>\n",
              "    </tr>\n",
              "    <tr>\n",
              "      <th>4</th>\n",
              "      <td>You, sir, are my hero. Any chance you remember...</td>\n",
              "      <td>0</td>\n",
              "    </tr>\n",
              "  </tbody>\n",
              "</table>\n",
              "</div>"
            ],
            "text/plain": [
              "                                                text  toxic\n",
              "0  Explanation\\nWhy the edits made under my usern...      0\n",
              "1  D'aww! He matches this background colour I'm s...      0\n",
              "2  Hey man, I'm really not trying to edit war. It...      0\n",
              "3  \"\\nMore\\nI can't make any real suggestions on ...      0\n",
              "4  You, sir, are my hero. Any chance you remember...      0"
            ]
          },
          "execution_count": 6,
          "metadata": {},
          "output_type": "execute_result"
        }
      ],
      "source": [
        "data.head()"
      ]
    },
    {
      "cell_type": "code",
      "execution_count": null,
      "metadata": {
        "id": "iBaZUUrQK8th",
        "outputId": "f5b912d6-6e53-486f-de3a-417d51acdac8"
      },
      "outputs": [
        {
          "data": {
            "text/plain": [
              "0"
            ]
          },
          "execution_count": 7,
          "metadata": {},
          "output_type": "execute_result"
        }
      ],
      "source": [
        "data.duplicated().sum()"
      ]
    },
    {
      "cell_type": "code",
      "execution_count": null,
      "metadata": {
        "scrolled": true,
        "id": "Pd57L_t8K8th",
        "outputId": "f032a373-03a7-41e7-cade-885de584b1d9"
      },
      "outputs": [
        {
          "data": {
            "text/html": [
              "<div>\n",
              "<style scoped>\n",
              "    .dataframe tbody tr th:only-of-type {\n",
              "        vertical-align: middle;\n",
              "    }\n",
              "\n",
              "    .dataframe tbody tr th {\n",
              "        vertical-align: top;\n",
              "    }\n",
              "\n",
              "    .dataframe thead th {\n",
              "        text-align: right;\n",
              "    }\n",
              "</style>\n",
              "<table border=\"1\" class=\"dataframe\">\n",
              "  <thead>\n",
              "    <tr style=\"text-align: right;\">\n",
              "      <th></th>\n",
              "      <th>text</th>\n",
              "    </tr>\n",
              "    <tr>\n",
              "      <th>toxic</th>\n",
              "      <th></th>\n",
              "    </tr>\n",
              "  </thead>\n",
              "  <tbody>\n",
              "    <tr>\n",
              "      <th>0</th>\n",
              "      <td>143106</td>\n",
              "    </tr>\n",
              "    <tr>\n",
              "      <th>1</th>\n",
              "      <td>16186</td>\n",
              "    </tr>\n",
              "  </tbody>\n",
              "</table>\n",
              "</div>"
            ],
            "text/plain": [
              "         text\n",
              "toxic        \n",
              "0      143106\n",
              "1       16186"
            ]
          },
          "execution_count": 8,
          "metadata": {},
          "output_type": "execute_result"
        }
      ],
      "source": [
        "data.groupby(by='toxic').count()"
      ]
    },
    {
      "cell_type": "code",
      "execution_count": null,
      "metadata": {
        "id": "cRlobkpBK8th",
        "outputId": "49f54fd4-d90b-4c2f-ac8e-63b505f6907d"
      },
      "outputs": [
        {
          "name": "stderr",
          "output_type": "stream",
          "text": [
            "[nltk_data] Downloading package stopwords to /home/jovyan/nltk_data...\n",
            "[nltk_data]   Package stopwords is already up-to-date!\n",
            "[nltk_data] Downloading package averaged_perceptron_tagger to\n",
            "[nltk_data]     /home/jovyan/nltk_data...\n",
            "[nltk_data]   Package averaged_perceptron_tagger is already up-to-\n",
            "[nltk_data]       date!\n"
          ]
        },
        {
          "data": {
            "text/plain": [
              "True"
            ]
          },
          "execution_count": 9,
          "metadata": {},
          "output_type": "execute_result"
        }
      ],
      "source": [
        "#m = Mystem()\n",
        "nltk.download('stopwords')\n",
        "stopwords_list = set(stopwords.words('english'))\n",
        "lemmatizer = WordNetLemmatizer()\n",
        "from nltk.corpus import wordnet\n",
        "nltk.download('averaged_perceptron_tagger')\n"
      ]
    },
    {
      "cell_type": "code",
      "execution_count": null,
      "metadata": {
        "id": "XKKUzzLSK8th"
      },
      "outputs": [],
      "source": [
        "def get_wordnet_pos(word):\n",
        "    #\"\"\"Map POS tag to first character lemmatize() accepts\"\"\"\n",
        "    tag = nltk.pos_tag([word])[0][1][0].upper()\n",
        "    tag_dict = {\"J\": wordnet.ADJ,\n",
        "                \"N\": wordnet.NOUN,\n",
        "                \"V\": wordnet.VERB,\n",
        "                \"R\": wordnet.ADV}\n",
        "    return tag_dict.get(tag, wordnet.NOUN)"
      ]
    },
    {
      "cell_type": "code",
      "execution_count": null,
      "metadata": {
        "id": "HnSa3lQZK8th"
      },
      "outputs": [],
      "source": [
        "\n",
        "\n",
        "def lemmatize_text(text):\n",
        "    text = text.lower()\n",
        "    #lemm_text = \"\".join(m.lemmatize(text))\n",
        "    cleared_text = re.sub(r'[^a-zA-Z]', ' ', text)\n",
        "    #split_text = re.split(' ', text)\n",
        "    word_list = nltk.word_tokenize(cleared_text)\n",
        "    word_list = [word for word in word_list if word not in stopwords_list]\n",
        "    word_list = [lemmatizer.lemmatize(word,  get_wordnet_pos(word)) for word in word_list]\n",
        "    lemma_text = \" \".join(word_list)\n",
        "    return lemma_text\n"
      ]
    },
    {
      "cell_type": "code",
      "execution_count": null,
      "metadata": {
        "id": "BmQk94p5K8ti",
        "outputId": "5cb4add3-31af-4835-aad3-1095a0ff085c"
      },
      "outputs": [
        {
          "name": "stderr",
          "output_type": "stream",
          "text": [
            "100%|██████████| 159292/159292 [12:22<00:00, 214.64it/s]\n"
          ]
        },
        {
          "data": {
            "text/html": [
              "<div>\n",
              "<style scoped>\n",
              "    .dataframe tbody tr th:only-of-type {\n",
              "        vertical-align: middle;\n",
              "    }\n",
              "\n",
              "    .dataframe tbody tr th {\n",
              "        vertical-align: top;\n",
              "    }\n",
              "\n",
              "    .dataframe thead th {\n",
              "        text-align: right;\n",
              "    }\n",
              "</style>\n",
              "<table border=\"1\" class=\"dataframe\">\n",
              "  <thead>\n",
              "    <tr style=\"text-align: right;\">\n",
              "      <th></th>\n",
              "      <th>text</th>\n",
              "      <th>toxic</th>\n",
              "      <th>lemma_text</th>\n",
              "    </tr>\n",
              "  </thead>\n",
              "  <tbody>\n",
              "    <tr>\n",
              "      <th>0</th>\n",
              "      <td>Explanation\\nWhy the edits made under my usern...</td>\n",
              "      <td>0</td>\n",
              "      <td>explanation edits make username hardcore metal...</td>\n",
              "    </tr>\n",
              "    <tr>\n",
              "      <th>1</th>\n",
              "      <td>D'aww! He matches this background colour I'm s...</td>\n",
              "      <td>0</td>\n",
              "      <td>aww match background colour seemingly stuck th...</td>\n",
              "    </tr>\n",
              "    <tr>\n",
              "      <th>2</th>\n",
              "      <td>Hey man, I'm really not trying to edit war. It...</td>\n",
              "      <td>0</td>\n",
              "      <td>hey man really try edit war guy constantly rem...</td>\n",
              "    </tr>\n",
              "    <tr>\n",
              "      <th>3</th>\n",
              "      <td>\"\\nMore\\nI can't make any real suggestions on ...</td>\n",
              "      <td>0</td>\n",
              "      <td>make real suggestion improvement wonder sectio...</td>\n",
              "    </tr>\n",
              "    <tr>\n",
              "      <th>4</th>\n",
              "      <td>You, sir, are my hero. Any chance you remember...</td>\n",
              "      <td>0</td>\n",
              "      <td>sir hero chance remember page</td>\n",
              "    </tr>\n",
              "    <tr>\n",
              "      <th>5</th>\n",
              "      <td>\"\\n\\nCongratulations from me as well, use the ...</td>\n",
              "      <td>0</td>\n",
              "      <td>congratulation well use tool well talk</td>\n",
              "    </tr>\n",
              "    <tr>\n",
              "      <th>6</th>\n",
              "      <td>COCKSUCKER BEFORE YOU PISS AROUND ON MY WORK</td>\n",
              "      <td>1</td>\n",
              "      <td>cocksucker piss around work</td>\n",
              "    </tr>\n",
              "    <tr>\n",
              "      <th>7</th>\n",
              "      <td>Your vandalism to the Matt Shirvington article...</td>\n",
              "      <td>0</td>\n",
              "      <td>vandalism matt shirvington article revert plea...</td>\n",
              "    </tr>\n",
              "    <tr>\n",
              "      <th>8</th>\n",
              "      <td>Sorry if the word 'nonsense' was offensive to ...</td>\n",
              "      <td>0</td>\n",
              "      <td>sorry word nonsense offensive anyway intend wr...</td>\n",
              "    </tr>\n",
              "    <tr>\n",
              "      <th>9</th>\n",
              "      <td>alignment on this subject and which are contra...</td>\n",
              "      <td>0</td>\n",
              "      <td>alignment subject contrary dulithgow</td>\n",
              "    </tr>\n",
              "  </tbody>\n",
              "</table>\n",
              "</div>"
            ],
            "text/plain": [
              "                                                text  toxic  \\\n",
              "0  Explanation\\nWhy the edits made under my usern...      0   \n",
              "1  D'aww! He matches this background colour I'm s...      0   \n",
              "2  Hey man, I'm really not trying to edit war. It...      0   \n",
              "3  \"\\nMore\\nI can't make any real suggestions on ...      0   \n",
              "4  You, sir, are my hero. Any chance you remember...      0   \n",
              "5  \"\\n\\nCongratulations from me as well, use the ...      0   \n",
              "6       COCKSUCKER BEFORE YOU PISS AROUND ON MY WORK      1   \n",
              "7  Your vandalism to the Matt Shirvington article...      0   \n",
              "8  Sorry if the word 'nonsense' was offensive to ...      0   \n",
              "9  alignment on this subject and which are contra...      0   \n",
              "\n",
              "                                          lemma_text  \n",
              "0  explanation edits make username hardcore metal...  \n",
              "1  aww match background colour seemingly stuck th...  \n",
              "2  hey man really try edit war guy constantly rem...  \n",
              "3  make real suggestion improvement wonder sectio...  \n",
              "4                      sir hero chance remember page  \n",
              "5             congratulation well use tool well talk  \n",
              "6                        cocksucker piss around work  \n",
              "7  vandalism matt shirvington article revert plea...  \n",
              "8  sorry word nonsense offensive anyway intend wr...  \n",
              "9               alignment subject contrary dulithgow  "
            ]
          },
          "execution_count": 13,
          "metadata": {},
          "output_type": "execute_result"
        }
      ],
      "source": [
        "\n",
        "data['lemma_text'] = data['text'].progress_apply(lemmatize_text)\n",
        "data.head(10)"
      ]
    },
    {
      "cell_type": "code",
      "execution_count": null,
      "metadata": {
        "id": "h3Xy77JnK8ti",
        "outputId": "a4e98f59-dc2c-4caf-ee30-28afc45d8214"
      },
      "outputs": [
        {
          "name": "stdout",
          "output_type": "stream",
          "text": [
            "<class 'pandas.core.frame.DataFrame'>\n",
            "RangeIndex: 159292 entries, 0 to 159291\n",
            "Data columns (total 3 columns):\n",
            " #   Column      Non-Null Count   Dtype \n",
            "---  ------      --------------   ----- \n",
            " 0   text        159292 non-null  object\n",
            " 1   toxic       159292 non-null  int64 \n",
            " 2   lemma_text  159292 non-null  object\n",
            "dtypes: int64(1), object(2)\n",
            "memory usage: 3.6+ MB\n"
          ]
        }
      ],
      "source": [
        "data.info()"
      ]
    },
    {
      "cell_type": "code",
      "execution_count": null,
      "metadata": {
        "id": "zqulcjEwK8ti",
        "outputId": "0a4d1dc0-5d20-4d14-d68f-4a3b0729d247"
      },
      "outputs": [
        {
          "data": {
            "text/plain": [
              "8.841344371679229"
            ]
          },
          "execution_count": 15,
          "metadata": {},
          "output_type": "execute_result"
        }
      ],
      "source": [
        "class_ratio = data['toxic'].value_counts()[0] / data['toxic'].value_counts()[1]\n",
        "class_ratio"
      ]
    },
    {
      "cell_type": "code",
      "execution_count": null,
      "metadata": {
        "id": "9Yyx-O26K8ti",
        "outputId": "e22fde5d-a1e4-4edc-91bb-6656c201e70e"
      },
      "outputs": [
        {
          "data": {
            "text/plain": [
              "{0: 1, 1: 8.841344371679229}"
            ]
          },
          "execution_count": 16,
          "metadata": {},
          "output_type": "execute_result"
        }
      ],
      "source": [
        "dict_classes={0:1, 1:class_ratio}\n",
        "dict_classes"
      ]
    },
    {
      "cell_type": "markdown",
      "metadata": {
        "id": "SIgK3E4HK8tj"
      },
      "source": [
        "**Вывод:** проведена лемматизация текстовых данных. При ознакомлении с данными выявлен дисбаланс классов (нетоксичных комментариев оказалось гораздо больше, чем токсичных в 8,8 раза). Для увеличения точности работы моделей необходимо учитывать это при делении выборок и обучении моделей"
      ]
    },
    {
      "cell_type": "markdown",
      "metadata": {
        "id": "WmUBK-vmK8tj"
      },
      "source": [
        "## Обучение"
      ]
    },
    {
      "cell_type": "code",
      "execution_count": null,
      "metadata": {
        "id": "10M02uDPK8tj"
      },
      "outputs": [],
      "source": [
        "train, test = train_test_split(data, test_size=0.2, random_state=613, stratify=data['toxic'])"
      ]
    },
    {
      "cell_type": "code",
      "execution_count": null,
      "metadata": {
        "id": "ghK6SzZeK8tj"
      },
      "outputs": [],
      "source": [
        "count_tf_idf = TfidfVectorizer()"
      ]
    },
    {
      "cell_type": "code",
      "execution_count": null,
      "metadata": {
        "id": "gclxHuv_K8tj"
      },
      "outputs": [],
      "source": [
        "features_train = count_tf_idf.fit_transform(train['lemma_text'])"
      ]
    },
    {
      "cell_type": "code",
      "execution_count": null,
      "metadata": {
        "id": "uv11aRv5K8tj"
      },
      "outputs": [],
      "source": [
        "features_test = count_tf_idf.transform(test['lemma_text'])"
      ]
    },
    {
      "cell_type": "code",
      "execution_count": null,
      "metadata": {
        "id": "7mBInWrWK8tj"
      },
      "outputs": [],
      "source": [
        "target_train = train['toxic']\n",
        "target_test = test['toxic']"
      ]
    },
    {
      "cell_type": "markdown",
      "metadata": {
        "id": "ysCGVgvaK8tk"
      },
      "source": [
        "Подготовим таблицу для сбора результатов"
      ]
    },
    {
      "cell_type": "code",
      "execution_count": null,
      "metadata": {
        "id": "GnaGp4X5K8tk",
        "outputId": "b1a3ad2a-a48f-46c7-8cab-e6c60ec7f526"
      },
      "outputs": [
        {
          "data": {
            "text/html": [
              "<div>\n",
              "<style scoped>\n",
              "    .dataframe tbody tr th:only-of-type {\n",
              "        vertical-align: middle;\n",
              "    }\n",
              "\n",
              "    .dataframe tbody tr th {\n",
              "        vertical-align: top;\n",
              "    }\n",
              "\n",
              "    .dataframe thead th {\n",
              "        text-align: right;\n",
              "    }\n",
              "</style>\n",
              "<table border=\"1\" class=\"dataframe\">\n",
              "  <thead>\n",
              "    <tr style=\"text-align: right;\">\n",
              "      <th></th>\n",
              "      <th>model</th>\n",
              "      <th>f1</th>\n",
              "    </tr>\n",
              "  </thead>\n",
              "  <tbody>\n",
              "  </tbody>\n",
              "</table>\n",
              "</div>"
            ],
            "text/plain": [
              "Empty DataFrame\n",
              "Columns: [model, f1]\n",
              "Index: []"
            ]
          },
          "execution_count": 22,
          "metadata": {},
          "output_type": "execute_result"
        }
      ],
      "source": [
        "result=pd.DataFrame({'model': [], 'f1':[]})\n",
        "result"
      ]
    },
    {
      "cell_type": "code",
      "execution_count": null,
      "metadata": {
        "id": "8qmtYjd1K8tk"
      },
      "outputs": [],
      "source": [
        "def append_result(model, result, f_train, t_train):\n",
        "    scores = cross_val_score(model, f_train, t_train, scoring='f1', cv=3)\n",
        "    f1 = scores.mean()\n",
        "    result = result.append({'model': model, 'f1':f1}, ignore_index=True)\n",
        "    return result"
      ]
    },
    {
      "cell_type": "code",
      "execution_count": null,
      "metadata": {
        "id": "AtarRi1tK8tk",
        "outputId": "6ffed7e4-9570-46c5-86e7-8cf7333831fc"
      },
      "outputs": [
        {
          "data": {
            "text/html": [
              "<div>\n",
              "<style scoped>\n",
              "    .dataframe tbody tr th:only-of-type {\n",
              "        vertical-align: middle;\n",
              "    }\n",
              "\n",
              "    .dataframe tbody tr th {\n",
              "        vertical-align: top;\n",
              "    }\n",
              "\n",
              "    .dataframe thead th {\n",
              "        text-align: right;\n",
              "    }\n",
              "</style>\n",
              "<table border=\"1\" class=\"dataframe\">\n",
              "  <thead>\n",
              "    <tr style=\"text-align: right;\">\n",
              "      <th></th>\n",
              "      <th>model</th>\n",
              "      <th>f1</th>\n",
              "    </tr>\n",
              "  </thead>\n",
              "  <tbody>\n",
              "    <tr>\n",
              "      <th>0</th>\n",
              "      <td>LogisticRegression(class_weight={0: 1, 1: 8.84...</td>\n",
              "      <td>0.756488</td>\n",
              "    </tr>\n",
              "  </tbody>\n",
              "</table>\n",
              "</div>"
            ],
            "text/plain": [
              "                                               model        f1\n",
              "0  LogisticRegression(class_weight={0: 1, 1: 8.84...  0.756488"
            ]
          },
          "execution_count": 24,
          "metadata": {},
          "output_type": "execute_result"
        }
      ],
      "source": [
        "model = LogisticRegression(class_weight=dict_classes)\n",
        "model.fit(features_train, target_train)\n",
        "result = append_result(model, result,features_train, target_train)\n",
        "result"
      ]
    },
    {
      "cell_type": "code",
      "execution_count": null,
      "metadata": {
        "id": "sAJ5eO7ZK8tk",
        "outputId": "d726435c-68dc-467f-dddf-91d15854ef08"
      },
      "outputs": [
        {
          "data": {
            "text/plain": [
              "{'max_depth': 23, 'n_estimators': 23}"
            ]
          },
          "execution_count": 25,
          "metadata": {},
          "output_type": "execute_result"
        }
      ],
      "source": [
        "param = {\n",
        "    'max_depth': [n for n in range(1, 25, 2)],\n",
        "    'n_estimators':[i for i in range(1, 25,2)],\n",
        "            }\n",
        "grid_random_forest =  GridSearchCV(RandomForestClassifier(random_state=613, class_weight=dict_classes), param, scoring='f1', n_jobs=-1, cv=3);\n",
        "grid_random_forest.fit(features_train, target_train)\n",
        "grid_random_forest.best_params_"
      ]
    },
    {
      "cell_type": "code",
      "execution_count": null,
      "metadata": {
        "id": "QH-xbnpUK8tl",
        "outputId": "1f76bdfb-7afa-4fb1-bd07-b46fe3165ff2"
      },
      "outputs": [
        {
          "data": {
            "text/html": [
              "<div>\n",
              "<style scoped>\n",
              "    .dataframe tbody tr th:only-of-type {\n",
              "        vertical-align: middle;\n",
              "    }\n",
              "\n",
              "    .dataframe tbody tr th {\n",
              "        vertical-align: top;\n",
              "    }\n",
              "\n",
              "    .dataframe thead th {\n",
              "        text-align: right;\n",
              "    }\n",
              "</style>\n",
              "<table border=\"1\" class=\"dataframe\">\n",
              "  <thead>\n",
              "    <tr style=\"text-align: right;\">\n",
              "      <th></th>\n",
              "      <th>model</th>\n",
              "      <th>f1</th>\n",
              "    </tr>\n",
              "  </thead>\n",
              "  <tbody>\n",
              "    <tr>\n",
              "      <th>0</th>\n",
              "      <td>LogisticRegression(class_weight={0: 1, 1: 8.84...</td>\n",
              "      <td>0.756488</td>\n",
              "    </tr>\n",
              "    <tr>\n",
              "      <th>1</th>\n",
              "      <td>(DecisionTreeClassifier(max_depth=23, max_feat...</td>\n",
              "      <td>0.375118</td>\n",
              "    </tr>\n",
              "  </tbody>\n",
              "</table>\n",
              "</div>"
            ],
            "text/plain": [
              "                                               model        f1\n",
              "0  LogisticRegression(class_weight={0: 1, 1: 8.84...  0.756488\n",
              "1  (DecisionTreeClassifier(max_depth=23, max_feat...  0.375118"
            ]
          },
          "execution_count": 26,
          "metadata": {},
          "output_type": "execute_result"
        }
      ],
      "source": [
        "rf_model = RandomForestClassifier(random_state=613, class_weight=dict_classes, max_depth = grid_random_forest.best_params_['max_depth'], n_estimators=grid_random_forest.best_params_['n_estimators'])\n",
        "rf_model.fit(features_train, target_train)\n",
        "result = append_result(rf_model, result, features_train, target_train)\n",
        "result"
      ]
    },
    {
      "cell_type": "code",
      "execution_count": null,
      "metadata": {
        "id": "ya0Vl5NjK8tl",
        "outputId": "04c2a03a-739b-4d52-9e41-8bcf0f72196b"
      },
      "outputs": [
        {
          "name": "stdout",
          "output_type": "stream",
          "text": [
            "Learning rate set to 0.5\n",
            "0:\tlearn: 0.3334058\ttotal: 2.66s\tremaining: 2m 10s\n",
            "3:\tlearn: 0.2122789\ttotal: 8.75s\tremaining: 1m 40s\n",
            "6:\tlearn: 0.1944144\ttotal: 14.6s\tremaining: 1m 29s\n",
            "9:\tlearn: 0.1826768\ttotal: 20.4s\tremaining: 1m 21s\n",
            "12:\tlearn: 0.1738423\ttotal: 26s\tremaining: 1m 13s\n",
            "15:\tlearn: 0.1669901\ttotal: 31.6s\tremaining: 1m 7s\n",
            "18:\tlearn: 0.1612437\ttotal: 37.3s\tremaining: 1m\n",
            "21:\tlearn: 0.1573258\ttotal: 42.9s\tremaining: 54.6s\n",
            "24:\tlearn: 0.1540534\ttotal: 48.5s\tremaining: 48.5s\n",
            "27:\tlearn: 0.1507028\ttotal: 53.9s\tremaining: 42.4s\n",
            "30:\tlearn: 0.1477089\ttotal: 59.4s\tremaining: 36.4s\n",
            "33:\tlearn: 0.1441658\ttotal: 1m 4s\tremaining: 30.6s\n",
            "36:\tlearn: 0.1418748\ttotal: 1m 10s\tremaining: 24.8s\n",
            "39:\tlearn: 0.1397199\ttotal: 1m 15s\tremaining: 19s\n",
            "42:\tlearn: 0.1375439\ttotal: 1m 21s\tremaining: 13.3s\n",
            "45:\tlearn: 0.1357219\ttotal: 1m 26s\tremaining: 7.55s\n",
            "48:\tlearn: 0.1341628\ttotal: 1m 32s\tremaining: 1.88s\n",
            "49:\tlearn: 0.1336514\ttotal: 1m 34s\tremaining: 0us\n",
            "Learning rate set to 0.5\n",
            "0:\tlearn: 0.3443817\ttotal: 1.85s\tremaining: 1m 30s\n",
            "3:\tlearn: 0.2176153\ttotal: 6.18s\tremaining: 1m 11s\n",
            "6:\tlearn: 0.1950136\ttotal: 10.5s\tremaining: 1m 4s\n",
            "9:\tlearn: 0.1825092\ttotal: 14.7s\tremaining: 58.7s\n",
            "12:\tlearn: 0.1741601\ttotal: 18.7s\tremaining: 53.1s\n",
            "15:\tlearn: 0.1673408\ttotal: 22.6s\tremaining: 48.1s\n",
            "18:\tlearn: 0.1624391\ttotal: 26.6s\tremaining: 43.4s\n",
            "21:\tlearn: 0.1575589\ttotal: 30.5s\tremaining: 38.9s\n",
            "24:\tlearn: 0.1529798\ttotal: 34.6s\tremaining: 34.6s\n",
            "27:\tlearn: 0.1497271\ttotal: 38.6s\tremaining: 30.3s\n",
            "30:\tlearn: 0.1461769\ttotal: 42.6s\tremaining: 26.1s\n",
            "33:\tlearn: 0.1434581\ttotal: 46.5s\tremaining: 21.9s\n",
            "36:\tlearn: 0.1411333\ttotal: 50.4s\tremaining: 17.7s\n",
            "39:\tlearn: 0.1389043\ttotal: 54.5s\tremaining: 13.6s\n",
            "42:\tlearn: 0.1370906\ttotal: 58.3s\tremaining: 9.49s\n",
            "45:\tlearn: 0.1354871\ttotal: 1m 2s\tremaining: 5.41s\n",
            "48:\tlearn: 0.1337594\ttotal: 1m 6s\tremaining: 1.35s\n",
            "49:\tlearn: 0.1333209\ttotal: 1m 7s\tremaining: 0us\n",
            "Learning rate set to 0.5\n",
            "0:\tlearn: 0.3393030\ttotal: 1.92s\tremaining: 1m 34s\n",
            "3:\tlearn: 0.2145360\ttotal: 6.22s\tremaining: 1m 11s\n",
            "6:\tlearn: 0.1957067\ttotal: 10.4s\tremaining: 1m 4s\n",
            "9:\tlearn: 0.1825628\ttotal: 14.6s\tremaining: 58.2s\n",
            "12:\tlearn: 0.1743345\ttotal: 18.6s\tremaining: 53s\n",
            "15:\tlearn: 0.1680380\ttotal: 22.7s\tremaining: 48.3s\n",
            "18:\tlearn: 0.1620705\ttotal: 26.7s\tremaining: 43.6s\n",
            "21:\tlearn: 0.1579368\ttotal: 30.7s\tremaining: 39.1s\n",
            "24:\tlearn: 0.1522646\ttotal: 34.7s\tremaining: 34.7s\n",
            "27:\tlearn: 0.1493719\ttotal: 38.6s\tremaining: 30.3s\n",
            "30:\tlearn: 0.1462324\ttotal: 42.5s\tremaining: 26.1s\n",
            "33:\tlearn: 0.1433061\ttotal: 46.5s\tremaining: 21.9s\n",
            "36:\tlearn: 0.1407325\ttotal: 50.4s\tremaining: 17.7s\n",
            "39:\tlearn: 0.1383698\ttotal: 54.4s\tremaining: 13.6s\n",
            "42:\tlearn: 0.1357541\ttotal: 58.4s\tremaining: 9.51s\n",
            "45:\tlearn: 0.1339337\ttotal: 1m 2s\tremaining: 5.42s\n",
            "48:\tlearn: 0.1325367\ttotal: 1m 6s\tremaining: 1.35s\n",
            "49:\tlearn: 0.1318906\ttotal: 1m 7s\tremaining: 0us\n",
            "Learning rate set to 0.5\n",
            "0:\tlearn: 0.3532446\ttotal: 1.88s\tremaining: 1m 32s\n",
            "3:\tlearn: 0.2160914\ttotal: 6.21s\tremaining: 1m 11s\n",
            "6:\tlearn: 0.1965202\ttotal: 10.4s\tremaining: 1m 3s\n",
            "9:\tlearn: 0.1839829\ttotal: 14.6s\tremaining: 58.5s\n",
            "12:\tlearn: 0.1740966\ttotal: 18.7s\tremaining: 53.2s\n",
            "15:\tlearn: 0.1669253\ttotal: 22.7s\tremaining: 48.3s\n",
            "18:\tlearn: 0.1617811\ttotal: 26.8s\tremaining: 43.7s\n",
            "21:\tlearn: 0.1578802\ttotal: 30.8s\tremaining: 39.2s\n",
            "24:\tlearn: 0.1524850\ttotal: 35s\tremaining: 35s\n",
            "27:\tlearn: 0.1490379\ttotal: 39.1s\tremaining: 30.7s\n",
            "30:\tlearn: 0.1458524\ttotal: 43s\tremaining: 26.4s\n",
            "33:\tlearn: 0.1430162\ttotal: 47s\tremaining: 22.1s\n",
            "36:\tlearn: 0.1402722\ttotal: 51s\tremaining: 17.9s\n",
            "39:\tlearn: 0.1383747\ttotal: 54.9s\tremaining: 13.7s\n",
            "42:\tlearn: 0.1359584\ttotal: 58.9s\tremaining: 9.58s\n",
            "45:\tlearn: 0.1342150\ttotal: 1m 2s\tremaining: 5.46s\n",
            "48:\tlearn: 0.1322214\ttotal: 1m 6s\tremaining: 1.36s\n",
            "49:\tlearn: 0.1315967\ttotal: 1m 8s\tremaining: 0us\n"
          ]
        },
        {
          "data": {
            "text/html": [
              "<div>\n",
              "<style scoped>\n",
              "    .dataframe tbody tr th:only-of-type {\n",
              "        vertical-align: middle;\n",
              "    }\n",
              "\n",
              "    .dataframe tbody tr th {\n",
              "        vertical-align: top;\n",
              "    }\n",
              "\n",
              "    .dataframe thead th {\n",
              "        text-align: right;\n",
              "    }\n",
              "</style>\n",
              "<table border=\"1\" class=\"dataframe\">\n",
              "  <thead>\n",
              "    <tr style=\"text-align: right;\">\n",
              "      <th></th>\n",
              "      <th>model</th>\n",
              "      <th>f1</th>\n",
              "    </tr>\n",
              "  </thead>\n",
              "  <tbody>\n",
              "    <tr>\n",
              "      <th>0</th>\n",
              "      <td>LogisticRegression(class_weight={0: 1, 1: 8.84...</td>\n",
              "      <td>0.756488</td>\n",
              "    </tr>\n",
              "    <tr>\n",
              "      <th>1</th>\n",
              "      <td>(DecisionTreeClassifier(max_depth=23, max_feat...</td>\n",
              "      <td>0.375118</td>\n",
              "    </tr>\n",
              "    <tr>\n",
              "      <th>2</th>\n",
              "      <td>&lt;catboost.core.CatBoostClassifier object at 0x...</td>\n",
              "      <td>0.721241</td>\n",
              "    </tr>\n",
              "  </tbody>\n",
              "</table>\n",
              "</div>"
            ],
            "text/plain": [
              "                                               model        f1\n",
              "0  LogisticRegression(class_weight={0: 1, 1: 8.84...  0.756488\n",
              "1  (DecisionTreeClassifier(max_depth=23, max_feat...  0.375118\n",
              "2  <catboost.core.CatBoostClassifier object at 0x...  0.721241"
            ]
          },
          "execution_count": 27,
          "metadata": {},
          "output_type": "execute_result"
        }
      ],
      "source": [
        "cat_model = CatBoostClassifier(verbose=3, iterations=50)\n",
        "cat_model.fit(features_train, target_train)\n",
        "result = append_result(cat_model, result, features_train, target_train)\n",
        "result"
      ]
    },
    {
      "cell_type": "code",
      "execution_count": null,
      "metadata": {
        "id": "TxgnVRJpK8tl",
        "outputId": "f5355d87-14fa-4e2a-c454-df0df2ac522e"
      },
      "outputs": [
        {
          "name": "stdout",
          "output_type": "stream",
          "text": [
            "{'class_weight': {0: 1, 1: 8.841344371679229}, 'eta0': 0.01, 'learning_rate': 'constant', 'loss': 'modified_huber', 'random_state': 613}\n"
          ]
        }
      ],
      "source": [
        "sgd_model = SGDClassifier()\n",
        "hyperparams = [{'loss':['hinge', 'log', 'modified_huber'],\n",
        "                'learning_rate':['constant', 'optimal', 'invscaling', 'adaptive'],\n",
        "                'eta0':[0.01, 0.05, 0.1, 0.2, 0.3, 0.5],\n",
        "                'random_state':[613],\n",
        "                'class_weight':[dict_classes]}]\n",
        "grid_sgd = GridSearchCV(sgd_model, hyperparams, scoring='f1',cv=3)\n",
        "grid_sgd.fit(features_train, target_train)\n",
        "SGDC_best_params = grid_sgd.best_params_\n",
        "print(SGDC_best_params)"
      ]
    },
    {
      "cell_type": "code",
      "execution_count": null,
      "metadata": {
        "id": "U4PEKjg-K8tl",
        "outputId": "d40e7ac9-2d0c-4a08-fc65-fc6f7028d614"
      },
      "outputs": [
        {
          "data": {
            "text/html": [
              "<div>\n",
              "<style scoped>\n",
              "    .dataframe tbody tr th:only-of-type {\n",
              "        vertical-align: middle;\n",
              "    }\n",
              "\n",
              "    .dataframe tbody tr th {\n",
              "        vertical-align: top;\n",
              "    }\n",
              "\n",
              "    .dataframe thead th {\n",
              "        text-align: right;\n",
              "    }\n",
              "</style>\n",
              "<table border=\"1\" class=\"dataframe\">\n",
              "  <thead>\n",
              "    <tr style=\"text-align: right;\">\n",
              "      <th></th>\n",
              "      <th>model</th>\n",
              "      <th>f1</th>\n",
              "    </tr>\n",
              "  </thead>\n",
              "  <tbody>\n",
              "    <tr>\n",
              "      <th>0</th>\n",
              "      <td>LogisticRegression(class_weight={0: 1, 1: 8.84...</td>\n",
              "      <td>0.756488</td>\n",
              "    </tr>\n",
              "    <tr>\n",
              "      <th>1</th>\n",
              "      <td>(DecisionTreeClassifier(max_depth=23, max_feat...</td>\n",
              "      <td>0.375118</td>\n",
              "    </tr>\n",
              "    <tr>\n",
              "      <th>2</th>\n",
              "      <td>&lt;catboost.core.CatBoostClassifier object at 0x...</td>\n",
              "      <td>0.721241</td>\n",
              "    </tr>\n",
              "    <tr>\n",
              "      <th>3</th>\n",
              "      <td>SGDClassifier(class_weight={0: 1, 1: 8.8413443...</td>\n",
              "      <td>0.759261</td>\n",
              "    </tr>\n",
              "  </tbody>\n",
              "</table>\n",
              "</div>"
            ],
            "text/plain": [
              "                                               model        f1\n",
              "0  LogisticRegression(class_weight={0: 1, 1: 8.84...  0.756488\n",
              "1  (DecisionTreeClassifier(max_depth=23, max_feat...  0.375118\n",
              "2  <catboost.core.CatBoostClassifier object at 0x...  0.721241\n",
              "3  SGDClassifier(class_weight={0: 1, 1: 8.8413443...  0.759261"
            ]
          },
          "execution_count": 29,
          "metadata": {},
          "output_type": "execute_result"
        }
      ],
      "source": [
        "sgd_model = SGDClassifier()\n",
        "sgd_model.set_params(**SGDC_best_params)\n",
        "sgd_model.fit(features_train, target_train)\n",
        "result = append_result(sgd_model, result, features_train, target_train)\n",
        "result"
      ]
    },
    {
      "cell_type": "code",
      "execution_count": null,
      "metadata": {
        "id": "f3bdgE9XK8tl",
        "outputId": "6f5ed619-e090-41b2-81fb-f4cdb1750b94"
      },
      "outputs": [
        {
          "name": "stdout",
          "output_type": "stream",
          "text": [
            "Модель: SGDClassifier(class_weight={0: 1, 1: 8.841344371679229}, eta0=0.01,\n",
            "              learning_rate='constant', loss='modified_huber',\n",
            "              random_state=613)\n",
            "f1 0.7592613478071328\n"
          ]
        }
      ],
      "source": [
        "best_model = result.sort_values(by='f1', ascending=False).iloc[0,0]\n",
        "best_rmse = result.sort_values(by='f1', ascending=False).iloc[0,1]\n",
        "print('Модель:', best_model)\n",
        "print('f1', best_rmse)"
      ]
    },
    {
      "cell_type": "markdown",
      "metadata": {
        "id": "Rh807p2uK8tm"
      },
      "source": [
        "**ВЫБОР МОДЕЛИ:** Лучшую метрику показал SGD-классификатора с учетом баланса классов, так же по критерию заказчика прошла логистическая регрессия с балансом классов, но ее метрика оказалась немного ниже."
      ]
    },
    {
      "cell_type": "code",
      "execution_count": null,
      "metadata": {
        "id": "jTeQULCkK8tm",
        "outputId": "4031c9bc-55e2-4937-d313-1fcc9735c4a8"
      },
      "outputs": [
        {
          "name": "stdout",
          "output_type": "stream",
          "text": [
            "f1  0.7583874458874459\n"
          ]
        }
      ],
      "source": [
        "y_pred = best_model.predict(features_test)\n",
        "best_f1_test = f1_score(target_test, y_pred)\n",
        "print('f1 ', best_f1_test)"
      ]
    },
    {
      "cell_type": "code",
      "execution_count": null,
      "metadata": {
        "id": "H9orKSl5K8tm",
        "outputId": "2df9be91-a487-437e-f5f1-c509f4230d34"
      },
      "outputs": [
        {
          "name": "stdout",
          "output_type": "stream",
          "text": [
            "Модель соответствует требованиям заказчика\n"
          ]
        }
      ],
      "source": [
        "if best_f1_test > 0.75:\n",
        "    print('Модель соответствует требованиям заказчика')\n",
        "else:\n",
        "    print('Модель НЕ соответствует требованиям заказчика')"
      ]
    },
    {
      "cell_type": "markdown",
      "metadata": {
        "id": "teCitZi7K8tm"
      },
      "source": [
        "**Вывод:** Наилучший результат показала модель SGD-классификатора с учетом баланса классов. Модель показала метрику F1 почти 0,76 как на кросс-валидации так и на тестовых данных"
      ]
    },
    {
      "cell_type": "markdown",
      "metadata": {
        "id": "RR5JIM1aK8tn"
      },
      "source": [
        "## Выводы"
      ]
    },
    {
      "cell_type": "markdown",
      "metadata": {
        "id": "brnMSLd4K8tn"
      },
      "source": [
        "К анализу были предоставлены размеченные сведения полученных Интернет-магазином «Викишоп» правок к описаниям и комментариев к товарам с подготовленной разметкой о токсичности.\n",
        "В ходе работы над проектом:\n",
        "- исключены незначимые символы из текста комментариев\n",
        "- проведена лемматизация комментариев\n",
        "- выявлен дисбаланс классов, который был учтен при подготовке данных и обучении моделей\n",
        "- обучена модель TF-IDF для генерации из текста комментариев числовых признаков для обучения модели\n",
        "- обучены модели:\n",
        "\n",
        "    1) Логистическая регрессия\n",
        "    \n",
        "    2) Случайный лес\n",
        "    \n",
        "    3) CatBoost-классификатор\n",
        "    \n",
        "    4) SGD-классификатор\n",
        "    \n",
        "Наилучший результат показала модель  модель SGD-классификатора с учетом баланса классов. Модель показала метрику F1 = 0,76 как на кросс-валидации так и на тестовых данных"
      ]
    }
  ],
  "metadata": {
    "ExecuteTimeLog": [
      {
        "duration": 380,
        "start_time": "2023-11-12T09:57:01.867Z"
      },
      {
        "duration": 2555,
        "start_time": "2023-11-12T09:58:05.390Z"
      },
      {
        "duration": 34,
        "start_time": "2023-11-12T09:58:18.635Z"
      },
      {
        "duration": 27,
        "start_time": "2023-11-12T09:58:40.203Z"
      },
      {
        "duration": 41,
        "start_time": "2023-11-12T10:00:30.829Z"
      },
      {
        "duration": 243,
        "start_time": "2023-11-12T10:01:03.353Z"
      },
      {
        "duration": 213,
        "start_time": "2023-11-12T10:01:15.561Z"
      },
      {
        "duration": 4,
        "start_time": "2023-11-12T10:09:29.884Z"
      },
      {
        "duration": 93,
        "start_time": "2023-11-12T10:09:51.538Z"
      },
      {
        "duration": 17,
        "start_time": "2023-11-12T10:10:07.554Z"
      },
      {
        "duration": 7,
        "start_time": "2023-11-12T10:10:17.891Z"
      },
      {
        "duration": 975,
        "start_time": "2023-11-12T10:10:40.144Z"
      },
      {
        "duration": 920,
        "start_time": "2023-11-12T10:10:41.121Z"
      },
      {
        "duration": 31,
        "start_time": "2023-11-12T10:10:42.044Z"
      },
      {
        "duration": 7,
        "start_time": "2023-11-12T10:10:42.077Z"
      },
      {
        "duration": 29,
        "start_time": "2023-11-12T10:10:42.086Z"
      },
      {
        "duration": 7,
        "start_time": "2023-11-12T10:10:42.117Z"
      },
      {
        "duration": 230,
        "start_time": "2023-11-12T10:10:42.125Z"
      },
      {
        "duration": 37,
        "start_time": "2023-11-12T10:10:42.357Z"
      },
      {
        "duration": 64,
        "start_time": "2023-11-12T10:14:00.792Z"
      },
      {
        "duration": 6,
        "start_time": "2023-11-12T10:14:14.239Z"
      },
      {
        "duration": 11,
        "start_time": "2023-11-12T10:14:17.079Z"
      },
      {
        "duration": 96791,
        "start_time": "2023-11-12T10:16:17.644Z"
      },
      {
        "duration": 1313,
        "start_time": "2023-11-12T10:22:35.641Z"
      },
      {
        "duration": 968,
        "start_time": "2023-11-12T10:22:36.956Z"
      },
      {
        "duration": 31,
        "start_time": "2023-11-12T10:22:37.925Z"
      },
      {
        "duration": 13,
        "start_time": "2023-11-12T10:22:37.958Z"
      },
      {
        "duration": 10,
        "start_time": "2023-11-12T10:22:37.973Z"
      },
      {
        "duration": 34,
        "start_time": "2023-11-12T10:22:37.984Z"
      },
      {
        "duration": 228,
        "start_time": "2023-11-12T10:22:38.019Z"
      },
      {
        "duration": 37,
        "start_time": "2023-11-12T10:22:38.248Z"
      },
      {
        "duration": 98865,
        "start_time": "2023-11-12T10:28:34.735Z"
      },
      {
        "duration": 428,
        "start_time": "2023-11-12T10:30:57.949Z"
      },
      {
        "duration": 1434,
        "start_time": "2023-11-12T10:31:53.125Z"
      },
      {
        "duration": 1001,
        "start_time": "2023-11-12T10:31:54.560Z"
      },
      {
        "duration": 33,
        "start_time": "2023-11-12T10:31:55.562Z"
      },
      {
        "duration": 36,
        "start_time": "2023-11-12T10:31:55.597Z"
      },
      {
        "duration": 13,
        "start_time": "2023-11-12T10:31:55.636Z"
      },
      {
        "duration": 9,
        "start_time": "2023-11-12T10:31:55.651Z"
      },
      {
        "duration": 269,
        "start_time": "2023-11-12T10:31:55.662Z"
      },
      {
        "duration": 39,
        "start_time": "2023-11-12T10:31:55.932Z"
      },
      {
        "duration": 3,
        "start_time": "2023-11-12T10:31:59.261Z"
      },
      {
        "duration": 175918,
        "start_time": "2023-11-12T10:32:00.573Z"
      },
      {
        "duration": 122,
        "start_time": "2023-11-12T10:37:40.977Z"
      },
      {
        "duration": 4,
        "start_time": "2023-11-12T10:37:53.626Z"
      },
      {
        "duration": 143,
        "start_time": "2023-11-12T10:37:58.081Z"
      },
      {
        "duration": 4,
        "start_time": "2023-11-12T10:38:14.257Z"
      },
      {
        "duration": 917,
        "start_time": "2023-11-12T10:38:14.262Z"
      },
      {
        "duration": 38,
        "start_time": "2023-11-12T10:38:15.181Z"
      },
      {
        "duration": 7,
        "start_time": "2023-11-12T10:38:15.220Z"
      },
      {
        "duration": 11,
        "start_time": "2023-11-12T10:38:15.229Z"
      },
      {
        "duration": 7,
        "start_time": "2023-11-12T10:38:15.242Z"
      },
      {
        "duration": 274,
        "start_time": "2023-11-12T10:38:15.251Z"
      },
      {
        "duration": 36,
        "start_time": "2023-11-12T10:38:15.527Z"
      },
      {
        "duration": 11,
        "start_time": "2023-11-12T10:38:17.320Z"
      },
      {
        "duration": 13,
        "start_time": "2023-11-12T10:38:39.297Z"
      },
      {
        "duration": 95106,
        "start_time": "2023-11-12T10:40:10.345Z"
      },
      {
        "duration": 16,
        "start_time": "2023-11-12T10:42:15.046Z"
      },
      {
        "duration": 36,
        "start_time": "2023-11-12T10:42:43.110Z"
      },
      {
        "duration": 56,
        "start_time": "2023-11-12T10:42:55.632Z"
      },
      {
        "duration": 18,
        "start_time": "2023-11-12T10:43:46.286Z"
      },
      {
        "duration": 68,
        "start_time": "2023-11-12T10:44:39.877Z"
      },
      {
        "duration": 9,
        "start_time": "2023-11-12T10:45:57.668Z"
      },
      {
        "duration": 3,
        "start_time": "2023-11-12T10:46:02.635Z"
      },
      {
        "duration": 6493,
        "start_time": "2023-11-12T10:46:03.572Z"
      },
      {
        "duration": 6871,
        "start_time": "2023-11-12T10:46:17.116Z"
      },
      {
        "duration": 6635,
        "start_time": "2023-11-12T10:46:30.740Z"
      },
      {
        "duration": 2,
        "start_time": "2023-11-12T10:47:05.820Z"
      },
      {
        "duration": 1445,
        "start_time": "2023-11-12T10:49:21.249Z"
      },
      {
        "duration": 1001,
        "start_time": "2023-11-12T10:49:22.696Z"
      },
      {
        "duration": 37,
        "start_time": "2023-11-12T10:49:23.699Z"
      },
      {
        "duration": 14,
        "start_time": "2023-11-12T10:49:23.738Z"
      },
      {
        "duration": 10,
        "start_time": "2023-11-12T10:49:23.754Z"
      },
      {
        "duration": 7,
        "start_time": "2023-11-12T10:49:23.766Z"
      },
      {
        "duration": 258,
        "start_time": "2023-11-12T10:49:23.775Z"
      },
      {
        "duration": 38,
        "start_time": "2023-11-12T10:49:24.034Z"
      },
      {
        "duration": 92938,
        "start_time": "2023-11-12T10:49:24.074Z"
      },
      {
        "duration": 51,
        "start_time": "2023-11-12T10:50:57.014Z"
      },
      {
        "duration": 103,
        "start_time": "2023-11-12T10:50:57.067Z"
      },
      {
        "duration": 2,
        "start_time": "2023-11-12T10:50:57.172Z"
      },
      {
        "duration": 6637,
        "start_time": "2023-11-12T10:50:57.176Z"
      },
      {
        "duration": 1473,
        "start_time": "2023-11-12T10:51:03.816Z"
      },
      {
        "duration": 3,
        "start_time": "2023-11-12T10:51:05.291Z"
      },
      {
        "duration": 7,
        "start_time": "2023-11-12T10:53:25.342Z"
      },
      {
        "duration": 4,
        "start_time": "2023-11-12T10:56:21.117Z"
      },
      {
        "duration": 52256,
        "start_time": "2023-11-12T10:58:09.971Z"
      },
      {
        "duration": 4,
        "start_time": "2023-11-12T10:59:38.259Z"
      },
      {
        "duration": 189642,
        "start_time": "2023-11-12T10:59:44.195Z"
      },
      {
        "duration": 184,
        "start_time": "2023-11-12T11:03:08.921Z"
      },
      {
        "duration": 5,
        "start_time": "2023-11-12T11:03:12.505Z"
      },
      {
        "duration": 4,
        "start_time": "2023-11-12T11:03:16.752Z"
      },
      {
        "duration": 4,
        "start_time": "2023-11-12T11:03:24.689Z"
      },
      {
        "duration": 4,
        "start_time": "2023-11-12T11:03:31.016Z"
      },
      {
        "duration": 4,
        "start_time": "2023-11-12T11:03:36.080Z"
      },
      {
        "duration": 4,
        "start_time": "2023-11-12T11:03:39.760Z"
      },
      {
        "duration": 4,
        "start_time": "2023-11-12T11:03:45.856Z"
      },
      {
        "duration": 12,
        "start_time": "2023-11-12T11:03:54.969Z"
      },
      {
        "duration": 9,
        "start_time": "2023-11-12T11:04:01.425Z"
      },
      {
        "duration": 4,
        "start_time": "2023-11-12T11:04:05.312Z"
      },
      {
        "duration": 3,
        "start_time": "2023-11-12T11:04:49.472Z"
      },
      {
        "duration": 3,
        "start_time": "2023-11-12T11:04:56.552Z"
      },
      {
        "duration": 197390,
        "start_time": "2023-11-12T11:05:00.127Z"
      },
      {
        "duration": 5,
        "start_time": "2023-11-12T11:12:00.531Z"
      },
      {
        "duration": 121869,
        "start_time": "2023-11-12T11:12:23.564Z"
      },
      {
        "duration": 11262,
        "start_time": "2023-11-12T11:14:30.225Z"
      },
      {
        "duration": 293268,
        "start_time": "2023-11-12T11:16:40.993Z"
      },
      {
        "duration": 15,
        "start_time": "2023-11-12T11:22:10.074Z"
      },
      {
        "duration": 0,
        "start_time": "2023-11-12T11:22:10.092Z"
      },
      {
        "duration": 0,
        "start_time": "2023-11-12T11:22:10.095Z"
      },
      {
        "duration": 0,
        "start_time": "2023-11-12T11:22:10.097Z"
      },
      {
        "duration": 0,
        "start_time": "2023-11-12T11:22:10.098Z"
      },
      {
        "duration": 0,
        "start_time": "2023-11-12T11:22:10.099Z"
      },
      {
        "duration": 0,
        "start_time": "2023-11-12T11:22:10.100Z"
      },
      {
        "duration": 0,
        "start_time": "2023-11-12T11:22:10.101Z"
      },
      {
        "duration": 0,
        "start_time": "2023-11-12T11:22:10.102Z"
      },
      {
        "duration": 0,
        "start_time": "2023-11-12T11:22:10.104Z"
      },
      {
        "duration": 0,
        "start_time": "2023-11-12T11:22:10.105Z"
      },
      {
        "duration": 0,
        "start_time": "2023-11-12T11:22:10.106Z"
      },
      {
        "duration": 0,
        "start_time": "2023-11-12T11:22:10.107Z"
      },
      {
        "duration": 0,
        "start_time": "2023-11-12T11:22:10.108Z"
      },
      {
        "duration": 0,
        "start_time": "2023-11-12T11:22:10.110Z"
      },
      {
        "duration": 0,
        "start_time": "2023-11-12T11:22:10.112Z"
      },
      {
        "duration": 0,
        "start_time": "2023-11-12T11:22:10.113Z"
      },
      {
        "duration": 0,
        "start_time": "2023-11-12T11:22:10.115Z"
      },
      {
        "duration": 0,
        "start_time": "2023-11-12T11:22:10.117Z"
      },
      {
        "duration": 0,
        "start_time": "2023-11-12T11:22:10.118Z"
      },
      {
        "duration": 0,
        "start_time": "2023-11-12T11:22:10.119Z"
      },
      {
        "duration": 83,
        "start_time": "2023-11-12T11:22:44.781Z"
      },
      {
        "duration": 929,
        "start_time": "2023-11-12T11:22:44.866Z"
      },
      {
        "duration": 34,
        "start_time": "2023-11-12T11:22:45.797Z"
      },
      {
        "duration": 8,
        "start_time": "2023-11-12T11:22:45.832Z"
      },
      {
        "duration": 16,
        "start_time": "2023-11-12T11:22:45.843Z"
      },
      {
        "duration": 9,
        "start_time": "2023-11-12T11:22:45.861Z"
      },
      {
        "duration": 246,
        "start_time": "2023-11-12T11:22:45.872Z"
      },
      {
        "duration": 36,
        "start_time": "2023-11-12T11:22:46.120Z"
      },
      {
        "duration": 121470,
        "start_time": "2023-11-12T11:22:46.158Z"
      },
      {
        "duration": 60,
        "start_time": "2023-11-12T11:24:47.630Z"
      },
      {
        "duration": 185,
        "start_time": "2023-11-12T11:24:47.692Z"
      },
      {
        "duration": 19,
        "start_time": "2023-11-12T11:24:47.879Z"
      },
      {
        "duration": 7156,
        "start_time": "2023-11-12T11:24:47.899Z"
      },
      {
        "duration": 1624,
        "start_time": "2023-11-12T11:24:55.057Z"
      },
      {
        "duration": 3,
        "start_time": "2023-11-12T11:24:56.683Z"
      },
      {
        "duration": 8,
        "start_time": "2023-11-12T11:24:56.688Z"
      },
      {
        "duration": 16,
        "start_time": "2023-11-12T11:24:56.697Z"
      },
      {
        "duration": 5,
        "start_time": "2023-11-12T11:24:56.715Z"
      },
      {
        "duration": 1439,
        "start_time": "2023-11-12T11:26:48.857Z"
      },
      {
        "duration": 984,
        "start_time": "2023-11-12T11:26:50.298Z"
      },
      {
        "duration": 41,
        "start_time": "2023-11-12T11:26:51.283Z"
      },
      {
        "duration": 15,
        "start_time": "2023-11-12T11:26:51.326Z"
      },
      {
        "duration": 16,
        "start_time": "2023-11-12T11:26:51.344Z"
      },
      {
        "duration": 8,
        "start_time": "2023-11-12T11:26:51.362Z"
      },
      {
        "duration": 266,
        "start_time": "2023-11-12T11:26:51.372Z"
      },
      {
        "duration": 40,
        "start_time": "2023-11-12T11:26:51.640Z"
      },
      {
        "duration": 102109,
        "start_time": "2023-11-12T11:26:51.682Z"
      },
      {
        "duration": 62,
        "start_time": "2023-11-12T11:28:33.792Z"
      },
      {
        "duration": 103,
        "start_time": "2023-11-12T11:28:33.856Z"
      },
      {
        "duration": 3,
        "start_time": "2023-11-12T11:28:33.960Z"
      },
      {
        "duration": 6463,
        "start_time": "2023-11-12T11:28:33.964Z"
      },
      {
        "duration": 1508,
        "start_time": "2023-11-12T11:28:40.429Z"
      },
      {
        "duration": 3,
        "start_time": "2023-11-12T11:28:41.939Z"
      },
      {
        "duration": 9,
        "start_time": "2023-11-12T11:28:41.944Z"
      },
      {
        "duration": 4,
        "start_time": "2023-11-12T11:28:41.954Z"
      },
      {
        "duration": 199569,
        "start_time": "2023-11-12T11:28:41.959Z"
      },
      {
        "duration": 119010,
        "start_time": "2023-11-12T11:32:01.530Z"
      },
      {
        "duration": 12036,
        "start_time": "2023-11-12T11:34:00.541Z"
      },
      {
        "duration": 1475,
        "start_time": "2023-11-12T11:44:54.124Z"
      },
      {
        "duration": 981,
        "start_time": "2023-11-12T11:44:55.601Z"
      },
      {
        "duration": 35,
        "start_time": "2023-11-12T11:44:56.584Z"
      },
      {
        "duration": 13,
        "start_time": "2023-11-12T11:44:56.620Z"
      },
      {
        "duration": 10,
        "start_time": "2023-11-12T11:44:56.635Z"
      },
      {
        "duration": 14,
        "start_time": "2023-11-12T11:44:56.646Z"
      },
      {
        "duration": 250,
        "start_time": "2023-11-12T11:44:56.661Z"
      },
      {
        "duration": 37,
        "start_time": "2023-11-12T11:44:56.913Z"
      },
      {
        "duration": 103498,
        "start_time": "2023-11-12T11:44:56.952Z"
      },
      {
        "duration": 69,
        "start_time": "2023-11-12T11:46:40.453Z"
      },
      {
        "duration": 103,
        "start_time": "2023-11-12T11:46:40.524Z"
      },
      {
        "duration": 3,
        "start_time": "2023-11-12T11:46:40.628Z"
      },
      {
        "duration": 6624,
        "start_time": "2023-11-12T11:46:40.632Z"
      },
      {
        "duration": 1532,
        "start_time": "2023-11-12T11:46:47.259Z"
      },
      {
        "duration": 3,
        "start_time": "2023-11-12T11:46:48.792Z"
      },
      {
        "duration": 16,
        "start_time": "2023-11-12T11:46:48.796Z"
      },
      {
        "duration": 9,
        "start_time": "2023-11-12T11:46:48.814Z"
      },
      {
        "duration": 204920,
        "start_time": "2023-11-12T11:46:48.824Z"
      },
      {
        "duration": 120043,
        "start_time": "2023-11-12T11:50:13.746Z"
      },
      {
        "duration": 10861,
        "start_time": "2023-11-12T11:52:13.790Z"
      },
      {
        "duration": 207295,
        "start_time": "2023-11-12T11:52:24.652Z"
      },
      {
        "duration": 9,
        "start_time": "2023-11-12T11:55:51.949Z"
      },
      {
        "duration": 156,
        "start_time": "2023-11-12T11:55:51.960Z"
      },
      {
        "duration": 6,
        "start_time": "2023-11-12T11:56:15.144Z"
      },
      {
        "duration": 18,
        "start_time": "2023-11-12T11:56:16.719Z"
      },
      {
        "duration": 330902,
        "start_time": "2023-11-12T11:56:32.240Z"
      },
      {
        "duration": 1483,
        "start_time": "2023-11-12T12:03:24.492Z"
      },
      {
        "duration": 1022,
        "start_time": "2023-11-12T12:03:25.977Z"
      },
      {
        "duration": 37,
        "start_time": "2023-11-12T12:03:27.001Z"
      },
      {
        "duration": 14,
        "start_time": "2023-11-12T12:03:27.040Z"
      },
      {
        "duration": 10,
        "start_time": "2023-11-12T12:03:27.057Z"
      },
      {
        "duration": 9,
        "start_time": "2023-11-12T12:03:27.069Z"
      },
      {
        "duration": 255,
        "start_time": "2023-11-12T12:03:27.079Z"
      },
      {
        "duration": 39,
        "start_time": "2023-11-12T12:03:27.335Z"
      },
      {
        "duration": 106762,
        "start_time": "2023-11-12T12:03:27.375Z"
      },
      {
        "duration": 54,
        "start_time": "2023-11-12T12:05:14.138Z"
      },
      {
        "duration": 107,
        "start_time": "2023-11-12T12:05:14.193Z"
      },
      {
        "duration": 11,
        "start_time": "2023-11-12T12:05:14.301Z"
      },
      {
        "duration": 6609,
        "start_time": "2023-11-12T12:05:14.313Z"
      },
      {
        "duration": 1570,
        "start_time": "2023-11-12T12:05:20.925Z"
      },
      {
        "duration": 3,
        "start_time": "2023-11-12T12:05:22.497Z"
      },
      {
        "duration": 13,
        "start_time": "2023-11-12T12:05:22.501Z"
      },
      {
        "duration": 13,
        "start_time": "2023-11-12T12:05:22.516Z"
      },
      {
        "duration": 198815,
        "start_time": "2023-11-12T12:05:22.531Z"
      },
      {
        "duration": 1404904,
        "start_time": "2023-11-12T12:08:41.348Z"
      },
      {
        "duration": 2430,
        "start_time": "2023-11-12T12:32:06.254Z"
      },
      {
        "duration": 648540,
        "start_time": "2023-11-12T12:32:08.686Z"
      },
      {
        "duration": 6,
        "start_time": "2023-11-12T12:42:57.227Z"
      },
      {
        "duration": 394,
        "start_time": "2023-11-12T12:42:57.235Z"
      },
      {
        "duration": 6,
        "start_time": "2023-11-12T13:50:22.385Z"
      },
      {
        "duration": 1211,
        "start_time": "2023-11-12T13:52:06.153Z"
      },
      {
        "duration": 8,
        "start_time": "2023-11-12T13:52:53.976Z"
      },
      {
        "duration": 2,
        "start_time": "2023-11-12T13:53:19.799Z"
      },
      {
        "duration": 5,
        "start_time": "2023-11-12T13:53:24.471Z"
      },
      {
        "duration": 10,
        "start_time": "2023-11-12T13:54:52.936Z"
      },
      {
        "duration": 89,
        "start_time": "2023-11-12T13:56:48.339Z"
      },
      {
        "duration": 11,
        "start_time": "2023-11-12T13:58:38.981Z"
      },
      {
        "duration": 1515,
        "start_time": "2023-11-12T13:59:39.185Z"
      },
      {
        "duration": 1013,
        "start_time": "2023-11-12T13:59:40.702Z"
      },
      {
        "duration": 42,
        "start_time": "2023-11-12T13:59:41.717Z"
      },
      {
        "duration": 15,
        "start_time": "2023-11-12T13:59:41.762Z"
      },
      {
        "duration": 31,
        "start_time": "2023-11-12T13:59:41.780Z"
      },
      {
        "duration": 8,
        "start_time": "2023-11-12T13:59:41.812Z"
      },
      {
        "duration": 257,
        "start_time": "2023-11-12T13:59:41.822Z"
      },
      {
        "duration": 54,
        "start_time": "2023-11-12T13:59:42.081Z"
      },
      {
        "duration": 104038,
        "start_time": "2023-11-12T13:59:42.137Z"
      },
      {
        "duration": 67,
        "start_time": "2023-11-12T14:01:26.177Z"
      },
      {
        "duration": 8,
        "start_time": "2023-11-12T14:01:26.246Z"
      },
      {
        "duration": 4,
        "start_time": "2023-11-12T14:01:26.255Z"
      },
      {
        "duration": 116,
        "start_time": "2023-11-12T14:01:26.261Z"
      },
      {
        "duration": 3,
        "start_time": "2023-11-12T14:01:26.381Z"
      },
      {
        "duration": 6681,
        "start_time": "2023-11-12T14:01:26.386Z"
      },
      {
        "duration": 1528,
        "start_time": "2023-11-12T14:01:33.069Z"
      },
      {
        "duration": 3,
        "start_time": "2023-11-12T14:01:34.599Z"
      },
      {
        "duration": 23,
        "start_time": "2023-11-12T14:01:34.603Z"
      },
      {
        "duration": 9,
        "start_time": "2023-11-12T14:01:34.627Z"
      },
      {
        "duration": 215499,
        "start_time": "2023-11-12T14:01:34.637Z"
      },
      {
        "duration": 1535313,
        "start_time": "2023-11-12T14:05:10.138Z"
      },
      {
        "duration": 43290,
        "start_time": "2023-11-12T14:30:45.453Z"
      },
      {
        "duration": 567355,
        "start_time": "2023-11-12T14:31:28.745Z"
      },
      {
        "duration": 309528,
        "start_time": "2023-11-12T14:40:56.101Z"
      },
      {
        "duration": 6144,
        "start_time": "2023-11-12T14:46:05.631Z"
      },
      {
        "duration": 7,
        "start_time": "2023-11-12T14:46:11.776Z"
      },
      {
        "duration": 173,
        "start_time": "2023-11-12T14:46:11.785Z"
      },
      {
        "duration": 3290,
        "start_time": "2023-11-12T14:54:21.228Z"
      },
      {
        "duration": 21,
        "start_time": "2023-11-12T14:54:31.944Z"
      },
      {
        "duration": 4,
        "start_time": "2023-11-12T15:07:19.295Z"
      },
      {
        "duration": 20,
        "start_time": "2023-11-12T15:10:16.531Z"
      },
      {
        "duration": 30,
        "start_time": "2023-11-12T15:10:21.947Z"
      },
      {
        "duration": 1446,
        "start_time": "2023-11-13T15:29:05.416Z"
      },
      {
        "duration": 2529,
        "start_time": "2023-11-13T15:29:06.864Z"
      },
      {
        "duration": 34,
        "start_time": "2023-11-13T15:29:09.395Z"
      },
      {
        "duration": 15,
        "start_time": "2023-11-13T15:29:09.430Z"
      },
      {
        "duration": 12,
        "start_time": "2023-11-13T15:29:09.447Z"
      },
      {
        "duration": 8,
        "start_time": "2023-11-13T15:29:09.460Z"
      },
      {
        "duration": 253,
        "start_time": "2023-11-13T15:29:09.470Z"
      },
      {
        "duration": 38,
        "start_time": "2023-11-13T15:29:09.725Z"
      },
      {
        "duration": 244,
        "start_time": "2023-11-13T15:29:32.148Z"
      },
      {
        "duration": 4,
        "start_time": "2023-11-13T15:29:36.437Z"
      },
      {
        "duration": 1775,
        "start_time": "2023-11-13T15:29:38.837Z"
      },
      {
        "duration": 94,
        "start_time": "2023-11-13T15:30:43.196Z"
      },
      {
        "duration": 4,
        "start_time": "2023-11-13T15:30:51.116Z"
      },
      {
        "duration": 682,
        "start_time": "2023-11-13T15:30:52.468Z"
      },
      {
        "duration": 4,
        "start_time": "2023-11-13T15:31:40.123Z"
      },
      {
        "duration": 93202,
        "start_time": "2023-11-13T15:31:44.348Z"
      },
      {
        "duration": 10,
        "start_time": "2023-11-13T15:34:07.625Z"
      },
      {
        "duration": 5,
        "start_time": "2023-11-13T15:34:14.626Z"
      },
      {
        "duration": 5,
        "start_time": "2023-11-13T15:36:46.145Z"
      },
      {
        "duration": 5,
        "start_time": "2023-11-13T15:38:29.654Z"
      },
      {
        "duration": 4,
        "start_time": "2023-11-13T15:38:52.407Z"
      },
      {
        "duration": 4,
        "start_time": "2023-11-13T15:38:56.310Z"
      },
      {
        "duration": 4,
        "start_time": "2023-11-13T15:44:13.611Z"
      },
      {
        "duration": 5,
        "start_time": "2023-11-13T15:44:16.146Z"
      },
      {
        "duration": 4,
        "start_time": "2023-11-13T15:45:20.219Z"
      },
      {
        "duration": 5,
        "start_time": "2023-11-13T15:45:24.586Z"
      },
      {
        "duration": 4,
        "start_time": "2023-11-13T15:45:48.266Z"
      },
      {
        "duration": 4,
        "start_time": "2023-11-13T15:45:50.322Z"
      },
      {
        "duration": 5,
        "start_time": "2023-11-13T15:45:53.738Z"
      },
      {
        "duration": 3,
        "start_time": "2023-11-13T15:47:13.665Z"
      },
      {
        "duration": 5,
        "start_time": "2023-11-13T15:47:15.441Z"
      },
      {
        "duration": 5,
        "start_time": "2023-11-13T15:47:18.112Z"
      },
      {
        "duration": 5,
        "start_time": "2023-11-13T15:50:58.367Z"
      },
      {
        "duration": 4,
        "start_time": "2023-11-13T15:51:03.463Z"
      },
      {
        "duration": 5,
        "start_time": "2023-11-13T15:51:07.254Z"
      },
      {
        "duration": 5,
        "start_time": "2023-11-13T15:51:09.022Z"
      },
      {
        "duration": 4,
        "start_time": "2023-11-13T15:51:16.335Z"
      },
      {
        "duration": 6,
        "start_time": "2023-11-13T15:51:20.110Z"
      },
      {
        "duration": 1331,
        "start_time": "2023-11-13T16:47:13.228Z"
      },
      {
        "duration": 2400,
        "start_time": "2023-11-13T16:47:14.561Z"
      },
      {
        "duration": 37,
        "start_time": "2023-11-13T16:47:16.963Z"
      },
      {
        "duration": 23,
        "start_time": "2023-11-13T16:47:17.001Z"
      },
      {
        "duration": 59,
        "start_time": "2023-11-13T16:47:17.026Z"
      },
      {
        "duration": 15,
        "start_time": "2023-11-13T16:47:17.087Z"
      },
      {
        "duration": 222,
        "start_time": "2023-11-13T16:47:17.104Z"
      },
      {
        "duration": 48,
        "start_time": "2023-11-13T16:47:17.327Z"
      },
      {
        "duration": 153,
        "start_time": "2023-11-13T16:47:17.378Z"
      },
      {
        "duration": 7,
        "start_time": "2023-11-13T16:47:21.672Z"
      },
      {
        "duration": 140,
        "start_time": "2023-11-13T16:47:25.060Z"
      },
      {
        "duration": 5,
        "start_time": "2023-11-13T16:47:46.339Z"
      },
      {
        "duration": 18,
        "start_time": "2023-11-13T16:47:48.739Z"
      },
      {
        "duration": 4,
        "start_time": "2023-11-13T16:48:01.243Z"
      },
      {
        "duration": 1180,
        "start_time": "2023-11-13T16:48:03.724Z"
      },
      {
        "duration": 4,
        "start_time": "2023-11-13T16:48:16.947Z"
      },
      {
        "duration": 5,
        "start_time": "2023-11-13T16:48:19.579Z"
      },
      {
        "duration": 5,
        "start_time": "2023-11-13T16:51:17.849Z"
      },
      {
        "duration": 22,
        "start_time": "2023-11-13T16:51:22.138Z"
      },
      {
        "duration": 4,
        "start_time": "2023-11-13T16:51:52.960Z"
      },
      {
        "duration": 3,
        "start_time": "2023-11-13T16:51:54.120Z"
      },
      {
        "duration": 4,
        "start_time": "2023-11-13T16:51:55.840Z"
      },
      {
        "duration": 23,
        "start_time": "2023-11-13T16:51:58.249Z"
      },
      {
        "duration": 3,
        "start_time": "2023-11-13T16:52:45.976Z"
      },
      {
        "duration": 5,
        "start_time": "2023-11-13T16:52:47.199Z"
      },
      {
        "duration": 22,
        "start_time": "2023-11-13T16:52:49.743Z"
      },
      {
        "duration": 23,
        "start_time": "2023-11-13T16:53:42.696Z"
      },
      {
        "duration": 299,
        "start_time": "2023-11-13T16:54:07.743Z"
      },
      {
        "duration": 3,
        "start_time": "2023-11-13T16:54:11.007Z"
      },
      {
        "duration": 4,
        "start_time": "2023-11-13T16:54:12.040Z"
      },
      {
        "duration": 114,
        "start_time": "2023-11-13T16:54:15.463Z"
      },
      {
        "duration": 9,
        "start_time": "2023-11-13T16:54:21.159Z"
      },
      {
        "duration": 3,
        "start_time": "2023-11-13T16:54:54.183Z"
      },
      {
        "duration": 1416,
        "start_time": "2023-11-13T16:59:50.228Z"
      },
      {
        "duration": 881,
        "start_time": "2023-11-13T16:59:51.646Z"
      },
      {
        "duration": 40,
        "start_time": "2023-11-13T16:59:52.529Z"
      },
      {
        "duration": 18,
        "start_time": "2023-11-13T16:59:52.571Z"
      },
      {
        "duration": 27,
        "start_time": "2023-11-13T16:59:52.591Z"
      },
      {
        "duration": 27,
        "start_time": "2023-11-13T16:59:52.620Z"
      },
      {
        "duration": 243,
        "start_time": "2023-11-13T16:59:52.649Z"
      },
      {
        "duration": 38,
        "start_time": "2023-11-13T16:59:52.893Z"
      },
      {
        "duration": 214,
        "start_time": "2023-11-13T16:59:52.932Z"
      },
      {
        "duration": 3,
        "start_time": "2023-11-13T16:59:53.148Z"
      },
      {
        "duration": 27,
        "start_time": "2023-11-13T16:59:53.153Z"
      },
      {
        "duration": 1377,
        "start_time": "2023-11-13T17:18:05.004Z"
      },
      {
        "duration": 3253,
        "start_time": "2023-11-13T17:18:06.384Z"
      },
      {
        "duration": 29,
        "start_time": "2023-11-13T17:18:09.639Z"
      },
      {
        "duration": 31,
        "start_time": "2023-11-13T17:18:09.670Z"
      },
      {
        "duration": 32,
        "start_time": "2023-11-13T17:18:09.703Z"
      },
      {
        "duration": 29,
        "start_time": "2023-11-13T17:18:09.736Z"
      },
      {
        "duration": 230,
        "start_time": "2023-11-13T17:18:09.766Z"
      },
      {
        "duration": 35,
        "start_time": "2023-11-13T17:18:09.997Z"
      },
      {
        "duration": 670,
        "start_time": "2023-11-13T17:18:10.033Z"
      },
      {
        "duration": 4,
        "start_time": "2023-11-13T17:18:10.705Z"
      },
      {
        "duration": 46,
        "start_time": "2023-11-13T17:18:10.710Z"
      },
      {
        "duration": 55,
        "start_time": "2023-11-13T17:18:10.757Z"
      },
      {
        "duration": 112,
        "start_time": "2023-11-13T17:18:45.601Z"
      },
      {
        "duration": 12,
        "start_time": "2023-11-13T17:18:55.161Z"
      },
      {
        "duration": 16,
        "start_time": "2023-11-13T17:18:59.217Z"
      },
      {
        "duration": 1313,
        "start_time": "2023-11-13T17:19:09.432Z"
      },
      {
        "duration": 16,
        "start_time": "2023-11-13T17:19:26.944Z"
      },
      {
        "duration": 2,
        "start_time": "2023-11-13T17:19:30.160Z"
      },
      {
        "duration": 2,
        "start_time": "2023-11-13T17:19:32.503Z"
      },
      {
        "duration": 4,
        "start_time": "2023-11-13T17:19:33.480Z"
      },
      {
        "duration": 15,
        "start_time": "2023-11-13T17:19:35.423Z"
      },
      {
        "duration": 3,
        "start_time": "2023-11-13T17:20:03.191Z"
      },
      {
        "duration": 16,
        "start_time": "2023-11-13T17:20:36.271Z"
      },
      {
        "duration": 5,
        "start_time": "2023-11-13T17:20:40.528Z"
      },
      {
        "duration": 6,
        "start_time": "2023-11-13T17:20:42.080Z"
      },
      {
        "duration": 1313,
        "start_time": "2023-11-13T17:22:34.678Z"
      },
      {
        "duration": 4,
        "start_time": "2023-11-13T17:22:42.686Z"
      },
      {
        "duration": 947,
        "start_time": "2023-11-13T17:22:42.691Z"
      },
      {
        "duration": 37,
        "start_time": "2023-11-13T17:22:43.640Z"
      },
      {
        "duration": 13,
        "start_time": "2023-11-13T17:22:43.679Z"
      },
      {
        "duration": 9,
        "start_time": "2023-11-13T17:22:43.694Z"
      },
      {
        "duration": 24,
        "start_time": "2023-11-13T17:22:43.704Z"
      },
      {
        "duration": 225,
        "start_time": "2023-11-13T17:22:43.729Z"
      },
      {
        "duration": 33,
        "start_time": "2023-11-13T17:22:43.956Z"
      },
      {
        "duration": 156,
        "start_time": "2023-11-13T17:22:43.990Z"
      },
      {
        "duration": 3,
        "start_time": "2023-11-13T17:22:44.148Z"
      },
      {
        "duration": 5,
        "start_time": "2023-11-13T17:22:44.152Z"
      },
      {
        "duration": 14,
        "start_time": "2023-11-13T17:22:44.158Z"
      },
      {
        "duration": 829544,
        "start_time": "2023-11-13T17:22:47.146Z"
      },
      {
        "duration": 56,
        "start_time": "2023-11-13T17:40:14.275Z"
      },
      {
        "duration": 7,
        "start_time": "2023-11-13T17:40:16.578Z"
      },
      {
        "duration": 3,
        "start_time": "2023-11-13T17:40:17.579Z"
      },
      {
        "duration": 79,
        "start_time": "2023-11-13T17:40:20.010Z"
      },
      {
        "duration": 2,
        "start_time": "2023-11-13T17:40:21.506Z"
      },
      {
        "duration": 3419,
        "start_time": "2023-11-13T17:40:22.866Z"
      },
      {
        "duration": 769,
        "start_time": "2023-11-13T17:40:29.594Z"
      },
      {
        "duration": 3,
        "start_time": "2023-11-13T17:40:33.266Z"
      },
      {
        "duration": 7,
        "start_time": "2023-11-13T17:40:34.898Z"
      },
      {
        "duration": 3,
        "start_time": "2023-11-13T17:40:36.642Z"
      },
      {
        "duration": 170118,
        "start_time": "2023-11-13T17:40:38.250Z"
      },
      {
        "duration": 1351,
        "start_time": "2023-11-13T17:45:54.440Z"
      },
      {
        "duration": 1005,
        "start_time": "2023-11-13T17:45:55.793Z"
      },
      {
        "duration": 26,
        "start_time": "2023-11-13T17:45:56.800Z"
      },
      {
        "duration": 11,
        "start_time": "2023-11-13T17:45:56.828Z"
      },
      {
        "duration": 13,
        "start_time": "2023-11-13T17:45:56.840Z"
      },
      {
        "duration": 19,
        "start_time": "2023-11-13T17:45:56.854Z"
      },
      {
        "duration": 221,
        "start_time": "2023-11-13T17:45:56.875Z"
      },
      {
        "duration": 32,
        "start_time": "2023-11-13T17:45:57.097Z"
      },
      {
        "duration": 159,
        "start_time": "2023-11-13T17:45:57.131Z"
      },
      {
        "duration": 3,
        "start_time": "2023-11-13T17:45:57.291Z"
      },
      {
        "duration": 8,
        "start_time": "2023-11-13T17:45:57.295Z"
      },
      {
        "duration": 10,
        "start_time": "2023-11-13T17:45:57.304Z"
      },
      {
        "duration": 742150,
        "start_time": "2023-11-13T17:45:57.315Z"
      },
      {
        "duration": 50,
        "start_time": "2023-11-13T17:58:19.470Z"
      },
      {
        "duration": 6,
        "start_time": "2023-11-13T17:58:19.521Z"
      },
      {
        "duration": 3,
        "start_time": "2023-11-13T17:58:19.528Z"
      },
      {
        "duration": 105,
        "start_time": "2023-11-13T17:58:19.532Z"
      },
      {
        "duration": 2,
        "start_time": "2023-11-13T17:58:19.638Z"
      },
      {
        "duration": 3658,
        "start_time": "2023-11-13T17:58:19.641Z"
      },
      {
        "duration": 807,
        "start_time": "2023-11-13T17:58:23.301Z"
      },
      {
        "duration": 2,
        "start_time": "2023-11-13T17:58:24.109Z"
      },
      {
        "duration": 8,
        "start_time": "2023-11-13T17:58:24.113Z"
      },
      {
        "duration": 5,
        "start_time": "2023-11-13T17:58:24.122Z"
      },
      {
        "duration": 162464,
        "start_time": "2023-11-13T17:58:24.128Z"
      },
      {
        "duration": 1174830,
        "start_time": "2023-11-13T18:01:06.593Z"
      },
      {
        "duration": 30371,
        "start_time": "2023-11-13T18:20:41.425Z"
      },
      {
        "duration": 386739,
        "start_time": "2023-11-13T18:21:11.797Z"
      },
      {
        "duration": 205052,
        "start_time": "2023-11-13T18:27:38.537Z"
      },
      {
        "duration": 2737,
        "start_time": "2023-11-13T18:31:03.590Z"
      },
      {
        "duration": 5,
        "start_time": "2023-11-13T18:31:06.329Z"
      },
      {
        "duration": 25,
        "start_time": "2023-11-13T18:31:06.336Z"
      },
      {
        "duration": 3,
        "start_time": "2023-11-13T18:31:06.362Z"
      },
      {
        "duration": 109,
        "start_time": "2023-11-13T18:35:39.986Z"
      },
      {
        "duration": 82,
        "start_time": "2023-11-13T18:37:44.727Z"
      }
    ],
    "kernelspec": {
      "display_name": "Python 3 (ipykernel)",
      "language": "python",
      "name": "python3"
    },
    "language_info": {
      "codemirror_mode": {
        "name": "ipython",
        "version": 3
      },
      "file_extension": ".py",
      "mimetype": "text/x-python",
      "name": "python",
      "nbconvert_exporter": "python",
      "pygments_lexer": "ipython3",
      "version": "3.9.5"
    },
    "toc": {
      "base_numbering": 1,
      "nav_menu": {},
      "number_sections": true,
      "sideBar": true,
      "skip_h1_title": true,
      "title_cell": "Содержание",
      "title_sidebar": "Contents",
      "toc_cell": true,
      "toc_position": {
        "height": "calc(100% - 180px)",
        "left": "10px",
        "top": "150px",
        "width": "302.391px"
      },
      "toc_section_display": true,
      "toc_window_display": false
    },
    "colab": {
      "provenance": []
    }
  },
  "nbformat": 4,
  "nbformat_minor": 0
}