{
  "cells": [
    {
      "cell_type": "markdown",
      "metadata": {
        "toc": true,
        "id": "tfCpmWbqOsMA"
      },
      "source": [
        "<h1>Содержание<span class=\"tocSkip\"></span></h1>\n",
        "<div class=\"toc\"><ul class=\"toc-item\"><li><span><a href=\"#Подготовка-данных\" data-toc-modified-id=\"Подготовка-данных-1\"><span class=\"toc-item-num\">1&nbsp;&nbsp;</span>Подготовка данных</a></span></li><li><span><a href=\"#Исследование-задачи\" data-toc-modified-id=\"Исследование-задачи-2\"><span class=\"toc-item-num\">2&nbsp;&nbsp;</span>Исследование задачи</a></span></li><li><span><a href=\"#Борьба-с-дисбалансом\" data-toc-modified-id=\"Борьба-с-дисбалансом-3\"><span class=\"toc-item-num\">3&nbsp;&nbsp;</span>Борьба с дисбалансом</a></span></li><li><span><a href=\"#Тестирование-модели\" data-toc-modified-id=\"Тестирование-модели-4\"><span class=\"toc-item-num\">4&nbsp;&nbsp;</span>Тестирование модели</a></span></li><li><span><a href=\"#Чек-лист-готовности-проекта\" data-toc-modified-id=\"Чек-лист-готовности-проекта-5\"><span class=\"toc-item-num\">5&nbsp;&nbsp;</span>Чек-лист готовности проекта</a></span></li></ul></div>"
      ]
    },
    {
      "cell_type": "markdown",
      "metadata": {
        "id": "Yqd1JL5iOsMA"
      },
      "source": [
        "# Отток клиентов"
      ]
    },
    {
      "cell_type": "markdown",
      "metadata": {
        "id": "f8MYMRCIOsMB"
      },
      "source": [
        "Из «Бета-Банка» стали уходить клиенты. Каждый месяц. Немного, но заметно. Банковские маркетологи посчитали: сохранять текущих клиентов дешевле, чем привлекать новых.\n",
        "\n",
        "Нужно спрогнозировать, уйдёт клиент из банка в ближайшее время или нет. Вам предоставлены исторические данные о поведении клиентов и расторжении договоров с банком.\n",
        "\n",
        "Постройте модель с предельно большим значением *F1*-меры. Чтобы сдать проект успешно, нужно довести метрику до 0.59. Проверьте *F1*-меру на тестовой выборке самостоятельно.\n",
        "\n",
        "Дополнительно измеряйте *AUC-ROC*, сравнивайте её значение с *F1*-мерой.\n",
        "\n",
        "Источник данных: [https://www.kaggle.com/barelydedicated/bank-customer-churn-modeling](https://www.kaggle.com/barelydedicated/bank-customer-churn-modeling)"
      ]
    },
    {
      "cell_type": "code",
      "execution_count": null,
      "metadata": {
        "id": "dU3pbNyaOsMB"
      },
      "outputs": [],
      "source": [
        "import pandas as pd\n",
        "import matplotlib.pyplot as plt\n",
        "import numpy as np\n",
        "from sklearn.preprocessing import OrdinalEncoder\n",
        "from sklearn.preprocessing import StandardScaler\n",
        "from sklearn.model_selection import train_test_split\n",
        "from sklearn.metrics import f1_score\n",
        "from sklearn.metrics import roc_auc_score\n",
        "from sklearn.ensemble import RandomForestClassifier\n",
        "from sklearn.tree import DecisionTreeClassifier\n",
        "from sklearn.linear_model import LogisticRegression\n",
        "from sklearn.utils import shuffle"
      ]
    },
    {
      "cell_type": "markdown",
      "metadata": {
        "id": "avMT-IXEOsMC"
      },
      "source": [
        "## Подготовка данных"
      ]
    },
    {
      "cell_type": "code",
      "execution_count": null,
      "metadata": {
        "id": "-XIa_kEQOsMC",
        "outputId": "54514fbe-1884-40e1-ac4c-3c5479a0f9f2"
      },
      "outputs": [
        {
          "data": {
            "text/html": [
              "<div>\n",
              "<style scoped>\n",
              "    .dataframe tbody tr th:only-of-type {\n",
              "        vertical-align: middle;\n",
              "    }\n",
              "\n",
              "    .dataframe tbody tr th {\n",
              "        vertical-align: top;\n",
              "    }\n",
              "\n",
              "    .dataframe thead th {\n",
              "        text-align: right;\n",
              "    }\n",
              "</style>\n",
              "<table border=\"1\" class=\"dataframe\">\n",
              "  <thead>\n",
              "    <tr style=\"text-align: right;\">\n",
              "      <th></th>\n",
              "      <th>RowNumber</th>\n",
              "      <th>CustomerId</th>\n",
              "      <th>Surname</th>\n",
              "      <th>CreditScore</th>\n",
              "      <th>Geography</th>\n",
              "      <th>Gender</th>\n",
              "      <th>Age</th>\n",
              "      <th>Tenure</th>\n",
              "      <th>Balance</th>\n",
              "      <th>NumOfProducts</th>\n",
              "      <th>HasCrCard</th>\n",
              "      <th>IsActiveMember</th>\n",
              "      <th>EstimatedSalary</th>\n",
              "      <th>Exited</th>\n",
              "    </tr>\n",
              "  </thead>\n",
              "  <tbody>\n",
              "    <tr>\n",
              "      <th>0</th>\n",
              "      <td>1</td>\n",
              "      <td>15634602</td>\n",
              "      <td>Hargrave</td>\n",
              "      <td>619</td>\n",
              "      <td>France</td>\n",
              "      <td>Female</td>\n",
              "      <td>42</td>\n",
              "      <td>2.0</td>\n",
              "      <td>0.00</td>\n",
              "      <td>1</td>\n",
              "      <td>1</td>\n",
              "      <td>1</td>\n",
              "      <td>101348.88</td>\n",
              "      <td>1</td>\n",
              "    </tr>\n",
              "    <tr>\n",
              "      <th>1</th>\n",
              "      <td>2</td>\n",
              "      <td>15647311</td>\n",
              "      <td>Hill</td>\n",
              "      <td>608</td>\n",
              "      <td>Spain</td>\n",
              "      <td>Female</td>\n",
              "      <td>41</td>\n",
              "      <td>1.0</td>\n",
              "      <td>83807.86</td>\n",
              "      <td>1</td>\n",
              "      <td>0</td>\n",
              "      <td>1</td>\n",
              "      <td>112542.58</td>\n",
              "      <td>0</td>\n",
              "    </tr>\n",
              "    <tr>\n",
              "      <th>2</th>\n",
              "      <td>3</td>\n",
              "      <td>15619304</td>\n",
              "      <td>Onio</td>\n",
              "      <td>502</td>\n",
              "      <td>France</td>\n",
              "      <td>Female</td>\n",
              "      <td>42</td>\n",
              "      <td>8.0</td>\n",
              "      <td>159660.80</td>\n",
              "      <td>3</td>\n",
              "      <td>1</td>\n",
              "      <td>0</td>\n",
              "      <td>113931.57</td>\n",
              "      <td>1</td>\n",
              "    </tr>\n",
              "    <tr>\n",
              "      <th>3</th>\n",
              "      <td>4</td>\n",
              "      <td>15701354</td>\n",
              "      <td>Boni</td>\n",
              "      <td>699</td>\n",
              "      <td>France</td>\n",
              "      <td>Female</td>\n",
              "      <td>39</td>\n",
              "      <td>1.0</td>\n",
              "      <td>0.00</td>\n",
              "      <td>2</td>\n",
              "      <td>0</td>\n",
              "      <td>0</td>\n",
              "      <td>93826.63</td>\n",
              "      <td>0</td>\n",
              "    </tr>\n",
              "    <tr>\n",
              "      <th>4</th>\n",
              "      <td>5</td>\n",
              "      <td>15737888</td>\n",
              "      <td>Mitchell</td>\n",
              "      <td>850</td>\n",
              "      <td>Spain</td>\n",
              "      <td>Female</td>\n",
              "      <td>43</td>\n",
              "      <td>2.0</td>\n",
              "      <td>125510.82</td>\n",
              "      <td>1</td>\n",
              "      <td>1</td>\n",
              "      <td>1</td>\n",
              "      <td>79084.10</td>\n",
              "      <td>0</td>\n",
              "    </tr>\n",
              "  </tbody>\n",
              "</table>\n",
              "</div>"
            ],
            "text/plain": [
              "   RowNumber  CustomerId   Surname  CreditScore Geography  Gender  Age  \\\n",
              "0          1    15634602  Hargrave          619    France  Female   42   \n",
              "1          2    15647311      Hill          608     Spain  Female   41   \n",
              "2          3    15619304      Onio          502    France  Female   42   \n",
              "3          4    15701354      Boni          699    France  Female   39   \n",
              "4          5    15737888  Mitchell          850     Spain  Female   43   \n",
              "\n",
              "   Tenure    Balance  NumOfProducts  HasCrCard  IsActiveMember  \\\n",
              "0     2.0       0.00              1          1               1   \n",
              "1     1.0   83807.86              1          0               1   \n",
              "2     8.0  159660.80              3          1               0   \n",
              "3     1.0       0.00              2          0               0   \n",
              "4     2.0  125510.82              1          1               1   \n",
              "\n",
              "   EstimatedSalary  Exited  \n",
              "0        101348.88       1  \n",
              "1        112542.58       0  \n",
              "2        113931.57       1  \n",
              "3         93826.63       0  \n",
              "4         79084.10       0  "
            ]
          },
          "metadata": {},
          "output_type": "display_data"
        },
        {
          "name": "stdout",
          "output_type": "stream",
          "text": [
            "<class 'pandas.core.frame.DataFrame'>\n",
            "RangeIndex: 10000 entries, 0 to 9999\n",
            "Data columns (total 14 columns):\n",
            " #   Column           Non-Null Count  Dtype  \n",
            "---  ------           --------------  -----  \n",
            " 0   RowNumber        10000 non-null  int64  \n",
            " 1   CustomerId       10000 non-null  int64  \n",
            " 2   Surname          10000 non-null  object \n",
            " 3   CreditScore      10000 non-null  int64  \n",
            " 4   Geography        10000 non-null  object \n",
            " 5   Gender           10000 non-null  object \n",
            " 6   Age              10000 non-null  int64  \n",
            " 7   Tenure           9091 non-null   float64\n",
            " 8   Balance          10000 non-null  float64\n",
            " 9   NumOfProducts    10000 non-null  int64  \n",
            " 10  HasCrCard        10000 non-null  int64  \n",
            " 11  IsActiveMember   10000 non-null  int64  \n",
            " 12  EstimatedSalary  10000 non-null  float64\n",
            " 13  Exited           10000 non-null  int64  \n",
            "dtypes: float64(3), int64(8), object(3)\n",
            "memory usage: 1.1+ MB\n"
          ]
        }
      ],
      "source": [
        "data = pd.read_csv('/datasets/Churn.csv')\n",
        "display(data.head())\n",
        "data.info()"
      ]
    },
    {
      "cell_type": "markdown",
      "metadata": {
        "id": "H0l53ZolOsMD"
      },
      "source": [
        "К анализу предоставлены данные:\n",
        "\n",
        "**Признаки:**\n",
        "\n",
        "- `RowNumber` — индекс строки в данных\n",
        "- `CustomerId` — уникальный идентификатор клиента\n",
        "- `Surname` — фамилия\n",
        "- `CreditScore` — кредитный рейтинг\n",
        "- `Geography` — страна проживания\n",
        "- `Gender` — пол\n",
        "- `Age` — возраст\n",
        "- `Tenure` — сколько лет человек является клиентом банка\n",
        "- `Balance` — баланс на счёте\n",
        "- `NumOfProducts` — количество продуктов банка, используемых клиентом\n",
        "- `HasCrCard` — наличие кредитной карты\n",
        "- `IsActiveMember` — активность клиента\n",
        "- `EstimatedSalary` — предполагаемая зарплата\n",
        "\n",
        "**Целевой признак**\n",
        "\n",
        "`Exited` — факт ухода клиента"
      ]
    },
    {
      "cell_type": "markdown",
      "metadata": {
        "id": "ReSF4qmrOsMD"
      },
      "source": [
        "Есть незаполненные значения в колонке `Tenure`. Проверим какие значения кроме незаполеннных есть в этой колонке"
      ]
    },
    {
      "cell_type": "code",
      "execution_count": null,
      "metadata": {
        "id": "ANGjjiDKOsMD",
        "outputId": "9b2abdf8-9078-4ff0-849b-99c6c6ba8549"
      },
      "outputs": [
        {
          "data": {
            "text/plain": [
              "array([ 2.,  1.,  8.,  7.,  4.,  6.,  3., 10.,  5.,  9.,  0., nan])"
            ]
          },
          "execution_count": 3,
          "metadata": {},
          "output_type": "execute_result"
        }
      ],
      "source": [
        "data['Tenure'].unique()"
      ]
    },
    {
      "cell_type": "markdown",
      "metadata": {
        "id": "oVbKT5IWOsMD"
      },
      "source": [
        "Значение 0 есть отдельно, значит пустые значения не означают, что клиент является клиентом менее года. Вероятно произошла какая-то техническая проблема при подготовке данных для анализа. Проверим распределение по кредитному рейтингу (в нем обычно учитывается большое количество признаков в том числе и время обслуживания в банке), проверим соответствуют ли значения \"среднему по больнице\""
      ]
    },
    {
      "cell_type": "code",
      "execution_count": null,
      "metadata": {
        "id": "12ujJ35cOsME",
        "outputId": "60e03caf-efea-44b3-ccd4-2990ea9d3058"
      },
      "outputs": [
        {
          "data": {
            "text/html": [
              "<style  type=\"text/css\" >\n",
              "#T_844a6_row0_col0,#T_844a6_row1_col1,#T_844a6_row2_col2,#T_844a6_row3_col3,#T_844a6_row4_col4,#T_844a6_row5_col5,#T_844a6_row6_col6,#T_844a6_row7_col7,#T_844a6_row8_col8,#T_844a6_row9_col9,#T_844a6_row10_col10{\n",
              "            background-color:  #b40426;\n",
              "            color:  #f1f1f1;\n",
              "        }#T_844a6_row0_col1,#T_844a6_row0_col2,#T_844a6_row0_col4,#T_844a6_row2_col3,#T_844a6_row2_col9,#T_844a6_row5_col2,#T_844a6_row5_col4,#T_844a6_row6_col7,#T_844a6_row8_col0,#T_844a6_row9_col3{\n",
              "            background-color:  #4257c9;\n",
              "            color:  #f1f1f1;\n",
              "        }#T_844a6_row0_col3,#T_844a6_row5_col9,#T_844a6_row6_col2,#T_844a6_row6_col9{\n",
              "            background-color:  #445acc;\n",
              "            color:  #f1f1f1;\n",
              "        }#T_844a6_row0_col5,#T_844a6_row8_col5{\n",
              "            background-color:  #85a8fc;\n",
              "            color:  #000000;\n",
              "        }#T_844a6_row0_col6,#T_844a6_row2_col6,#T_844a6_row4_col6,#T_844a6_row8_col6{\n",
              "            background-color:  #89acfd;\n",
              "            color:  #000000;\n",
              "        }#T_844a6_row0_col7,#T_844a6_row1_col2,#T_844a6_row4_col2,#T_844a6_row6_col0,#T_844a6_row7_col2,#T_844a6_row8_col1{\n",
              "            background-color:  #4055c8;\n",
              "            color:  #f1f1f1;\n",
              "        }#T_844a6_row0_col8,#T_844a6_row6_col8{\n",
              "            background-color:  #6788ee;\n",
              "            color:  #000000;\n",
              "        }#T_844a6_row0_col9,#T_844a6_row3_col0,#T_844a6_row3_col9,#T_844a6_row5_col1,#T_844a6_row7_col0,#T_844a6_row7_col9,#T_844a6_row9_col7,#T_844a6_row10_col1,#T_844a6_row10_col4,#T_844a6_row10_col7{\n",
              "            background-color:  #3e51c5;\n",
              "            color:  #f1f1f1;\n",
              "        }#T_844a6_row0_col10{\n",
              "            background-color:  #6180e9;\n",
              "            color:  #000000;\n",
              "        }#T_844a6_row1_col0,#T_844a6_row2_col0,#T_844a6_row2_col1,#T_844a6_row2_col7,#T_844a6_row3_col2,#T_844a6_row3_col4,#T_844a6_row4_col3,#T_844a6_row7_col3{\n",
              "            background-color:  #3f53c6;\n",
              "            color:  #f1f1f1;\n",
              "        }#T_844a6_row1_col3,#T_844a6_row6_col4,#T_844a6_row9_col4{\n",
              "            background-color:  #465ecf;\n",
              "            color:  #f1f1f1;\n",
              "        }#T_844a6_row1_col4,#T_844a6_row5_col0,#T_844a6_row8_col7,#T_844a6_row9_col0{\n",
              "            background-color:  #3d50c3;\n",
              "            color:  #f1f1f1;\n",
              "        }#T_844a6_row1_col5,#T_844a6_row4_col5{\n",
              "            background-color:  #84a7fc;\n",
              "            color:  #000000;\n",
              "        }#T_844a6_row1_col6,#T_844a6_row9_col5,#T_844a6_row9_col6{\n",
              "            background-color:  #8badfd;\n",
              "            color:  #000000;\n",
              "        }#T_844a6_row1_col7,#T_844a6_row4_col1,#T_844a6_row5_col6,#T_844a6_row5_col7,#T_844a6_row6_col3,#T_844a6_row6_col5,#T_844a6_row7_col1,#T_844a6_row8_col4,#T_844a6_row8_col9,#T_844a6_row8_col10,#T_844a6_row10_col0,#T_844a6_row10_col2,#T_844a6_row10_col8{\n",
              "            background-color:  #3b4cc0;\n",
              "            color:  #f1f1f1;\n",
              "        }#T_844a6_row1_col8{\n",
              "            background-color:  #6485ec;\n",
              "            color:  #000000;\n",
              "        }#T_844a6_row1_col9,#T_844a6_row2_col4,#T_844a6_row3_col1,#T_844a6_row4_col9,#T_844a6_row9_col1,#T_844a6_row9_col2{\n",
              "            background-color:  #4358cb;\n",
              "            color:  #f1f1f1;\n",
              "        }#T_844a6_row1_col10,#T_844a6_row7_col8{\n",
              "            background-color:  #6282ea;\n",
              "            color:  #000000;\n",
              "        }#T_844a6_row2_col5{\n",
              "            background-color:  #86a9fc;\n",
              "            color:  #000000;\n",
              "        }#T_844a6_row2_col8{\n",
              "            background-color:  #6e90f2;\n",
              "            color:  #000000;\n",
              "        }#T_844a6_row2_col10,#T_844a6_row9_col8{\n",
              "            background-color:  #5e7de7;\n",
              "            color:  #000000;\n",
              "        }#T_844a6_row3_col5{\n",
              "            background-color:  #8fb1fe;\n",
              "            color:  #000000;\n",
              "        }#T_844a6_row3_col6{\n",
              "            background-color:  #7ea1fa;\n",
              "            color:  #000000;\n",
              "        }#T_844a6_row3_col7,#T_844a6_row4_col0{\n",
              "            background-color:  #3c4ec2;\n",
              "            color:  #f1f1f1;\n",
              "        }#T_844a6_row3_col8{\n",
              "            background-color:  #7da0f9;\n",
              "            color:  #000000;\n",
              "        }#T_844a6_row3_col10{\n",
              "            background-color:  #bad0f8;\n",
              "            color:  #000000;\n",
              "        }#T_844a6_row4_col7{\n",
              "            background-color:  #485fd1;\n",
              "            color:  #f1f1f1;\n",
              "        }#T_844a6_row4_col8{\n",
              "            background-color:  #5b7ae5;\n",
              "            color:  #000000;\n",
              "        }#T_844a6_row4_col10{\n",
              "            background-color:  #5f7fe8;\n",
              "            color:  #000000;\n",
              "        }#T_844a6_row5_col3{\n",
              "            background-color:  #4c66d6;\n",
              "            color:  #000000;\n",
              "        }#T_844a6_row5_col8,#T_844a6_row7_col10{\n",
              "            background-color:  #6384eb;\n",
              "            color:  #000000;\n",
              "        }#T_844a6_row5_col10,#T_844a6_row7_col6{\n",
              "            background-color:  #88abfd;\n",
              "            color:  #000000;\n",
              "        }#T_844a6_row6_col1,#T_844a6_row10_col9{\n",
              "            background-color:  #455cce;\n",
              "            color:  #f1f1f1;\n",
              "        }#T_844a6_row6_col10{\n",
              "            background-color:  #5673e0;\n",
              "            color:  #000000;\n",
              "        }#T_844a6_row7_col4{\n",
              "            background-color:  #4b64d5;\n",
              "            color:  #f1f1f1;\n",
              "        }#T_844a6_row7_col5{\n",
              "            background-color:  #81a4fb;\n",
              "            color:  #000000;\n",
              "        }#T_844a6_row8_col2{\n",
              "            background-color:  #4a63d3;\n",
              "            color:  #f1f1f1;\n",
              "        }#T_844a6_row8_col3{\n",
              "            background-color:  #5d7ce6;\n",
              "            color:  #000000;\n",
              "        }#T_844a6_row9_col10{\n",
              "            background-color:  #688aef;\n",
              "            color:  #000000;\n",
              "        }#T_844a6_row10_col3{\n",
              "            background-color:  #a1c0ff;\n",
              "            color:  #000000;\n",
              "        }#T_844a6_row10_col5{\n",
              "            background-color:  #a6c4fe;\n",
              "            color:  #000000;\n",
              "        }#T_844a6_row10_col6{\n",
              "            background-color:  #799cf8;\n",
              "            color:  #000000;\n",
              "        }</style><table id=\"T_844a6_\" ><thead>    <tr>        <th class=\"blank level0\" ></th>        <th class=\"col_heading level0 col0\" >RowNumber</th>        <th class=\"col_heading level0 col1\" >CustomerId</th>        <th class=\"col_heading level0 col2\" >CreditScore</th>        <th class=\"col_heading level0 col3\" >Age</th>        <th class=\"col_heading level0 col4\" >Tenure</th>        <th class=\"col_heading level0 col5\" >Balance</th>        <th class=\"col_heading level0 col6\" >NumOfProducts</th>        <th class=\"col_heading level0 col7\" >HasCrCard</th>        <th class=\"col_heading level0 col8\" >IsActiveMember</th>        <th class=\"col_heading level0 col9\" >EstimatedSalary</th>        <th class=\"col_heading level0 col10\" >Exited</th>    </tr></thead><tbody>\n",
              "                <tr>\n",
              "                        <th id=\"T_844a6_level0_row0\" class=\"row_heading level0 row0\" >RowNumber</th>\n",
              "                        <td id=\"T_844a6_row0_col0\" class=\"data row0 col0\" >1.000000</td>\n",
              "                        <td id=\"T_844a6_row0_col1\" class=\"data row0 col1\" >0.004289</td>\n",
              "                        <td id=\"T_844a6_row0_col2\" class=\"data row0 col2\" >0.002330</td>\n",
              "                        <td id=\"T_844a6_row0_col3\" class=\"data row0 col3\" >0.000681</td>\n",
              "                        <td id=\"T_844a6_row0_col4\" class=\"data row0 col4\" >-0.007322</td>\n",
              "                        <td id=\"T_844a6_row0_col5\" class=\"data row0 col5\" >-0.005921</td>\n",
              "                        <td id=\"T_844a6_row0_col6\" class=\"data row0 col6\" >0.009078</td>\n",
              "                        <td id=\"T_844a6_row0_col7\" class=\"data row0 col7\" >0.001248</td>\n",
              "                        <td id=\"T_844a6_row0_col8\" class=\"data row0 col8\" >0.009536</td>\n",
              "                        <td id=\"T_844a6_row0_col9\" class=\"data row0 col9\" >-0.004854</td>\n",
              "                        <td id=\"T_844a6_row0_col10\" class=\"data row0 col10\" >-0.014562</td>\n",
              "            </tr>\n",
              "            <tr>\n",
              "                        <th id=\"T_844a6_level0_row1\" class=\"row_heading level0 row1\" >CustomerId</th>\n",
              "                        <td id=\"T_844a6_row1_col0\" class=\"data row1 col0\" >0.004289</td>\n",
              "                        <td id=\"T_844a6_row1_col1\" class=\"data row1 col1\" >1.000000</td>\n",
              "                        <td id=\"T_844a6_row1_col2\" class=\"data row1 col2\" >-0.001610</td>\n",
              "                        <td id=\"T_844a6_row1_col3\" class=\"data row1 col3\" >0.010379</td>\n",
              "                        <td id=\"T_844a6_row1_col4\" class=\"data row1 col4\" >-0.021418</td>\n",
              "                        <td id=\"T_844a6_row1_col5\" class=\"data row1 col5\" >-0.007445</td>\n",
              "                        <td id=\"T_844a6_row1_col6\" class=\"data row1 col6\" >0.014604</td>\n",
              "                        <td id=\"T_844a6_row1_col7\" class=\"data row1 col7\" >-0.019891</td>\n",
              "                        <td id=\"T_844a6_row1_col8\" class=\"data row1 col8\" >0.001499</td>\n",
              "                        <td id=\"T_844a6_row1_col9\" class=\"data row1 col9\" >0.010029</td>\n",
              "                        <td id=\"T_844a6_row1_col10\" class=\"data row1 col10\" >-0.007040</td>\n",
              "            </tr>\n",
              "            <tr>\n",
              "                        <th id=\"T_844a6_level0_row2\" class=\"row_heading level0 row2\" >CreditScore</th>\n",
              "                        <td id=\"T_844a6_row2_col0\" class=\"data row2 col0\" >0.002330</td>\n",
              "                        <td id=\"T_844a6_row2_col1\" class=\"data row2 col1\" >-0.001610</td>\n",
              "                        <td id=\"T_844a6_row2_col2\" class=\"data row2 col2\" >1.000000</td>\n",
              "                        <td id=\"T_844a6_row2_col3\" class=\"data row2 col3\" >-0.004504</td>\n",
              "                        <td id=\"T_844a6_row2_col4\" class=\"data row2 col4\" >-0.000062</td>\n",
              "                        <td id=\"T_844a6_row2_col5\" class=\"data row2 col5\" >0.002804</td>\n",
              "                        <td id=\"T_844a6_row2_col6\" class=\"data row2 col6\" >0.011090</td>\n",
              "                        <td id=\"T_844a6_row2_col7\" class=\"data row2 col7\" >-0.003937</td>\n",
              "                        <td id=\"T_844a6_row2_col8\" class=\"data row2 col8\" >0.030947</td>\n",
              "                        <td id=\"T_844a6_row2_col9\" class=\"data row2 col9\" >0.005182</td>\n",
              "                        <td id=\"T_844a6_row2_col10\" class=\"data row2 col10\" >-0.023950</td>\n",
              "            </tr>\n",
              "            <tr>\n",
              "                        <th id=\"T_844a6_level0_row3\" class=\"row_heading level0 row3\" >Age</th>\n",
              "                        <td id=\"T_844a6_row3_col0\" class=\"data row3 col0\" >0.000681</td>\n",
              "                        <td id=\"T_844a6_row3_col1\" class=\"data row3 col1\" >0.010379</td>\n",
              "                        <td id=\"T_844a6_row3_col2\" class=\"data row3 col2\" >-0.004504</td>\n",
              "                        <td id=\"T_844a6_row3_col3\" class=\"data row3 col3\" >1.000000</td>\n",
              "                        <td id=\"T_844a6_row3_col4\" class=\"data row3 col4\" >-0.013134</td>\n",
              "                        <td id=\"T_844a6_row3_col5\" class=\"data row3 col5\" >0.031481</td>\n",
              "                        <td id=\"T_844a6_row3_col6\" class=\"data row3 col6\" >-0.031877</td>\n",
              "                        <td id=\"T_844a6_row3_col7\" class=\"data row3 col7\" >-0.014129</td>\n",
              "                        <td id=\"T_844a6_row3_col8\" class=\"data row3 col8\" >0.082269</td>\n",
              "                        <td id=\"T_844a6_row3_col9\" class=\"data row3 col9\" >-0.007037</td>\n",
              "                        <td id=\"T_844a6_row3_col10\" class=\"data row3 col10\" >0.283017</td>\n",
              "            </tr>\n",
              "            <tr>\n",
              "                        <th id=\"T_844a6_level0_row4\" class=\"row_heading level0 row4\" >Tenure</th>\n",
              "                        <td id=\"T_844a6_row4_col0\" class=\"data row4 col0\" >-0.007322</td>\n",
              "                        <td id=\"T_844a6_row4_col1\" class=\"data row4 col1\" >-0.021418</td>\n",
              "                        <td id=\"T_844a6_row4_col2\" class=\"data row4 col2\" >-0.000062</td>\n",
              "                        <td id=\"T_844a6_row4_col3\" class=\"data row4 col3\" >-0.013134</td>\n",
              "                        <td id=\"T_844a6_row4_col4\" class=\"data row4 col4\" >1.000000</td>\n",
              "                        <td id=\"T_844a6_row4_col5\" class=\"data row4 col5\" >-0.007911</td>\n",
              "                        <td id=\"T_844a6_row4_col6\" class=\"data row4 col6\" >0.011979</td>\n",
              "                        <td id=\"T_844a6_row4_col7\" class=\"data row4 col7\" >0.027232</td>\n",
              "                        <td id=\"T_844a6_row4_col8\" class=\"data row4 col8\" >-0.032178</td>\n",
              "                        <td id=\"T_844a6_row4_col9\" class=\"data row4 col9\" >0.010520</td>\n",
              "                        <td id=\"T_844a6_row4_col10\" class=\"data row4 col10\" >-0.016761</td>\n",
              "            </tr>\n",
              "            <tr>\n",
              "                        <th id=\"T_844a6_level0_row5\" class=\"row_heading level0 row5\" >Balance</th>\n",
              "                        <td id=\"T_844a6_row5_col0\" class=\"data row5 col0\" >-0.005921</td>\n",
              "                        <td id=\"T_844a6_row5_col1\" class=\"data row5 col1\" >-0.007445</td>\n",
              "                        <td id=\"T_844a6_row5_col2\" class=\"data row5 col2\" >0.002804</td>\n",
              "                        <td id=\"T_844a6_row5_col3\" class=\"data row5 col3\" >0.031481</td>\n",
              "                        <td id=\"T_844a6_row5_col4\" class=\"data row5 col4\" >-0.007911</td>\n",
              "                        <td id=\"T_844a6_row5_col5\" class=\"data row5 col5\" >1.000000</td>\n",
              "                        <td id=\"T_844a6_row5_col6\" class=\"data row5 col6\" >-0.301858</td>\n",
              "                        <td id=\"T_844a6_row5_col7\" class=\"data row5 col7\" >-0.019055</td>\n",
              "                        <td id=\"T_844a6_row5_col8\" class=\"data row5 col8\" >-0.003285</td>\n",
              "                        <td id=\"T_844a6_row5_col9\" class=\"data row5 col9\" >0.014351</td>\n",
              "                        <td id=\"T_844a6_row5_col10\" class=\"data row5 col10\" >0.117218</td>\n",
              "            </tr>\n",
              "            <tr>\n",
              "                        <th id=\"T_844a6_level0_row6\" class=\"row_heading level0 row6\" >NumOfProducts</th>\n",
              "                        <td id=\"T_844a6_row6_col0\" class=\"data row6 col0\" >0.009078</td>\n",
              "                        <td id=\"T_844a6_row6_col1\" class=\"data row6 col1\" >0.014604</td>\n",
              "                        <td id=\"T_844a6_row6_col2\" class=\"data row6 col2\" >0.011090</td>\n",
              "                        <td id=\"T_844a6_row6_col3\" class=\"data row6 col3\" >-0.031877</td>\n",
              "                        <td id=\"T_844a6_row6_col4\" class=\"data row6 col4\" >0.011979</td>\n",
              "                        <td id=\"T_844a6_row6_col5\" class=\"data row6 col5\" >-0.301858</td>\n",
              "                        <td id=\"T_844a6_row6_col6\" class=\"data row6 col6\" >1.000000</td>\n",
              "                        <td id=\"T_844a6_row6_col7\" class=\"data row6 col7\" >0.005805</td>\n",
              "                        <td id=\"T_844a6_row6_col8\" class=\"data row6 col8\" >0.009084</td>\n",
              "                        <td id=\"T_844a6_row6_col9\" class=\"data row6 col9\" >0.013990</td>\n",
              "                        <td id=\"T_844a6_row6_col10\" class=\"data row6 col10\" >-0.050271</td>\n",
              "            </tr>\n",
              "            <tr>\n",
              "                        <th id=\"T_844a6_level0_row7\" class=\"row_heading level0 row7\" >HasCrCard</th>\n",
              "                        <td id=\"T_844a6_row7_col0\" class=\"data row7 col0\" >0.001248</td>\n",
              "                        <td id=\"T_844a6_row7_col1\" class=\"data row7 col1\" >-0.019891</td>\n",
              "                        <td id=\"T_844a6_row7_col2\" class=\"data row7 col2\" >-0.003937</td>\n",
              "                        <td id=\"T_844a6_row7_col3\" class=\"data row7 col3\" >-0.014129</td>\n",
              "                        <td id=\"T_844a6_row7_col4\" class=\"data row7 col4\" >0.027232</td>\n",
              "                        <td id=\"T_844a6_row7_col5\" class=\"data row7 col5\" >-0.019055</td>\n",
              "                        <td id=\"T_844a6_row7_col6\" class=\"data row7 col6\" >0.005805</td>\n",
              "                        <td id=\"T_844a6_row7_col7\" class=\"data row7 col7\" >1.000000</td>\n",
              "                        <td id=\"T_844a6_row7_col8\" class=\"data row7 col8\" >-0.008810</td>\n",
              "                        <td id=\"T_844a6_row7_col9\" class=\"data row7 col9\" >-0.006136</td>\n",
              "                        <td id=\"T_844a6_row7_col10\" class=\"data row7 col10\" >-0.005411</td>\n",
              "            </tr>\n",
              "            <tr>\n",
              "                        <th id=\"T_844a6_level0_row8\" class=\"row_heading level0 row8\" >IsActiveMember</th>\n",
              "                        <td id=\"T_844a6_row8_col0\" class=\"data row8 col0\" >0.009536</td>\n",
              "                        <td id=\"T_844a6_row8_col1\" class=\"data row8 col1\" >0.001499</td>\n",
              "                        <td id=\"T_844a6_row8_col2\" class=\"data row8 col2\" >0.030947</td>\n",
              "                        <td id=\"T_844a6_row8_col3\" class=\"data row8 col3\" >0.082269</td>\n",
              "                        <td id=\"T_844a6_row8_col4\" class=\"data row8 col4\" >-0.032178</td>\n",
              "                        <td id=\"T_844a6_row8_col5\" class=\"data row8 col5\" >-0.003285</td>\n",
              "                        <td id=\"T_844a6_row8_col6\" class=\"data row8 col6\" >0.009084</td>\n",
              "                        <td id=\"T_844a6_row8_col7\" class=\"data row8 col7\" >-0.008810</td>\n",
              "                        <td id=\"T_844a6_row8_col8\" class=\"data row8 col8\" >1.000000</td>\n",
              "                        <td id=\"T_844a6_row8_col9\" class=\"data row8 col9\" >-0.020049</td>\n",
              "                        <td id=\"T_844a6_row8_col10\" class=\"data row8 col10\" >-0.155062</td>\n",
              "            </tr>\n",
              "            <tr>\n",
              "                        <th id=\"T_844a6_level0_row9\" class=\"row_heading level0 row9\" >EstimatedSalary</th>\n",
              "                        <td id=\"T_844a6_row9_col0\" class=\"data row9 col0\" >-0.004854</td>\n",
              "                        <td id=\"T_844a6_row9_col1\" class=\"data row9 col1\" >0.010029</td>\n",
              "                        <td id=\"T_844a6_row9_col2\" class=\"data row9 col2\" >0.005182</td>\n",
              "                        <td id=\"T_844a6_row9_col3\" class=\"data row9 col3\" >-0.007037</td>\n",
              "                        <td id=\"T_844a6_row9_col4\" class=\"data row9 col4\" >0.010520</td>\n",
              "                        <td id=\"T_844a6_row9_col5\" class=\"data row9 col5\" >0.014351</td>\n",
              "                        <td id=\"T_844a6_row9_col6\" class=\"data row9 col6\" >0.013990</td>\n",
              "                        <td id=\"T_844a6_row9_col7\" class=\"data row9 col7\" >-0.006136</td>\n",
              "                        <td id=\"T_844a6_row9_col8\" class=\"data row9 col8\" >-0.020049</td>\n",
              "                        <td id=\"T_844a6_row9_col9\" class=\"data row9 col9\" >1.000000</td>\n",
              "                        <td id=\"T_844a6_row9_col10\" class=\"data row9 col10\" >0.016029</td>\n",
              "            </tr>\n",
              "            <tr>\n",
              "                        <th id=\"T_844a6_level0_row10\" class=\"row_heading level0 row10\" >Exited</th>\n",
              "                        <td id=\"T_844a6_row10_col0\" class=\"data row10 col0\" >-0.014562</td>\n",
              "                        <td id=\"T_844a6_row10_col1\" class=\"data row10 col1\" >-0.007040</td>\n",
              "                        <td id=\"T_844a6_row10_col2\" class=\"data row10 col2\" >-0.023950</td>\n",
              "                        <td id=\"T_844a6_row10_col3\" class=\"data row10 col3\" >0.283017</td>\n",
              "                        <td id=\"T_844a6_row10_col4\" class=\"data row10 col4\" >-0.016761</td>\n",
              "                        <td id=\"T_844a6_row10_col5\" class=\"data row10 col5\" >0.117218</td>\n",
              "                        <td id=\"T_844a6_row10_col6\" class=\"data row10 col6\" >-0.050271</td>\n",
              "                        <td id=\"T_844a6_row10_col7\" class=\"data row10 col7\" >-0.005411</td>\n",
              "                        <td id=\"T_844a6_row10_col8\" class=\"data row10 col8\" >-0.155062</td>\n",
              "                        <td id=\"T_844a6_row10_col9\" class=\"data row10 col9\" >0.016029</td>\n",
              "                        <td id=\"T_844a6_row10_col10\" class=\"data row10 col10\" >1.000000</td>\n",
              "            </tr>\n",
              "    </tbody></table>"
            ],
            "text/plain": [
              "<pandas.io.formats.style.Styler at 0x7f5d7277e730>"
            ]
          },
          "execution_count": 4,
          "metadata": {},
          "output_type": "execute_result"
        }
      ],
      "source": [
        "corr = data[~data['Tenure'].isna()].corr()\n",
        "corr.style.background_gradient(cmap='coolwarm')"
      ]
    },
    {
      "cell_type": "code",
      "execution_count": null,
      "metadata": {
        "id": "XkfKF2zcOsME",
        "outputId": "7c4841fb-3bf5-4602-bec6-fdff7c7f0de8"
      },
      "outputs": [
        {
          "data": {
            "text/plain": [
              "Age\n",
              "18    4.5\n",
              "19    5.0\n",
              "20    4.0\n",
              "21    4.0\n",
              "22    6.0\n",
              "Name: Tenure, dtype: float64"
            ]
          },
          "execution_count": 5,
          "metadata": {},
          "output_type": "execute_result"
        }
      ],
      "source": [
        "median_for_age = data.loc[~data['Tenure'].isna()].groupby(by='Age')['Tenure'].median()\n",
        "\n",
        "median_for_age.head()"
      ]
    },
    {
      "cell_type": "code",
      "execution_count": null,
      "metadata": {
        "scrolled": true,
        "id": "Bvaq2Z48OsME",
        "outputId": "368ec8c4-a556-496b-ff62-7ced897e1459"
      },
      "outputs": [
        {
          "data": {
            "image/png": "[encoded data removed]",
            "text/plain": [
              "<Figure size 432x288 with 1 Axes>"
            ]
          },
          "metadata": {
            "needs_background": "light"
          },
          "output_type": "display_data"
        }
      ],
      "source": [
        "median_for_age.hist(bins=10)\n",
        "plt.title('Распределение срока обслуживания')\n",
        "plt.show()"
      ]
    },
    {
      "cell_type": "markdown",
      "metadata": {
        "id": "J724Rud5OsME"
      },
      "source": [
        "Явно очень много клиентов находятся на обслуживании 5 лет, возможно рассматриваемый банк образован слиянием или другим преобразованием и исчисление срока обслуживания в банке идет с этой даты."
      ]
    },
    {
      "cell_type": "code",
      "execution_count": null,
      "metadata": {
        "id": "TYF7FeXbOsME",
        "outputId": "02290779-666c-4764-8c6c-7f5cc4cbc1a2"
      },
      "outputs": [
        {
          "data": {
            "image/png": "[encoded data removed]",
            "text/plain": [
              "<Figure size 864x648 with 1 Axes>"
            ]
          },
          "metadata": {
            "needs_background": "light"
          },
          "output_type": "display_data"
        }
      ],
      "source": [
        "data[~data['Tenure'].isna()].boxplot(column=['Tenure'], by = 'Exited', figsize = (12,9))\n",
        "plt.title('Распределение целевого признака по срокам обслуживания')\n",
        "plt.show()"
      ]
    },
    {
      "cell_type": "code",
      "execution_count": null,
      "metadata": {
        "id": "Gj0hSbCBOsME",
        "outputId": "21b1fdb6-0a9f-48e3-9e4d-6b5304340af7"
      },
      "outputs": [
        {
          "data": {
            "image/png": "[encoded data removed]",
            "text/plain": [
              "<Figure size 1296x648 with 1 Axes>"
            ]
          },
          "metadata": {
            "needs_background": "light"
          },
          "output_type": "display_data"
        }
      ],
      "source": [
        "data[(~data['Tenure'].isna())&(data['Age']<23)].boxplot(column=['Tenure'], by = 'Age', figsize = (18,9))\n",
        "\n",
        "plt.show()"
      ]
    },
    {
      "cell_type": "code",
      "execution_count": null,
      "metadata": {
        "id": "8spMyZkOOsMF",
        "outputId": "a0dd8308-211e-4ffb-b520-f5de72489a99"
      },
      "outputs": [
        {
          "data": {
            "image/png": "[encoded data removed]",
            "text/plain": [
              "<Figure size 1296x648 with 1 Axes>"
            ]
          },
          "metadata": {
            "needs_background": "light"
          },
          "output_type": "display_data"
        }
      ],
      "source": [
        "data[(~data['Tenure'].isna())&(data['Age']>=23)&(data['Age']<=50)].boxplot(column=['Tenure'], by = 'Age', figsize = (18,9))\n",
        "\n",
        "plt.show()"
      ]
    },
    {
      "cell_type": "code",
      "execution_count": null,
      "metadata": {
        "id": "qwgmK7qZOsMF",
        "outputId": "7c532658-18cb-4637-8ada-6e0d15996778"
      },
      "outputs": [
        {
          "data": {
            "image/png": "[encoded data removed]",
            "text/plain": [
              "<Figure size 1296x648 with 1 Axes>"
            ]
          },
          "metadata": {
            "needs_background": "light"
          },
          "output_type": "display_data"
        }
      ],
      "source": [
        "data[(~data['Tenure'].isna())&(data['Age']>50)].boxplot(column=['Tenure'], by = 'Age', figsize = (18,9))\n",
        "\n",
        "plt.show()"
      ]
    },
    {
      "cell_type": "markdown",
      "metadata": {
        "id": "HwN0mVTHOsMF"
      },
      "source": [
        "Очень странно, что медианное значение для большого диапазона (с 23 до 50 лет включительно) одинаково (5 лет). Однако заполнить эти данные более точно, чем для каждого возраста будет проблематично"
      ]
    },
    {
      "cell_type": "code",
      "execution_count": null,
      "metadata": {
        "id": "5ipq1wN1OsMF",
        "outputId": "9b572072-526c-48a3-d231-94faa9ec05dc"
      },
      "outputs": [
        {
          "data": {
            "text/plain": [
              "0"
            ]
          },
          "execution_count": 11,
          "metadata": {},
          "output_type": "execute_result"
        }
      ],
      "source": [
        "data_befor_filling = data #Сохранила для потомков\n",
        "for i in median_for_age.index:\n",
        "    data.loc[data['Age']==i, 'Tenure'] =  data.loc[data['Age']==i,'Tenure'].fillna(median_for_age[i])\n",
        "data['Tenure'].isna().sum()"
      ]
    },
    {
      "cell_type": "code",
      "execution_count": null,
      "metadata": {
        "id": "Ic7825UzOsMF",
        "outputId": "73ddb1a7-521c-4492-8ee9-3228ff7f1115"
      },
      "outputs": [
        {
          "data": {
            "image/png": "[encoded data removed]",
            "text/plain": [
              "<Figure size 864x648 with 1 Axes>"
            ]
          },
          "metadata": {
            "needs_background": "light"
          },
          "output_type": "display_data"
        }
      ],
      "source": [
        "data.boxplot(column=['Tenure'], by = 'Exited', figsize = (12,9))\n",
        "plt.title('Распределение целевого признака по срокам обслуживания, после заполнения пропусков')\n",
        "plt.show()"
      ]
    },
    {
      "cell_type": "markdown",
      "metadata": {
        "id": "kfYMFTo8OsMG"
      },
      "source": [
        "Предполагаем, что медианное значение 5 лет в большинстве групп скорее всего связано со стандартным сроком действия банковских карт, при этом клиент может обслуживаться уже в другом банке, но при этом иметь незакрытую карту в исследуемом банке.\n",
        "\n",
        "Если это предположение верно, то такие данные скорее запутают нашу модель, чем добавят ей точности и полноты прогноза"
      ]
    },
    {
      "cell_type": "markdown",
      "metadata": {
        "id": "qGY-5vepOsMG"
      },
      "source": [
        "Для удобства дальнейшей работы приведем к стандартному виду наименования столбцов\n"
      ]
    },
    {
      "cell_type": "code",
      "execution_count": null,
      "metadata": {
        "id": "AmixXf-iOsMG",
        "outputId": "263e07c8-17c7-4c7c-91b1-b4896b026510"
      },
      "outputs": [
        {
          "data": {
            "text/html": [
              "<div>\n",
              "<style scoped>\n",
              "    .dataframe tbody tr th:only-of-type {\n",
              "        vertical-align: middle;\n",
              "    }\n",
              "\n",
              "    .dataframe tbody tr th {\n",
              "        vertical-align: top;\n",
              "    }\n",
              "\n",
              "    .dataframe thead th {\n",
              "        text-align: right;\n",
              "    }\n",
              "</style>\n",
              "<table border=\"1\" class=\"dataframe\">\n",
              "  <thead>\n",
              "    <tr style=\"text-align: right;\">\n",
              "      <th></th>\n",
              "      <th>row_number</th>\n",
              "      <th>customer_id</th>\n",
              "      <th>surname</th>\n",
              "      <th>credit_score</th>\n",
              "      <th>geography</th>\n",
              "      <th>gender</th>\n",
              "      <th>age</th>\n",
              "      <th>tenure</th>\n",
              "      <th>balance</th>\n",
              "      <th>num_of_products</th>\n",
              "      <th>has_cr_card</th>\n",
              "      <th>is_active_member</th>\n",
              "      <th>estimated_salary</th>\n",
              "      <th>exited</th>\n",
              "    </tr>\n",
              "  </thead>\n",
              "  <tbody>\n",
              "    <tr>\n",
              "      <th>0</th>\n",
              "      <td>1</td>\n",
              "      <td>15634602</td>\n",
              "      <td>Hargrave</td>\n",
              "      <td>619</td>\n",
              "      <td>France</td>\n",
              "      <td>Female</td>\n",
              "      <td>42</td>\n",
              "      <td>2.0</td>\n",
              "      <td>0.00</td>\n",
              "      <td>1</td>\n",
              "      <td>1</td>\n",
              "      <td>1</td>\n",
              "      <td>101348.88</td>\n",
              "      <td>1</td>\n",
              "    </tr>\n",
              "    <tr>\n",
              "      <th>1</th>\n",
              "      <td>2</td>\n",
              "      <td>15647311</td>\n",
              "      <td>Hill</td>\n",
              "      <td>608</td>\n",
              "      <td>Spain</td>\n",
              "      <td>Female</td>\n",
              "      <td>41</td>\n",
              "      <td>1.0</td>\n",
              "      <td>83807.86</td>\n",
              "      <td>1</td>\n",
              "      <td>0</td>\n",
              "      <td>1</td>\n",
              "      <td>112542.58</td>\n",
              "      <td>0</td>\n",
              "    </tr>\n",
              "    <tr>\n",
              "      <th>2</th>\n",
              "      <td>3</td>\n",
              "      <td>15619304</td>\n",
              "      <td>Onio</td>\n",
              "      <td>502</td>\n",
              "      <td>France</td>\n",
              "      <td>Female</td>\n",
              "      <td>42</td>\n",
              "      <td>8.0</td>\n",
              "      <td>159660.80</td>\n",
              "      <td>3</td>\n",
              "      <td>1</td>\n",
              "      <td>0</td>\n",
              "      <td>113931.57</td>\n",
              "      <td>1</td>\n",
              "    </tr>\n",
              "    <tr>\n",
              "      <th>3</th>\n",
              "      <td>4</td>\n",
              "      <td>15701354</td>\n",
              "      <td>Boni</td>\n",
              "      <td>699</td>\n",
              "      <td>France</td>\n",
              "      <td>Female</td>\n",
              "      <td>39</td>\n",
              "      <td>1.0</td>\n",
              "      <td>0.00</td>\n",
              "      <td>2</td>\n",
              "      <td>0</td>\n",
              "      <td>0</td>\n",
              "      <td>93826.63</td>\n",
              "      <td>0</td>\n",
              "    </tr>\n",
              "    <tr>\n",
              "      <th>4</th>\n",
              "      <td>5</td>\n",
              "      <td>15737888</td>\n",
              "      <td>Mitchell</td>\n",
              "      <td>850</td>\n",
              "      <td>Spain</td>\n",
              "      <td>Female</td>\n",
              "      <td>43</td>\n",
              "      <td>2.0</td>\n",
              "      <td>125510.82</td>\n",
              "      <td>1</td>\n",
              "      <td>1</td>\n",
              "      <td>1</td>\n",
              "      <td>79084.10</td>\n",
              "      <td>0</td>\n",
              "    </tr>\n",
              "  </tbody>\n",
              "</table>\n",
              "</div>"
            ],
            "text/plain": [
              "   row_number  customer_id   surname  credit_score geography  gender  age  \\\n",
              "0           1     15634602  Hargrave           619    France  Female   42   \n",
              "1           2     15647311      Hill           608     Spain  Female   41   \n",
              "2           3     15619304      Onio           502    France  Female   42   \n",
              "3           4     15701354      Boni           699    France  Female   39   \n",
              "4           5     15737888  Mitchell           850     Spain  Female   43   \n",
              "\n",
              "   tenure    balance  num_of_products  has_cr_card  is_active_member  \\\n",
              "0     2.0       0.00                1            1                 1   \n",
              "1     1.0   83807.86                1            0                 1   \n",
              "2     8.0  159660.80                3            1                 0   \n",
              "3     1.0       0.00                2            0                 0   \n",
              "4     2.0  125510.82                1            1                 1   \n",
              "\n",
              "   estimated_salary  exited  \n",
              "0         101348.88       1  \n",
              "1         112542.58       0  \n",
              "2         113931.57       1  \n",
              "3          93826.63       0  \n",
              "4          79084.10       0  "
            ]
          },
          "execution_count": 13,
          "metadata": {},
          "output_type": "execute_result"
        }
      ],
      "source": [
        "data=data.rename(columns={\"RowNumber\": \"row_number\", \"CustomerId\": \"customer_id\", \"CreditScore\": \"credit_score\", \"NumOfProducts\": \"num_of_products\", \"HasCrCard\":\"has_cr_card\", \"IsActiveMember\": \"is_active_member\", \"EstimatedSalary\": \"estimated_salary\"})\n",
        "data = data.rename(columns=str.lower)\n",
        "data.head()"
      ]
    },
    {
      "cell_type": "markdown",
      "metadata": {
        "id": "_zZ2ZGcGOsMG"
      },
      "source": [
        "В данных предоставленных к анализу есть категориальные признаки Страна проживания и пол, их необходимо закодировать для анализа.\n",
        "Признак Фамилия не имеет ценности для прогнозирования, поэтому приводить его не будем"
      ]
    },
    {
      "cell_type": "code",
      "execution_count": null,
      "metadata": {
        "id": "VKoMUiPkOsMG"
      },
      "outputs": [],
      "source": [
        "data_original = data #сохраним для потомков\n",
        "data = data.drop(['row_number', 'customer_id','surname', 'tenure'], axis=1)"
      ]
    },
    {
      "cell_type": "code",
      "execution_count": null,
      "metadata": {
        "id": "knNX_aJXOsMG"
      },
      "outputs": [],
      "source": [
        "data_befor_filling=data_befor_filling.rename(columns={\"RowNumber\": \"row_number\", \"CustomerId\": \"customer_id\", \"CreditScore\": \"credit_score\", \"NumOfProducts\": \"num_of_products\", \"HasCrCard\":\"has_cr_card\", \"IsActiveMember\": \"is_active_member\", \"EstimatedSalary\": \"estimated_salary\"})\n",
        "data_befor_filling = data_befor_filling.rename(columns=str.lower)\n"
      ]
    },
    {
      "cell_type": "code",
      "execution_count": null,
      "metadata": {
        "id": "QlHNfzAvOsMI",
        "outputId": "f4df26eb-a6a9-4d5c-d212-6104b4748934"
      },
      "outputs": [
        {
          "data": {
            "text/html": [
              "<div>\n",
              "<style scoped>\n",
              "    .dataframe tbody tr th:only-of-type {\n",
              "        vertical-align: middle;\n",
              "    }\n",
              "\n",
              "    .dataframe tbody tr th {\n",
              "        vertical-align: top;\n",
              "    }\n",
              "\n",
              "    .dataframe thead th {\n",
              "        text-align: right;\n",
              "    }\n",
              "</style>\n",
              "<table border=\"1\" class=\"dataframe\">\n",
              "  <thead>\n",
              "    <tr style=\"text-align: right;\">\n",
              "      <th></th>\n",
              "      <th>credit_score</th>\n",
              "      <th>geography</th>\n",
              "      <th>gender</th>\n",
              "      <th>age</th>\n",
              "      <th>balance</th>\n",
              "      <th>num_of_products</th>\n",
              "      <th>has_cr_card</th>\n",
              "      <th>is_active_member</th>\n",
              "      <th>estimated_salary</th>\n",
              "      <th>exited</th>\n",
              "    </tr>\n",
              "  </thead>\n",
              "  <tbody>\n",
              "    <tr>\n",
              "      <th>0</th>\n",
              "      <td>228.0</td>\n",
              "      <td>0.0</td>\n",
              "      <td>0.0</td>\n",
              "      <td>24.0</td>\n",
              "      <td>0.0</td>\n",
              "      <td>0.0</td>\n",
              "      <td>1.0</td>\n",
              "      <td>1.0</td>\n",
              "      <td>5068.0</td>\n",
              "      <td>1.0</td>\n",
              "    </tr>\n",
              "    <tr>\n",
              "      <th>1</th>\n",
              "      <td>217.0</td>\n",
              "      <td>2.0</td>\n",
              "      <td>0.0</td>\n",
              "      <td>23.0</td>\n",
              "      <td>743.0</td>\n",
              "      <td>0.0</td>\n",
              "      <td>0.0</td>\n",
              "      <td>1.0</td>\n",
              "      <td>5639.0</td>\n",
              "      <td>0.0</td>\n",
              "    </tr>\n",
              "    <tr>\n",
              "      <th>2</th>\n",
              "      <td>111.0</td>\n",
              "      <td>0.0</td>\n",
              "      <td>0.0</td>\n",
              "      <td>24.0</td>\n",
              "      <td>5793.0</td>\n",
              "      <td>2.0</td>\n",
              "      <td>1.0</td>\n",
              "      <td>0.0</td>\n",
              "      <td>5707.0</td>\n",
              "      <td>1.0</td>\n",
              "    </tr>\n",
              "    <tr>\n",
              "      <th>3</th>\n",
              "      <td>308.0</td>\n",
              "      <td>0.0</td>\n",
              "      <td>0.0</td>\n",
              "      <td>21.0</td>\n",
              "      <td>0.0</td>\n",
              "      <td>1.0</td>\n",
              "      <td>0.0</td>\n",
              "      <td>0.0</td>\n",
              "      <td>4704.0</td>\n",
              "      <td>0.0</td>\n",
              "    </tr>\n",
              "    <tr>\n",
              "      <th>4</th>\n",
              "      <td>459.0</td>\n",
              "      <td>2.0</td>\n",
              "      <td>0.0</td>\n",
              "      <td>25.0</td>\n",
              "      <td>3696.0</td>\n",
              "      <td>0.0</td>\n",
              "      <td>1.0</td>\n",
              "      <td>1.0</td>\n",
              "      <td>3925.0</td>\n",
              "      <td>0.0</td>\n",
              "    </tr>\n",
              "  </tbody>\n",
              "</table>\n",
              "</div>"
            ],
            "text/plain": [
              "   credit_score  geography  gender   age  balance  num_of_products  \\\n",
              "0         228.0        0.0     0.0  24.0      0.0              0.0   \n",
              "1         217.0        2.0     0.0  23.0    743.0              0.0   \n",
              "2         111.0        0.0     0.0  24.0   5793.0              2.0   \n",
              "3         308.0        0.0     0.0  21.0      0.0              1.0   \n",
              "4         459.0        2.0     0.0  25.0   3696.0              0.0   \n",
              "\n",
              "   has_cr_card  is_active_member  estimated_salary  exited  \n",
              "0          1.0               1.0            5068.0     1.0  \n",
              "1          0.0               1.0            5639.0     0.0  \n",
              "2          1.0               0.0            5707.0     1.0  \n",
              "3          0.0               0.0            4704.0     0.0  \n",
              "4          1.0               1.0            3925.0     0.0  "
            ]
          },
          "execution_count": 20,
          "metadata": {},
          "output_type": "execute_result"
        }
      ],
      "source": [
        "encoder = OrdinalEncoder()\n",
        "#encoder.fit_transform(data)\n",
        "data = pd.DataFrame(encoder.fit_transform(data), columns=data.columns)\n",
        "data.head()"
      ]
    },
    {
      "cell_type": "markdown",
      "metadata": {
        "id": "B0p0vL4TOsMJ"
      },
      "source": [
        "Отделим тестовые данные для проверки готовой модели"
      ]
    },
    {
      "cell_type": "code",
      "execution_count": null,
      "metadata": {
        "id": "Ry8hDS2COsMJ"
      },
      "outputs": [],
      "source": [
        "data_train, data_test = train_test_split(\n",
        "    data, test_size=0.2, random_state=613, stratify = data['exited']) #балансируем по целевому признаку\n",
        "features_test = data_test.drop('exited', axis=1)\n",
        "target_test = data_test['exited']"
      ]
    },
    {
      "cell_type": "markdown",
      "metadata": {
        "id": "RqSKn1_hOsMJ"
      },
      "source": [
        "Теперь аналогично разделим оставшиеся данные на обучающую и валидационную выборки"
      ]
    },
    {
      "cell_type": "code",
      "execution_count": null,
      "metadata": {
        "id": "flZtf8a1OsMJ"
      },
      "outputs": [],
      "source": [
        "features = data_train.drop('exited', axis=1)\n",
        "target = data_train['exited']\n",
        "features_train, features_valid, target_train, target_valid = train_test_split(features, target, test_size=0.25, random_state=613, stratify = data_train['exited'])"
      ]
    },
    {
      "cell_type": "markdown",
      "metadata": {
        "id": "YhZzVrJvOsMJ"
      },
      "source": [
        "## Исследование задачи"
      ]
    },
    {
      "cell_type": "markdown",
      "metadata": {
        "id": "e5DYGJPrOsMK"
      },
      "source": [
        "Попробуем обучить модели на имеющейся выборке и проверим метрики. Начнем с дерева решений."
      ]
    },
    {
      "cell_type": "code",
      "execution_count": null,
      "metadata": {
        "id": "c5CsjcamOsMK",
        "outputId": "732f3252-f4da-4859-f557-b3e311041b4d"
      },
      "outputs": [
        {
          "name": "stdout",
          "output_type": "stream",
          "text": [
            "Глубина: 5 F1: 0.534621578099839\n",
            "ROC AUC: 0.6888652905602057\n"
          ]
        }
      ],
      "source": [
        "max_score = 0\n",
        "best_depth = 1\n",
        "for depth in range(1, 25, 1):\n",
        "    model = DecisionTreeClassifier(max_depth=depth, random_state=613)\n",
        "    model.fit(features_train, target_train)\n",
        "    predicted_valid = model.predict(features_valid)\n",
        "    result = f1_score(target_valid, predicted_valid)\n",
        "    if result > max_score:\n",
        "        max_score = result\n",
        "        best_depth = depth\n",
        "        r_a_score = roc_auc_score(target_valid, predicted_valid)\n",
        "\n",
        "print(\"Глубина:\", best_depth, \"F1:\", max_score)\n",
        "print(\"ROC AUC:\", r_a_score)"
      ]
    },
    {
      "cell_type": "markdown",
      "metadata": {
        "id": "Vv-TFsp1OsMK"
      },
      "source": [
        "Попробуем подобрать парамтеры для обучения случайного леса"
      ]
    },
    {
      "cell_type": "code",
      "execution_count": null,
      "metadata": {
        "id": "YISGbsmvOsML"
      },
      "outputs": [],
      "source": [
        "def search_param(features_train, target_train, features_valid, target_valid):\n",
        "    max_score = 0\n",
        "    best_depth = 1\n",
        "    best_estimators = 1\n",
        "    for estimators in range(1, 30, 1):\n",
        "        for depth in range(1, 25, 1):\n",
        "            test_model = RandomForestClassifier(n_estimators=estimators, max_depth=depth, random_state=613)\n",
        "            test_model.fit(features_train, target_train)\n",
        "            predicted_valid = test_model.predict(features_valid)\n",
        "            result = f1_score(target_valid, predicted_valid)\n",
        "            if result > max_score:\n",
        "                max_score = result\n",
        "                best_depth = depth\n",
        "                best_estimators = estimators\n",
        "                r_a_score = roc_auc_score(target_valid, predicted_valid)\n",
        "    return best_estimators, best_depth, max_score, r_a_score"
      ]
    },
    {
      "cell_type": "code",
      "execution_count": null,
      "metadata": {
        "id": "PdsYm0D0OsML",
        "outputId": "16df3d82-df99-46b4-f572-7e9df68752bc"
      },
      "outputs": [
        {
          "name": "stdout",
          "output_type": "stream",
          "text": [
            "Количество деревьев: 18 Глубина: 10 F1: 0.5965463108320251\n",
            "ROC AUC: 0.7208603056060683\n",
            "CPU times: user 1min 5s, sys: 220 ms, total: 1min 5s\n",
            "Wall time: 1min 5s\n"
          ]
        }
      ],
      "source": [
        "%%time\n",
        "best_estimators, best_depth, max_score, r_a_score =  search_param(features_train, target_train, features_valid, target_valid)\n",
        "print(\"Количество деревьев:\", best_estimators, \"Глубина:\", best_depth,  \"F1:\", max_score)\n",
        "print(\"ROC AUC:\", r_a_score)"
      ]
    },
    {
      "cell_type": "code",
      "execution_count": null,
      "metadata": {
        "id": "wAzvfzpQOsML",
        "outputId": "6cef3e05-63da-449f-d99a-7641af049e53"
      },
      "outputs": [
        {
          "name": "stdout",
          "output_type": "stream",
          "text": [
            "F1 без балансировки: 0.2581888246628131\n",
            "ROC AUC: 0.5681852885242715\n",
            "F1 сбалансированной: 0.4932003626473255\n",
            "ROC AUC: 0.701070099375184\n"
          ]
        }
      ],
      "source": [
        "model = LogisticRegression(random_state=613, solver='liblinear')\n",
        "model.fit(features_train, target_train)\n",
        "predicted_valid = model.predict(features_valid)\n",
        "print('F1 без балансировки:', f1_score(target_valid, predicted_valid))\n",
        "print(\"ROC AUC:\", roc_auc_score(target_valid, predicted_valid))\n",
        "model = LogisticRegression(random_state=613, solver='liblinear', class_weight='balanced')\n",
        "model.fit(features_train, target_train)\n",
        "predicted_valid = model.predict(features_valid)\n",
        "print('F1 сбалансированной:', f1_score(target_valid, predicted_valid))\n",
        "print(\"ROC AUC:\", roc_auc_score(target_valid, predicted_valid))"
      ]
    },
    {
      "cell_type": "markdown",
      "metadata": {
        "id": "Z5ILZCnjOsMM"
      },
      "source": [
        "**Вывод:** Максимальное значение F1-меры = 0,58 без изменения дисбаланса на исследованных гиперпараметрах можно получить используя модель случайного леса с глубиной 13 и количеством деревьев 100."
      ]
    },
    {
      "cell_type": "markdown",
      "metadata": {
        "id": "hSE-7E90OsMM"
      },
      "source": [
        "## Борьба с дисбалансом"
      ]
    },
    {
      "cell_type": "code",
      "execution_count": null,
      "metadata": {
        "id": "GS49_qsBOsMM",
        "outputId": "fc327630-c747-425b-920d-08c73faf6cb3"
      },
      "outputs": [
        {
          "data": {
            "text/plain": [
              "'Оставшиеся клиенты составляют'"
            ]
          },
          "metadata": {},
          "output_type": "display_data"
        },
        {
          "data": {
            "text/plain": [
              "0.7961666666666667"
            ]
          },
          "metadata": {},
          "output_type": "display_data"
        },
        {
          "data": {
            "text/plain": [
              "'Ушедшие клиенты составляют'"
            ]
          },
          "metadata": {},
          "output_type": "display_data"
        },
        {
          "data": {
            "text/plain": [
              "0.20383333333333334"
            ]
          },
          "metadata": {},
          "output_type": "display_data"
        }
      ],
      "source": [
        "def target_share(target_train):\n",
        "    count_zero = target_train[target_train == 0].count()\n",
        "    count_one = target_train[target_train == 1].count()\n",
        "    display('Оставшиеся клиенты составляют', count_zero/(count_zero+count_one))\n",
        "    display('Ушедшие клиенты составляют', count_one/(count_zero+count_one))\n",
        "target_share(target_train)"
      ]
    },
    {
      "cell_type": "markdown",
      "metadata": {
        "id": "gaG8HvY1OsMM"
      },
      "source": [
        "Попробуем увеличить количество записей об ушедших клиентах в обучающей выборке"
      ]
    },
    {
      "cell_type": "code",
      "execution_count": null,
      "metadata": {
        "id": "0iQKHxnaOsMM"
      },
      "outputs": [],
      "source": [
        "features_zeros = features_train[target_train == 0]\n",
        "features_ones = features_train[target_train == 1]\n",
        "target_zeros = target_train[target_train == 0]\n",
        "target_ones = target_train[target_train == 1]\n",
        "\n",
        "features_upsampled = pd.concat([features_zeros] + [features_ones] * 4)\n",
        "target_upsampled = pd.concat([target_zeros] + [target_ones] * 4)\n",
        "\n",
        "features_upsampled, target_upsampled = shuffle(features_upsampled, target_upsampled, random_state=613)"
      ]
    },
    {
      "cell_type": "code",
      "execution_count": null,
      "metadata": {
        "id": "fqIsAz3wOsMN",
        "outputId": "96f83ee4-546e-4dc0-d2c7-176f02a0494c"
      },
      "outputs": [
        {
          "data": {
            "text/plain": [
              "'Оставшиеся клиенты составляют'"
            ]
          },
          "metadata": {},
          "output_type": "display_data"
        },
        {
          "data": {
            "text/plain": [
              "0.49405315958216983"
            ]
          },
          "metadata": {},
          "output_type": "display_data"
        },
        {
          "data": {
            "text/plain": [
              "'Ушедшие клиенты составляют'"
            ]
          },
          "metadata": {},
          "output_type": "display_data"
        },
        {
          "data": {
            "text/plain": [
              "0.5059468404178302"
            ]
          },
          "metadata": {},
          "output_type": "display_data"
        }
      ],
      "source": [
        "target_share(target_upsampled)"
      ]
    },
    {
      "cell_type": "markdown",
      "metadata": {
        "id": "ElAfaAuiOsMN"
      },
      "source": [
        "Теперь доли ушедших и оставшихся клиентов соизмеримы, попробуем переобучить  модель"
      ]
    },
    {
      "cell_type": "code",
      "execution_count": null,
      "metadata": {
        "id": "ksZFXuyLOsMN",
        "outputId": "3cf173df-b9fb-47a2-ba2d-23d4f064ad22"
      },
      "outputs": [
        {
          "name": "stdout",
          "output_type": "stream",
          "text": [
            "Количество деревьев: 23 Глубина: 11 F1: 0.624113475177305\n",
            "ROC AUC: 0.769396515159227\n",
            "F1: 0.624113475177305\n",
            "ROC AUC: 0.769396515159227\n",
            "CPU times: user 1min 28s, sys: 216 ms, total: 1min 28s\n",
            "Wall time: 1min 28s\n"
          ]
        }
      ],
      "source": [
        "%%time\n",
        "best_estimators, best_depth, max_score, r_a_score =  search_param(features_upsampled, target_upsampled, features_valid, target_valid)\n",
        "print(\"Количество деревьев:\", best_estimators, \"Глубина:\", best_depth,  \"F1:\", max_score)\n",
        "print(\"ROC AUC:\", r_a_score)\n",
        "\n",
        "model = RandomForestClassifier(n_estimators=best_estimators, max_depth=best_depth, random_state=613)\n",
        "model.fit(features_upsampled, target_upsampled)\n",
        "predicted_valid = model.predict(features_valid)\n",
        "result = f1_score(target_valid, predicted_valid)\n",
        "print(\"F1:\", result)\n",
        "print(\"ROC AUC:\", roc_auc_score(target_valid, predicted_valid))"
      ]
    },
    {
      "cell_type": "markdown",
      "metadata": {
        "id": "inHOv0RIOsMO"
      },
      "source": [
        "**Вывод:** проведена балансировка классов увеличением выборки, после балансировки F1-мера достигла 0,62, и наша модель стала отличаться от случайной на 76,9% :)"
      ]
    },
    {
      "cell_type": "markdown",
      "metadata": {
        "id": "tSKKbFwSOsMP"
      },
      "source": [
        "Попробуем сбалансировать баланс классов другим способом:"
      ]
    },
    {
      "cell_type": "code",
      "execution_count": null,
      "metadata": {
        "id": "u03YD84IOsMP"
      },
      "outputs": [],
      "source": [
        "features_downsampled = pd.concat([features_zeros.sample(frac=0.25, random_state=613)] + [features_ones])\n",
        "target_downsampled = pd.concat([target_zeros.sample(frac=0.25, random_state=613)] + [target_ones])\n",
        "\n",
        "features_downsampled, target_downsampled = shuffle(features_downsampled, target_downsampled, random_state=613)"
      ]
    },
    {
      "cell_type": "code",
      "execution_count": null,
      "metadata": {
        "id": "qkawvxjWOsMP",
        "outputId": "bc6d7594-ff96-4da1-96c3-0f40fcbe322f"
      },
      "outputs": [
        {
          "data": {
            "text/plain": [
              "'Оставшиеся клиенты составляют'"
            ]
          },
          "metadata": {},
          "output_type": "display_data"
        },
        {
          "data": {
            "text/plain": [
              "0.4940008274720728"
            ]
          },
          "metadata": {},
          "output_type": "display_data"
        },
        {
          "data": {
            "text/plain": [
              "'Ушедшие клиенты составляют'"
            ]
          },
          "metadata": {},
          "output_type": "display_data"
        },
        {
          "data": {
            "text/plain": [
              "0.5059991725279271"
            ]
          },
          "metadata": {},
          "output_type": "display_data"
        }
      ],
      "source": [
        "target_share(target_downsampled)"
      ]
    },
    {
      "cell_type": "code",
      "execution_count": null,
      "metadata": {
        "id": "bcYfuPOcOsMP",
        "outputId": "44dcbe7e-58be-4207-9788-ce49e2d89151"
      },
      "outputs": [
        {
          "name": "stdout",
          "output_type": "stream",
          "text": [
            "Количество деревьев: 24 Глубина: 9 F1: 0.6258919469928643\n",
            "ROC AUC: 0.7933457340237002\n",
            "F1: 0.6258919469928643\n",
            "ROC AUC: 0.7933457340237002\n",
            "CPU times: user 36.6 s, sys: 188 ms, total: 36.7 s\n",
            "Wall time: 36.9 s\n"
          ]
        }
      ],
      "source": [
        "%%time\n",
        "best_estimators, best_depth, max_score, r_a_score =  search_param(features_downsampled, target_downsampled, features_valid, target_valid)\n",
        "print(\"Количество деревьев:\", best_estimators, \"Глубина:\", best_depth,  \"F1:\", max_score)\n",
        "print(\"ROC AUC:\", r_a_score)\n",
        "\n",
        "model_down = RandomForestClassifier(n_estimators=best_estimators, max_depth=best_depth, random_state=613)\n",
        "model_down.fit(features_downsampled, target_downsampled)\n",
        "predicted_valid = model_down.predict(features_valid)\n",
        "result = f1_score(target_valid, predicted_valid)\n",
        "print(\"F1:\", result)\n",
        "print(\"ROC AUC:\", roc_auc_score(target_valid, predicted_valid))"
      ]
    },
    {
      "cell_type": "markdown",
      "metadata": {
        "id": "Xvn-R69QOsMP"
      },
      "source": [
        "**Вывод:** с уменьшением выборки значение F1 получается почти на 2 сотых выше, и + 2% отличия от случайной"
      ]
    },
    {
      "cell_type": "markdown",
      "metadata": {
        "id": "gmZHTJB-OsMP"
      },
      "source": [
        "## Тестирование модели"
      ]
    },
    {
      "cell_type": "code",
      "execution_count": null,
      "metadata": {
        "id": "f-dp3U9cOsMQ",
        "outputId": "f8b93a88-2fc9-47a4-a9ca-c389ab4de6bd"
      },
      "outputs": [
        {
          "name": "stdout",
          "output_type": "stream",
          "text": [
            "F1: 0.6032482598607888\n",
            "ROC AUC: 0.7582050463406396\n"
          ]
        }
      ],
      "source": [
        "predicted_test = model.predict(features_test)\n",
        "print(\"F1:\", f1_score(target_test, predicted_test))\n",
        "print(\"ROC AUC:\", roc_auc_score(target_test, predicted_test))"
      ]
    },
    {
      "cell_type": "markdown",
      "metadata": {
        "id": "qhL0X5ExOsMQ"
      },
      "source": [
        "**Вывод:** на тестовых данных F1-мера составила немного меньше, чем на валидационной, однако так же на необходимом уровне.\n",
        "Метрика AUC-ROC увеличивается при повышении F1-меры, чем точнее и полнее мы прогнозируем, тем меньше наша модель отличается от случайной"
      ]
    },
    {
      "cell_type": "markdown",
      "metadata": {
        "id": "o0Nia4OPOsMQ"
      },
      "source": [
        "Проверим модель обученную на уменьшенной выборке"
      ]
    },
    {
      "cell_type": "code",
      "execution_count": null,
      "metadata": {
        "id": "pnF37Rk7OsMQ",
        "outputId": "ced31d14-758b-4c9d-f1c1-c38db078d8e2"
      },
      "outputs": [
        {
          "name": "stdout",
          "output_type": "stream",
          "text": [
            "F1: 0.5784313725490197\n",
            "ROC AUC: 0.7625961863249999\n"
          ]
        }
      ],
      "source": [
        "predicted_test = model_down.predict(features_test)\n",
        "print(\"F1:\", f1_score(target_test, predicted_test))\n",
        "print(\"ROC AUC:\", roc_auc_score(target_test, predicted_test))"
      ]
    },
    {
      "cell_type": "markdown",
      "metadata": {
        "id": "5upEGoIZOsMQ"
      },
      "source": [
        "**Вывод:** на тестовых данных F1-мера модели обученной на уменьшенной выборки показала результат значительно хуже, чем на валидационной. Оставляем в качестве итоговой модель обученную на увеличенных данных"
      ]
    }
  ],
  "metadata": {
    "ExecuteTimeLog": [
      {
        "duration": 1212,
        "start_time": "2023-08-27T03:56:07.491Z"
      },
      {
        "duration": 140,
        "start_time": "2023-08-27T03:57:31.992Z"
      },
      {
        "duration": 8,
        "start_time": "2023-08-27T04:01:42.963Z"
      },
      {
        "duration": 2384,
        "start_time": "2023-08-27T04:05:10.936Z"
      },
      {
        "duration": 8,
        "start_time": "2023-08-27T04:05:15.776Z"
      },
      {
        "duration": 7,
        "start_time": "2023-08-27T04:06:02.120Z"
      },
      {
        "duration": 798,
        "start_time": "2023-08-27T04:06:24.873Z"
      },
      {
        "duration": 137,
        "start_time": "2023-08-27T04:06:35.277Z"
      },
      {
        "duration": 159,
        "start_time": "2023-08-27T04:06:42.311Z"
      },
      {
        "duration": 174,
        "start_time": "2023-08-27T04:06:51.094Z"
      },
      {
        "duration": 147,
        "start_time": "2023-08-27T04:07:02.133Z"
      },
      {
        "duration": 192,
        "start_time": "2023-08-27T04:07:12.894Z"
      },
      {
        "duration": 143,
        "start_time": "2023-08-27T04:07:24.310Z"
      },
      {
        "duration": 139,
        "start_time": "2023-08-27T04:07:46.806Z"
      },
      {
        "duration": 177,
        "start_time": "2023-08-27T04:08:08.384Z"
      },
      {
        "duration": 149,
        "start_time": "2023-08-27T04:08:17.684Z"
      },
      {
        "duration": 193,
        "start_time": "2023-08-27T04:08:28.870Z"
      },
      {
        "duration": 197,
        "start_time": "2023-08-27T04:08:45.070Z"
      },
      {
        "duration": 133,
        "start_time": "2023-08-27T04:14:21.298Z"
      },
      {
        "duration": 1121,
        "start_time": "2023-08-27T04:14:58.211Z"
      },
      {
        "duration": 1118,
        "start_time": "2023-08-27T04:15:25.694Z"
      },
      {
        "duration": 136,
        "start_time": "2023-08-27T04:16:19.496Z"
      },
      {
        "duration": 167,
        "start_time": "2023-08-27T04:16:30.486Z"
      },
      {
        "duration": 168,
        "start_time": "2023-08-27T04:17:10.712Z"
      },
      {
        "duration": 190,
        "start_time": "2023-08-27T04:17:54.109Z"
      },
      {
        "duration": 277,
        "start_time": "2023-08-27T04:18:10.798Z"
      },
      {
        "duration": 3,
        "start_time": "2023-08-27T04:22:52.933Z"
      },
      {
        "duration": 132,
        "start_time": "2023-08-27T04:23:08.002Z"
      },
      {
        "duration": 185,
        "start_time": "2023-08-27T04:23:58.000Z"
      },
      {
        "duration": 181,
        "start_time": "2023-08-27T04:24:16.376Z"
      },
      {
        "duration": 184,
        "start_time": "2023-08-27T04:24:44.648Z"
      },
      {
        "duration": 19,
        "start_time": "2023-08-27T04:25:58.779Z"
      },
      {
        "duration": 11,
        "start_time": "2023-08-27T04:26:16.529Z"
      },
      {
        "duration": 12,
        "start_time": "2023-08-27T04:29:21.744Z"
      },
      {
        "duration": 53,
        "start_time": "2023-08-27T04:30:12.559Z"
      },
      {
        "duration": 16,
        "start_time": "2023-08-27T04:30:23.690Z"
      },
      {
        "duration": 16,
        "start_time": "2023-08-27T04:31:13.593Z"
      },
      {
        "duration": 8,
        "start_time": "2023-08-27T04:31:50.590Z"
      },
      {
        "duration": 77,
        "start_time": "2023-08-27T04:31:50.601Z"
      },
      {
        "duration": 8,
        "start_time": "2023-08-27T04:31:50.679Z"
      },
      {
        "duration": 151,
        "start_time": "2023-08-27T04:31:50.693Z"
      },
      {
        "duration": 171,
        "start_time": "2023-08-27T04:31:50.846Z"
      },
      {
        "duration": 155,
        "start_time": "2023-08-27T04:31:51.018Z"
      },
      {
        "duration": 9,
        "start_time": "2023-08-27T04:31:51.175Z"
      },
      {
        "duration": 11,
        "start_time": "2023-08-27T04:31:51.186Z"
      },
      {
        "duration": 10,
        "start_time": "2023-08-27T04:31:54.391Z"
      },
      {
        "duration": 186,
        "start_time": "2023-08-27T04:32:30.297Z"
      },
      {
        "duration": 14,
        "start_time": "2023-08-27T04:34:26.796Z"
      },
      {
        "duration": 277,
        "start_time": "2023-08-27T04:34:36.549Z"
      },
      {
        "duration": 138,
        "start_time": "2023-08-27T04:37:48.124Z"
      },
      {
        "duration": 293,
        "start_time": "2023-08-27T04:38:01.408Z"
      },
      {
        "duration": 306,
        "start_time": "2023-08-27T04:41:03.276Z"
      },
      {
        "duration": 141,
        "start_time": "2023-08-27T04:41:20.307Z"
      },
      {
        "duration": 431,
        "start_time": "2023-08-27T04:41:36.685Z"
      },
      {
        "duration": 342,
        "start_time": "2023-08-27T04:41:48.468Z"
      },
      {
        "duration": 317,
        "start_time": "2023-08-27T04:42:10.099Z"
      },
      {
        "duration": 319,
        "start_time": "2023-08-27T04:42:37.811Z"
      },
      {
        "duration": 235,
        "start_time": "2023-08-27T04:43:07.780Z"
      },
      {
        "duration": 215,
        "start_time": "2023-08-27T04:43:51.722Z"
      },
      {
        "duration": 3,
        "start_time": "2023-08-27T04:44:20.511Z"
      },
      {
        "duration": 91,
        "start_time": "2023-08-27T04:44:20.517Z"
      },
      {
        "duration": 5,
        "start_time": "2023-08-27T04:44:20.609Z"
      },
      {
        "duration": 187,
        "start_time": "2023-08-27T04:44:20.617Z"
      },
      {
        "duration": 177,
        "start_time": "2023-08-27T04:44:20.806Z"
      },
      {
        "duration": 164,
        "start_time": "2023-08-27T04:44:20.994Z"
      },
      {
        "duration": 303,
        "start_time": "2023-08-27T04:44:21.168Z"
      },
      {
        "duration": 216,
        "start_time": "2023-08-27T04:44:21.472Z"
      },
      {
        "duration": 16,
        "start_time": "2023-08-27T04:44:21.694Z"
      },
      {
        "duration": 8,
        "start_time": "2023-08-27T04:44:21.713Z"
      },
      {
        "duration": 12,
        "start_time": "2023-08-27T04:44:21.722Z"
      },
      {
        "duration": 166,
        "start_time": "2023-08-27T04:44:21.736Z"
      },
      {
        "duration": 451,
        "start_time": "2023-08-27T04:44:21.904Z"
      },
      {
        "duration": 187,
        "start_time": "2023-08-27T04:44:25.320Z"
      },
      {
        "duration": 3,
        "start_time": "2023-08-27T04:45:54.538Z"
      },
      {
        "duration": 96,
        "start_time": "2023-08-27T04:45:54.543Z"
      },
      {
        "duration": 7,
        "start_time": "2023-08-27T04:45:54.641Z"
      },
      {
        "duration": 202,
        "start_time": "2023-08-27T04:45:54.660Z"
      },
      {
        "duration": 211,
        "start_time": "2023-08-27T04:45:54.869Z"
      },
      {
        "duration": 158,
        "start_time": "2023-08-27T04:45:55.085Z"
      },
      {
        "duration": 293,
        "start_time": "2023-08-27T04:45:55.245Z"
      },
      {
        "duration": 177,
        "start_time": "2023-08-27T04:45:55.540Z"
      },
      {
        "duration": 8,
        "start_time": "2023-08-27T04:45:55.718Z"
      },
      {
        "duration": 13,
        "start_time": "2023-08-27T04:45:55.727Z"
      },
      {
        "duration": 17,
        "start_time": "2023-08-27T04:46:37.277Z"
      },
      {
        "duration": 12,
        "start_time": "2023-08-27T04:46:56.409Z"
      },
      {
        "duration": 5,
        "start_time": "2023-08-27T04:47:17.231Z"
      },
      {
        "duration": 219,
        "start_time": "2023-08-27T04:48:25.846Z"
      },
      {
        "duration": 295,
        "start_time": "2023-08-27T04:48:35.177Z"
      },
      {
        "duration": 301,
        "start_time": "2023-08-27T04:48:48.608Z"
      },
      {
        "duration": 252,
        "start_time": "2023-08-27T04:48:54.959Z"
      },
      {
        "duration": 245,
        "start_time": "2023-08-27T04:49:03.087Z"
      },
      {
        "duration": 24,
        "start_time": "2023-08-27T04:49:13.467Z"
      },
      {
        "duration": 13,
        "start_time": "2023-08-27T04:49:19.791Z"
      },
      {
        "duration": 18,
        "start_time": "2023-08-27T04:49:56.490Z"
      },
      {
        "duration": 13,
        "start_time": "2023-08-27T04:50:41.933Z"
      },
      {
        "duration": 24,
        "start_time": "2023-08-27T04:50:52.750Z"
      },
      {
        "duration": 11,
        "start_time": "2023-08-27T04:51:10.693Z"
      },
      {
        "duration": 20,
        "start_time": "2023-08-27T04:51:35.079Z"
      },
      {
        "duration": 16,
        "start_time": "2023-08-27T04:51:46.613Z"
      },
      {
        "duration": 24,
        "start_time": "2023-08-27T05:13:12.981Z"
      },
      {
        "duration": 21,
        "start_time": "2023-08-27T05:13:29.512Z"
      },
      {
        "duration": 22,
        "start_time": "2023-08-27T05:13:40.278Z"
      },
      {
        "duration": 24,
        "start_time": "2023-08-27T05:15:18.881Z"
      },
      {
        "duration": 14,
        "start_time": "2023-08-27T05:15:35.686Z"
      },
      {
        "duration": 6,
        "start_time": "2023-08-27T05:16:32.584Z"
      },
      {
        "duration": 15,
        "start_time": "2023-08-27T05:16:43.694Z"
      },
      {
        "duration": 3,
        "start_time": "2023-08-27T05:21:52.537Z"
      },
      {
        "duration": 9,
        "start_time": "2023-08-27T05:24:56.544Z"
      },
      {
        "duration": 63,
        "start_time": "2023-08-27T05:24:56.567Z"
      },
      {
        "duration": 4,
        "start_time": "2023-08-27T05:24:56.632Z"
      },
      {
        "duration": 174,
        "start_time": "2023-08-27T05:24:56.637Z"
      },
      {
        "duration": 155,
        "start_time": "2023-08-27T05:24:56.813Z"
      },
      {
        "duration": 157,
        "start_time": "2023-08-27T05:24:56.972Z"
      },
      {
        "duration": 301,
        "start_time": "2023-08-27T05:24:57.131Z"
      },
      {
        "duration": 209,
        "start_time": "2023-08-27T05:24:57.433Z"
      },
      {
        "duration": 26,
        "start_time": "2023-08-27T05:24:57.644Z"
      },
      {
        "duration": 21,
        "start_time": "2023-08-27T05:24:57.673Z"
      },
      {
        "duration": 13,
        "start_time": "2023-08-27T05:26:26.505Z"
      },
      {
        "duration": 27,
        "start_time": "2023-08-27T05:26:42.937Z"
      },
      {
        "duration": 15,
        "start_time": "2023-08-27T05:26:55.203Z"
      },
      {
        "duration": 14,
        "start_time": "2023-08-27T05:27:33.895Z"
      },
      {
        "duration": 13,
        "start_time": "2023-08-27T05:27:42.598Z"
      },
      {
        "duration": 29,
        "start_time": "2023-08-27T05:27:47.638Z"
      },
      {
        "duration": 22,
        "start_time": "2023-08-27T05:28:11.775Z"
      },
      {
        "duration": 3,
        "start_time": "2023-08-27T05:28:52.534Z"
      },
      {
        "duration": 103,
        "start_time": "2023-08-27T05:28:52.539Z"
      },
      {
        "duration": 4,
        "start_time": "2023-08-27T05:28:52.644Z"
      },
      {
        "duration": 175,
        "start_time": "2023-08-27T05:28:52.656Z"
      },
      {
        "duration": 174,
        "start_time": "2023-08-27T05:28:52.833Z"
      },
      {
        "duration": 140,
        "start_time": "2023-08-27T05:28:53.008Z"
      },
      {
        "duration": 456,
        "start_time": "2023-08-27T05:28:53.156Z"
      },
      {
        "duration": 181,
        "start_time": "2023-08-27T05:28:53.613Z"
      },
      {
        "duration": 16,
        "start_time": "2023-08-27T05:28:53.796Z"
      },
      {
        "duration": 8,
        "start_time": "2023-08-27T05:28:53.813Z"
      },
      {
        "duration": 20,
        "start_time": "2023-08-27T05:28:53.823Z"
      },
      {
        "duration": 15,
        "start_time": "2023-08-27T05:28:53.860Z"
      },
      {
        "duration": 155,
        "start_time": "2023-08-27T05:28:53.883Z"
      },
      {
        "duration": 304,
        "start_time": "2023-08-27T05:28:54.040Z"
      },
      {
        "duration": 193,
        "start_time": "2023-08-27T05:28:54.346Z"
      },
      {
        "duration": 46,
        "start_time": "2023-08-27T05:28:54.541Z"
      },
      {
        "duration": 14,
        "start_time": "2023-08-27T05:28:58.511Z"
      },
      {
        "duration": 25,
        "start_time": "2023-08-27T05:30:42.975Z"
      },
      {
        "duration": 25,
        "start_time": "2023-08-27T05:31:04.384Z"
      },
      {
        "duration": 35,
        "start_time": "2023-08-27T05:31:35.975Z"
      },
      {
        "duration": 21,
        "start_time": "2023-08-27T05:31:48.721Z"
      },
      {
        "duration": 14,
        "start_time": "2023-08-27T05:32:23.994Z"
      },
      {
        "duration": 16,
        "start_time": "2023-08-27T05:32:31.877Z"
      },
      {
        "duration": 13,
        "start_time": "2023-08-27T05:32:47.201Z"
      },
      {
        "duration": 3,
        "start_time": "2023-08-27T05:33:04.145Z"
      },
      {
        "duration": 78,
        "start_time": "2023-08-27T05:33:04.149Z"
      },
      {
        "duration": 4,
        "start_time": "2023-08-27T05:33:04.228Z"
      },
      {
        "duration": 164,
        "start_time": "2023-08-27T05:33:04.233Z"
      },
      {
        "duration": 146,
        "start_time": "2023-08-27T05:33:04.399Z"
      },
      {
        "duration": 156,
        "start_time": "2023-08-27T05:33:04.546Z"
      },
      {
        "duration": 287,
        "start_time": "2023-08-27T05:33:04.704Z"
      },
      {
        "duration": 187,
        "start_time": "2023-08-27T05:33:04.997Z"
      },
      {
        "duration": 15,
        "start_time": "2023-08-27T05:33:05.185Z"
      },
      {
        "duration": 12,
        "start_time": "2023-08-27T05:33:05.201Z"
      },
      {
        "duration": 19,
        "start_time": "2023-08-27T05:33:05.215Z"
      },
      {
        "duration": 2,
        "start_time": "2023-08-27T05:33:05.235Z"
      },
      {
        "duration": 166,
        "start_time": "2023-08-27T05:33:05.238Z"
      },
      {
        "duration": 290,
        "start_time": "2023-08-27T05:33:05.407Z"
      },
      {
        "duration": 184,
        "start_time": "2023-08-27T05:33:05.699Z"
      },
      {
        "duration": 20,
        "start_time": "2023-08-27T05:33:05.886Z"
      },
      {
        "duration": 13,
        "start_time": "2023-08-27T05:33:08.211Z"
      },
      {
        "duration": 29,
        "start_time": "2023-08-27T05:33:22.538Z"
      },
      {
        "duration": 21,
        "start_time": "2023-08-27T05:35:41.581Z"
      },
      {
        "duration": 12,
        "start_time": "2023-08-27T05:37:48.147Z"
      },
      {
        "duration": 17,
        "start_time": "2023-08-27T05:37:55.709Z"
      },
      {
        "duration": 16,
        "start_time": "2023-08-27T05:39:04.587Z"
      },
      {
        "duration": 21,
        "start_time": "2023-08-27T05:40:36.067Z"
      },
      {
        "duration": 17,
        "start_time": "2023-08-27T05:40:50.324Z"
      },
      {
        "duration": 20,
        "start_time": "2023-08-27T05:41:26.028Z"
      },
      {
        "duration": 17,
        "start_time": "2023-08-27T05:42:03.179Z"
      },
      {
        "duration": 17,
        "start_time": "2023-08-27T05:42:15.685Z"
      },
      {
        "duration": 8,
        "start_time": "2023-08-27T05:43:56.042Z"
      },
      {
        "duration": 7,
        "start_time": "2023-08-27T05:44:07.714Z"
      },
      {
        "duration": 196,
        "start_time": "2023-08-27T05:45:23.002Z"
      },
      {
        "duration": 21,
        "start_time": "2023-08-27T05:45:52.042Z"
      },
      {
        "duration": 4,
        "start_time": "2023-08-27T05:46:25.985Z"
      },
      {
        "duration": 65,
        "start_time": "2023-08-27T05:46:25.992Z"
      },
      {
        "duration": 5,
        "start_time": "2023-08-27T05:46:26.060Z"
      },
      {
        "duration": 151,
        "start_time": "2023-08-27T05:46:26.067Z"
      },
      {
        "duration": 179,
        "start_time": "2023-08-27T05:46:26.220Z"
      },
      {
        "duration": 289,
        "start_time": "2023-08-27T05:46:26.407Z"
      },
      {
        "duration": 284,
        "start_time": "2023-08-27T05:46:26.698Z"
      },
      {
        "duration": 149,
        "start_time": "2023-08-27T05:46:26.984Z"
      },
      {
        "duration": 26,
        "start_time": "2023-08-27T05:46:27.135Z"
      },
      {
        "duration": 13,
        "start_time": "2023-08-27T05:46:27.163Z"
      },
      {
        "duration": 25,
        "start_time": "2023-08-27T05:46:27.178Z"
      },
      {
        "duration": 2,
        "start_time": "2023-08-27T05:46:27.205Z"
      },
      {
        "duration": 147,
        "start_time": "2023-08-27T05:46:27.208Z"
      },
      {
        "duration": 273,
        "start_time": "2023-08-27T05:46:27.357Z"
      },
      {
        "duration": 164,
        "start_time": "2023-08-27T05:46:27.632Z"
      },
      {
        "duration": 15,
        "start_time": "2023-08-27T05:46:27.797Z"
      },
      {
        "duration": 16,
        "start_time": "2023-08-27T05:46:37.114Z"
      },
      {
        "duration": 13,
        "start_time": "2023-08-27T05:46:59.731Z"
      },
      {
        "duration": 4,
        "start_time": "2023-08-27T05:47:10.497Z"
      },
      {
        "duration": 85,
        "start_time": "2023-08-27T05:47:10.503Z"
      },
      {
        "duration": 6,
        "start_time": "2023-08-27T05:47:10.590Z"
      },
      {
        "duration": 142,
        "start_time": "2023-08-27T05:47:10.597Z"
      },
      {
        "duration": 161,
        "start_time": "2023-08-27T05:47:10.741Z"
      },
      {
        "duration": 164,
        "start_time": "2023-08-27T05:47:10.904Z"
      },
      {
        "duration": 290,
        "start_time": "2023-08-27T05:47:11.073Z"
      },
      {
        "duration": 158,
        "start_time": "2023-08-27T05:47:11.365Z"
      },
      {
        "duration": 9,
        "start_time": "2023-08-27T05:47:11.525Z"
      },
      {
        "duration": 21,
        "start_time": "2023-08-27T05:47:11.537Z"
      },
      {
        "duration": 23,
        "start_time": "2023-08-27T05:47:11.560Z"
      },
      {
        "duration": 3,
        "start_time": "2023-08-27T05:47:11.586Z"
      },
      {
        "duration": 159,
        "start_time": "2023-08-27T05:47:11.591Z"
      },
      {
        "duration": 453,
        "start_time": "2023-08-27T05:47:11.751Z"
      },
      {
        "duration": 179,
        "start_time": "2023-08-27T05:47:12.205Z"
      },
      {
        "duration": 29,
        "start_time": "2023-08-27T05:47:12.386Z"
      },
      {
        "duration": 34,
        "start_time": "2023-08-27T05:47:26.578Z"
      },
      {
        "duration": 3,
        "start_time": "2023-08-27T05:48:03.337Z"
      },
      {
        "duration": 74,
        "start_time": "2023-08-27T05:48:03.342Z"
      },
      {
        "duration": 4,
        "start_time": "2023-08-27T05:48:03.417Z"
      },
      {
        "duration": 159,
        "start_time": "2023-08-27T05:48:03.422Z"
      },
      {
        "duration": 156,
        "start_time": "2023-08-27T05:48:03.584Z"
      },
      {
        "duration": 152,
        "start_time": "2023-08-27T05:48:03.742Z"
      },
      {
        "duration": 266,
        "start_time": "2023-08-27T05:48:03.896Z"
      },
      {
        "duration": 158,
        "start_time": "2023-08-27T05:48:04.164Z"
      },
      {
        "duration": 8,
        "start_time": "2023-08-27T05:48:04.323Z"
      },
      {
        "duration": 23,
        "start_time": "2023-08-27T05:48:04.333Z"
      },
      {
        "duration": 28,
        "start_time": "2023-08-27T05:48:04.361Z"
      },
      {
        "duration": 4,
        "start_time": "2023-08-27T05:48:04.391Z"
      },
      {
        "duration": 195,
        "start_time": "2023-08-27T05:48:04.397Z"
      },
      {
        "duration": 285,
        "start_time": "2023-08-27T05:48:04.595Z"
      },
      {
        "duration": 150,
        "start_time": "2023-08-27T05:48:04.887Z"
      },
      {
        "duration": 27,
        "start_time": "2023-08-27T05:48:05.039Z"
      },
      {
        "duration": 5,
        "start_time": "2023-08-27T05:48:07.076Z"
      },
      {
        "duration": 31,
        "start_time": "2023-08-27T05:48:09.586Z"
      },
      {
        "duration": 4,
        "start_time": "2023-08-27T05:49:01.985Z"
      },
      {
        "duration": 4,
        "start_time": "2023-08-27T05:49:16.120Z"
      },
      {
        "duration": 81,
        "start_time": "2023-08-27T05:49:16.126Z"
      },
      {
        "duration": 6,
        "start_time": "2023-08-27T05:49:16.208Z"
      },
      {
        "duration": 172,
        "start_time": "2023-08-27T05:49:16.216Z"
      },
      {
        "duration": 184,
        "start_time": "2023-08-27T05:49:16.391Z"
      },
      {
        "duration": 149,
        "start_time": "2023-08-27T05:49:16.578Z"
      },
      {
        "duration": 277,
        "start_time": "2023-08-27T05:49:16.729Z"
      },
      {
        "duration": 165,
        "start_time": "2023-08-27T05:49:17.007Z"
      },
      {
        "duration": 12,
        "start_time": "2023-08-27T05:49:17.173Z"
      },
      {
        "duration": 8,
        "start_time": "2023-08-27T05:49:17.188Z"
      },
      {
        "duration": 18,
        "start_time": "2023-08-27T05:49:17.198Z"
      },
      {
        "duration": 6,
        "start_time": "2023-08-27T05:49:17.217Z"
      },
      {
        "duration": 312,
        "start_time": "2023-08-27T05:49:17.224Z"
      },
      {
        "duration": 274,
        "start_time": "2023-08-27T05:49:17.538Z"
      },
      {
        "duration": 168,
        "start_time": "2023-08-27T05:49:17.814Z"
      },
      {
        "duration": 17,
        "start_time": "2023-08-27T05:49:17.983Z"
      },
      {
        "duration": 17,
        "start_time": "2023-08-27T05:49:20.737Z"
      },
      {
        "duration": 6,
        "start_time": "2023-08-27T05:49:43.780Z"
      },
      {
        "duration": 46,
        "start_time": "2023-08-27T05:49:45.017Z"
      },
      {
        "duration": 22,
        "start_time": "2023-08-27T05:50:55.344Z"
      },
      {
        "duration": 10,
        "start_time": "2023-08-27T05:51:48.080Z"
      },
      {
        "duration": 10,
        "start_time": "2023-08-27T05:52:31.783Z"
      },
      {
        "duration": 8,
        "start_time": "2023-08-27T05:52:43.672Z"
      },
      {
        "duration": 82,
        "start_time": "2023-08-27T05:52:43.682Z"
      },
      {
        "duration": 9,
        "start_time": "2023-08-27T05:52:43.766Z"
      },
      {
        "duration": 142,
        "start_time": "2023-08-27T05:52:43.779Z"
      },
      {
        "duration": 180,
        "start_time": "2023-08-27T05:52:43.923Z"
      },
      {
        "duration": 141,
        "start_time": "2023-08-27T05:52:44.104Z"
      },
      {
        "duration": 296,
        "start_time": "2023-08-27T05:52:44.249Z"
      },
      {
        "duration": 173,
        "start_time": "2023-08-27T05:52:44.553Z"
      },
      {
        "duration": 10,
        "start_time": "2023-08-27T05:52:44.727Z"
      },
      {
        "duration": 43,
        "start_time": "2023-08-27T05:52:44.738Z"
      },
      {
        "duration": 21,
        "start_time": "2023-08-27T05:52:44.787Z"
      },
      {
        "duration": 2,
        "start_time": "2023-08-27T05:52:44.810Z"
      },
      {
        "duration": 174,
        "start_time": "2023-08-27T05:52:44.813Z"
      },
      {
        "duration": 290,
        "start_time": "2023-08-27T05:52:44.993Z"
      },
      {
        "duration": 187,
        "start_time": "2023-08-27T05:52:45.285Z"
      },
      {
        "duration": 18,
        "start_time": "2023-08-27T05:52:45.479Z"
      },
      {
        "duration": 23,
        "start_time": "2023-08-27T05:52:45.499Z"
      },
      {
        "duration": 52,
        "start_time": "2023-08-27T05:52:45.523Z"
      },
      {
        "duration": 7,
        "start_time": "2023-08-27T05:52:47.567Z"
      },
      {
        "duration": 12,
        "start_time": "2023-08-27T05:54:11.400Z"
      },
      {
        "duration": 21,
        "start_time": "2023-08-27T05:54:14.689Z"
      },
      {
        "duration": 2097,
        "start_time": "2023-08-27T06:02:10.308Z"
      },
      {
        "duration": 4,
        "start_time": "2023-08-27T06:02:17.522Z"
      },
      {
        "duration": 91,
        "start_time": "2023-08-27T06:02:17.528Z"
      },
      {
        "duration": 4,
        "start_time": "2023-08-27T06:02:17.621Z"
      },
      {
        "duration": 159,
        "start_time": "2023-08-27T06:02:17.626Z"
      },
      {
        "duration": 148,
        "start_time": "2023-08-27T06:02:17.789Z"
      },
      {
        "duration": 161,
        "start_time": "2023-08-27T06:02:17.939Z"
      },
      {
        "duration": 442,
        "start_time": "2023-08-27T06:02:18.102Z"
      },
      {
        "duration": 178,
        "start_time": "2023-08-27T06:02:21.147Z"
      },
      {
        "duration": 13,
        "start_time": "2023-08-27T06:02:31.935Z"
      },
      {
        "duration": 4,
        "start_time": "2023-08-27T06:02:35.243Z"
      },
      {
        "duration": 90,
        "start_time": "2023-08-27T06:02:35.248Z"
      },
      {
        "duration": 4,
        "start_time": "2023-08-27T06:02:35.340Z"
      },
      {
        "duration": 167,
        "start_time": "2023-08-27T06:02:35.345Z"
      },
      {
        "duration": 170,
        "start_time": "2023-08-27T06:02:35.515Z"
      },
      {
        "duration": 136,
        "start_time": "2023-08-27T06:02:35.691Z"
      },
      {
        "duration": 306,
        "start_time": "2023-08-27T06:02:35.829Z"
      },
      {
        "duration": 200,
        "start_time": "2023-08-27T06:02:36.137Z"
      },
      {
        "duration": 16,
        "start_time": "2023-08-27T06:02:36.338Z"
      },
      {
        "duration": 19,
        "start_time": "2023-08-27T06:02:36.356Z"
      },
      {
        "duration": 37,
        "start_time": "2023-08-27T06:02:36.381Z"
      },
      {
        "duration": 3,
        "start_time": "2023-08-27T06:02:36.420Z"
      },
      {
        "duration": 201,
        "start_time": "2023-08-27T06:02:36.425Z"
      },
      {
        "duration": 293,
        "start_time": "2023-08-27T06:02:36.628Z"
      },
      {
        "duration": 203,
        "start_time": "2023-08-27T06:02:36.923Z"
      },
      {
        "duration": 13,
        "start_time": "2023-08-27T06:02:37.128Z"
      },
      {
        "duration": 13,
        "start_time": "2023-08-27T06:02:37.158Z"
      },
      {
        "duration": 37,
        "start_time": "2023-08-27T06:02:37.173Z"
      },
      {
        "duration": 40,
        "start_time": "2023-08-27T06:02:39.073Z"
      },
      {
        "duration": 32,
        "start_time": "2023-08-27T06:04:52.477Z"
      },
      {
        "duration": 28,
        "start_time": "2023-08-27T06:05:21.180Z"
      },
      {
        "duration": 30,
        "start_time": "2023-08-27T06:06:43.966Z"
      },
      {
        "duration": 4,
        "start_time": "2023-08-27T06:08:02.708Z"
      },
      {
        "duration": 102,
        "start_time": "2023-08-27T06:08:02.715Z"
      },
      {
        "duration": 5,
        "start_time": "2023-08-27T06:08:02.820Z"
      },
      {
        "duration": 206,
        "start_time": "2023-08-27T06:08:02.827Z"
      },
      {
        "duration": 163,
        "start_time": "2023-08-27T06:08:03.035Z"
      },
      {
        "duration": 154,
        "start_time": "2023-08-27T06:08:03.200Z"
      },
      {
        "duration": 443,
        "start_time": "2023-08-27T06:08:03.356Z"
      },
      {
        "duration": 193,
        "start_time": "2023-08-27T06:08:03.802Z"
      },
      {
        "duration": 9,
        "start_time": "2023-08-27T06:08:03.997Z"
      },
      {
        "duration": 28,
        "start_time": "2023-08-27T06:08:04.007Z"
      },
      {
        "duration": 33,
        "start_time": "2023-08-27T06:08:04.036Z"
      },
      {
        "duration": 14,
        "start_time": "2023-08-27T06:08:04.070Z"
      },
      {
        "duration": 154,
        "start_time": "2023-08-27T06:08:04.086Z"
      },
      {
        "duration": 288,
        "start_time": "2023-08-27T06:08:04.244Z"
      },
      {
        "duration": 174,
        "start_time": "2023-08-27T06:08:04.534Z"
      },
      {
        "duration": 14,
        "start_time": "2023-08-27T06:08:04.710Z"
      },
      {
        "duration": 41,
        "start_time": "2023-08-27T06:08:04.725Z"
      },
      {
        "duration": 43,
        "start_time": "2023-08-27T06:08:04.772Z"
      },
      {
        "duration": 28,
        "start_time": "2023-08-27T06:08:08.481Z"
      },
      {
        "duration": 14,
        "start_time": "2023-08-27T06:11:04.938Z"
      },
      {
        "duration": 7,
        "start_time": "2023-08-27T06:14:01.295Z"
      },
      {
        "duration": 16,
        "start_time": "2023-08-27T06:14:38.888Z"
      },
      {
        "duration": 19,
        "start_time": "2023-08-27T06:15:29.533Z"
      },
      {
        "duration": 136,
        "start_time": "2023-08-27T06:15:54.406Z"
      },
      {
        "duration": 14,
        "start_time": "2023-08-27T06:16:14.716Z"
      },
      {
        "duration": 57,
        "start_time": "2023-08-27T06:16:28.445Z"
      },
      {
        "duration": 16,
        "start_time": "2023-08-27T06:18:50.595Z"
      },
      {
        "duration": 4,
        "start_time": "2023-08-27T06:19:00.297Z"
      },
      {
        "duration": 85,
        "start_time": "2023-08-27T06:19:00.302Z"
      },
      {
        "duration": 4,
        "start_time": "2023-08-27T06:19:00.389Z"
      },
      {
        "duration": 160,
        "start_time": "2023-08-27T06:19:00.394Z"
      },
      {
        "duration": 148,
        "start_time": "2023-08-27T06:19:00.557Z"
      },
      {
        "duration": 136,
        "start_time": "2023-08-27T06:19:00.707Z"
      },
      {
        "duration": 266,
        "start_time": "2023-08-27T06:19:00.849Z"
      },
      {
        "duration": 174,
        "start_time": "2023-08-27T06:19:01.117Z"
      },
      {
        "duration": 10,
        "start_time": "2023-08-27T06:19:01.293Z"
      },
      {
        "duration": 34,
        "start_time": "2023-08-27T06:19:01.304Z"
      },
      {
        "duration": 47,
        "start_time": "2023-08-27T06:19:01.340Z"
      },
      {
        "duration": 25,
        "start_time": "2023-08-27T06:19:01.389Z"
      },
      {
        "duration": 177,
        "start_time": "2023-08-27T06:19:01.415Z"
      },
      {
        "duration": 248,
        "start_time": "2023-08-27T06:19:01.594Z"
      },
      {
        "duration": 155,
        "start_time": "2023-08-27T06:19:01.849Z"
      },
      {
        "duration": 13,
        "start_time": "2023-08-27T06:19:02.005Z"
      },
      {
        "duration": 5,
        "start_time": "2023-08-27T06:19:02.020Z"
      },
      {
        "duration": 80,
        "start_time": "2023-08-27T06:19:02.026Z"
      },
      {
        "duration": 22,
        "start_time": "2023-08-27T06:19:02.108Z"
      },
      {
        "duration": 21,
        "start_time": "2023-08-27T06:19:05.890Z"
      },
      {
        "duration": 11,
        "start_time": "2023-08-27T06:19:27.042Z"
      },
      {
        "duration": 7,
        "start_time": "2023-08-27T06:21:35.601Z"
      },
      {
        "duration": 9,
        "start_time": "2023-08-27T06:28:42.276Z"
      },
      {
        "duration": 4,
        "start_time": "2023-08-27T06:29:06.291Z"
      },
      {
        "duration": 2762,
        "start_time": "2023-08-27T06:29:13.684Z"
      },
      {
        "duration": 70,
        "start_time": "2023-08-27T06:33:38.640Z"
      },
      {
        "duration": 73,
        "start_time": "2023-08-27T06:33:49.616Z"
      },
      {
        "duration": 1606,
        "start_time": "2023-08-27T06:34:47.839Z"
      },
      {
        "duration": 166,
        "start_time": "2023-08-27T06:35:20.040Z"
      },
      {
        "duration": 1551,
        "start_time": "2023-08-27T06:35:30.040Z"
      },
      {
        "duration": 2316,
        "start_time": "2023-08-27T06:36:01.816Z"
      },
      {
        "duration": 1634,
        "start_time": "2023-08-27T06:36:16.768Z"
      },
      {
        "duration": 2896,
        "start_time": "2023-08-27T06:36:25.023Z"
      },
      {
        "duration": 12611,
        "start_time": "2023-08-27T06:45:50.881Z"
      },
      {
        "duration": 43581,
        "start_time": "2023-08-27T06:46:16.098Z"
      },
      {
        "duration": 12915,
        "start_time": "2023-08-27T06:47:10.889Z"
      },
      {
        "duration": 9,
        "start_time": "2023-08-27T06:50:29.952Z"
      },
      {
        "duration": 541,
        "start_time": "2023-08-27T06:51:02.071Z"
      },
      {
        "duration": 85,
        "start_time": "2023-08-27T06:52:07.464Z"
      },
      {
        "duration": 4,
        "start_time": "2023-08-27T06:54:31.878Z"
      },
      {
        "duration": 69,
        "start_time": "2023-08-27T06:56:36.686Z"
      },
      {
        "duration": 84,
        "start_time": "2023-08-27T06:57:37.883Z"
      },
      {
        "duration": 3,
        "start_time": "2023-08-27T06:59:39.386Z"
      },
      {
        "duration": 63,
        "start_time": "2023-08-27T06:59:39.391Z"
      },
      {
        "duration": 8,
        "start_time": "2023-08-27T06:59:39.455Z"
      },
      {
        "duration": 7,
        "start_time": "2023-08-27T06:59:41.587Z"
      },
      {
        "duration": 223,
        "start_time": "2023-08-27T06:59:51.146Z"
      },
      {
        "duration": 4,
        "start_time": "2023-08-27T07:00:25.665Z"
      },
      {
        "duration": 74,
        "start_time": "2023-08-27T07:00:25.671Z"
      },
      {
        "duration": 8,
        "start_time": "2023-08-27T07:00:25.746Z"
      },
      {
        "duration": 30,
        "start_time": "2023-08-27T07:00:28.514Z"
      },
      {
        "duration": 17,
        "start_time": "2023-08-27T07:02:36.392Z"
      },
      {
        "duration": 143,
        "start_time": "2023-08-27T07:03:03.361Z"
      },
      {
        "duration": 324,
        "start_time": "2023-08-27T07:04:26.376Z"
      },
      {
        "duration": 1408,
        "start_time": "2023-08-27T07:04:40.208Z"
      },
      {
        "duration": 185,
        "start_time": "2023-08-27T07:04:47.503Z"
      },
      {
        "duration": 146,
        "start_time": "2023-08-27T07:06:16.582Z"
      },
      {
        "duration": 284,
        "start_time": "2023-08-27T07:09:42.637Z"
      },
      {
        "duration": 34,
        "start_time": "2023-08-27T07:09:53.341Z"
      },
      {
        "duration": 3,
        "start_time": "2023-08-27T07:11:31.044Z"
      },
      {
        "duration": 20,
        "start_time": "2023-08-27T07:11:36.074Z"
      },
      {
        "duration": 17,
        "start_time": "2023-08-27T07:11:55.803Z"
      },
      {
        "duration": 18,
        "start_time": "2023-08-27T07:12:33.276Z"
      },
      {
        "duration": 20,
        "start_time": "2023-08-27T07:13:15.402Z"
      },
      {
        "duration": 23,
        "start_time": "2023-08-27T07:13:57.061Z"
      },
      {
        "duration": 3,
        "start_time": "2023-08-27T08:35:59.937Z"
      },
      {
        "duration": 73,
        "start_time": "2023-08-27T08:35:59.941Z"
      },
      {
        "duration": 4,
        "start_time": "2023-08-27T08:36:00.016Z"
      },
      {
        "duration": 33,
        "start_time": "2023-08-27T08:36:02.561Z"
      },
      {
        "duration": 153,
        "start_time": "2023-08-27T08:36:07.426Z"
      },
      {
        "duration": 26,
        "start_time": "2023-08-27T08:36:56.546Z"
      },
      {
        "duration": 20,
        "start_time": "2023-08-27T08:37:12.097Z"
      },
      {
        "duration": 118,
        "start_time": "2023-08-27T08:41:14.815Z"
      },
      {
        "duration": 157,
        "start_time": "2023-08-27T08:41:28.429Z"
      },
      {
        "duration": 12,
        "start_time": "2023-08-27T08:44:06.724Z"
      },
      {
        "duration": 11,
        "start_time": "2023-08-27T08:44:43.813Z"
      },
      {
        "duration": 11,
        "start_time": "2023-08-27T08:44:53.863Z"
      },
      {
        "duration": 55,
        "start_time": "2023-08-27T08:47:08.883Z"
      },
      {
        "duration": 1644,
        "start_time": "2023-08-27T08:47:55.521Z"
      },
      {
        "duration": 1599,
        "start_time": "2023-08-27T08:48:21.394Z"
      },
      {
        "duration": 3670,
        "start_time": "2023-08-27T08:53:15.599Z"
      },
      {
        "duration": 20,
        "start_time": "2023-08-27T08:53:53.222Z"
      },
      {
        "duration": 8,
        "start_time": "2023-08-27T08:54:08.710Z"
      },
      {
        "duration": 3391,
        "start_time": "2023-08-27T08:54:15.167Z"
      },
      {
        "duration": 8,
        "start_time": "2023-08-27T08:54:54.797Z"
      },
      {
        "duration": 2427,
        "start_time": "2023-08-27T08:56:04.414Z"
      },
      {
        "duration": 4,
        "start_time": "2023-08-27T08:56:23.701Z"
      },
      {
        "duration": 85,
        "start_time": "2023-08-27T08:56:23.706Z"
      },
      {
        "duration": 4,
        "start_time": "2023-08-27T08:56:23.793Z"
      },
      {
        "duration": 35,
        "start_time": "2023-08-27T08:56:23.798Z"
      },
      {
        "duration": 169,
        "start_time": "2023-08-27T08:56:23.836Z"
      },
      {
        "duration": 8,
        "start_time": "2023-08-27T08:56:26.309Z"
      },
      {
        "duration": 141,
        "start_time": "2023-08-27T08:56:29.430Z"
      },
      {
        "duration": 1729,
        "start_time": "2023-08-27T08:56:38.646Z"
      },
      {
        "duration": 1715,
        "start_time": "2023-08-27T08:56:50.997Z"
      },
      {
        "duration": 1976,
        "start_time": "2023-08-27T08:57:38.742Z"
      },
      {
        "duration": 1381,
        "start_time": "2023-08-27T08:58:07.429Z"
      },
      {
        "duration": 72,
        "start_time": "2023-08-27T08:58:08.811Z"
      },
      {
        "duration": 4,
        "start_time": "2023-08-27T08:58:08.885Z"
      },
      {
        "duration": 71,
        "start_time": "2023-08-27T08:58:08.891Z"
      },
      {
        "duration": 155,
        "start_time": "2023-08-27T08:58:08.970Z"
      },
      {
        "duration": 9,
        "start_time": "2023-08-27T08:58:09.127Z"
      },
      {
        "duration": 159,
        "start_time": "2023-08-27T08:58:09.138Z"
      },
      {
        "duration": 3025,
        "start_time": "2023-08-27T08:58:11.414Z"
      },
      {
        "duration": 5038,
        "start_time": "2023-08-27T09:00:08.265Z"
      },
      {
        "duration": 3,
        "start_time": "2023-08-27T09:01:11.893Z"
      },
      {
        "duration": 65,
        "start_time": "2023-08-27T09:01:11.898Z"
      },
      {
        "duration": 7,
        "start_time": "2023-08-27T09:01:11.964Z"
      },
      {
        "duration": 42,
        "start_time": "2023-08-27T09:01:11.973Z"
      },
      {
        "duration": 164,
        "start_time": "2023-08-27T09:01:12.016Z"
      },
      {
        "duration": 9,
        "start_time": "2023-08-27T09:01:12.181Z"
      },
      {
        "duration": 170,
        "start_time": "2023-08-27T09:01:12.192Z"
      },
      {
        "duration": 4117,
        "start_time": "2023-08-27T09:01:37.989Z"
      },
      {
        "duration": 3,
        "start_time": "2023-08-27T09:02:08.776Z"
      },
      {
        "duration": 212,
        "start_time": "2023-08-27T09:02:18.341Z"
      },
      {
        "duration": 89,
        "start_time": "2023-08-27T09:02:25.677Z"
      },
      {
        "duration": 84,
        "start_time": "2023-08-27T09:03:00.710Z"
      },
      {
        "duration": 153,
        "start_time": "2023-08-27T09:03:09.389Z"
      },
      {
        "duration": 3,
        "start_time": "2023-08-27T09:03:44.620Z"
      },
      {
        "duration": 78,
        "start_time": "2023-08-27T09:03:44.625Z"
      },
      {
        "duration": 4,
        "start_time": "2023-08-27T09:03:44.705Z"
      },
      {
        "duration": 51,
        "start_time": "2023-08-27T09:03:44.710Z"
      },
      {
        "duration": 148,
        "start_time": "2023-08-27T09:03:44.763Z"
      },
      {
        "duration": 7,
        "start_time": "2023-08-27T09:03:44.913Z"
      },
      {
        "duration": 175,
        "start_time": "2023-08-27T09:03:44.922Z"
      },
      {
        "duration": 90,
        "start_time": "2023-08-27T09:03:45.098Z"
      },
      {
        "duration": 147,
        "start_time": "2023-08-27T09:03:45.189Z"
      },
      {
        "duration": 302,
        "start_time": "2023-08-27T09:03:45.338Z"
      },
      {
        "duration": 167,
        "start_time": "2023-08-27T09:03:45.642Z"
      },
      {
        "duration": 14,
        "start_time": "2023-08-27T09:03:45.811Z"
      },
      {
        "duration": 4,
        "start_time": "2023-08-27T09:03:45.827Z"
      },
      {
        "duration": 55,
        "start_time": "2023-08-27T09:03:45.833Z"
      },
      {
        "duration": 25,
        "start_time": "2023-08-27T09:03:45.890Z"
      },
      {
        "duration": 9,
        "start_time": "2023-08-27T09:03:45.916Z"
      },
      {
        "duration": 31,
        "start_time": "2023-08-27T09:03:45.926Z"
      },
      {
        "duration": 598,
        "start_time": "2023-08-27T09:03:47.644Z"
      },
      {
        "duration": 2915,
        "start_time": "2023-08-27T09:03:53.140Z"
      },
      {
        "duration": 13835,
        "start_time": "2023-08-27T09:04:02.339Z"
      },
      {
        "duration": 133,
        "start_time": "2023-08-27T09:04:21.620Z"
      },
      {
        "duration": 4791,
        "start_time": "2023-08-27T09:05:22.356Z"
      },
      {
        "duration": 4,
        "start_time": "2023-08-27T09:05:30.803Z"
      },
      {
        "duration": 116,
        "start_time": "2023-08-27T09:05:30.809Z"
      },
      {
        "duration": 5,
        "start_time": "2023-08-27T09:05:30.926Z"
      },
      {
        "duration": 57,
        "start_time": "2023-08-27T09:05:30.933Z"
      },
      {
        "duration": 159,
        "start_time": "2023-08-27T09:05:30.992Z"
      },
      {
        "duration": 10,
        "start_time": "2023-08-27T09:05:33.924Z"
      },
      {
        "duration": 114,
        "start_time": "2023-08-27T09:16:57.648Z"
      },
      {
        "duration": 115,
        "start_time": "2023-08-27T09:17:10.872Z"
      },
      {
        "duration": 150,
        "start_time": "2023-08-27T09:18:19.791Z"
      },
      {
        "duration": 577,
        "start_time": "2023-08-27T09:18:24.046Z"
      },
      {
        "duration": 9,
        "start_time": "2023-08-27T09:18:51.078Z"
      },
      {
        "duration": 10,
        "start_time": "2023-08-27T09:18:55.237Z"
      },
      {
        "duration": 9,
        "start_time": "2023-08-27T09:19:00.262Z"
      },
      {
        "duration": 115,
        "start_time": "2023-08-27T09:19:13.118Z"
      },
      {
        "duration": 257,
        "start_time": "2023-08-27T09:20:08.581Z"
      },
      {
        "duration": 231,
        "start_time": "2023-08-27T09:21:53.900Z"
      },
      {
        "duration": 13,
        "start_time": "2023-08-27T09:22:09.949Z"
      },
      {
        "duration": 1236,
        "start_time": "2023-08-27T09:22:59.156Z"
      },
      {
        "duration": 1216,
        "start_time": "2023-08-27T09:23:26.315Z"
      },
      {
        "duration": 1328,
        "start_time": "2023-08-27T09:24:08.694Z"
      },
      {
        "duration": 1378,
        "start_time": "2023-08-27T09:25:05.435Z"
      },
      {
        "duration": 1160,
        "start_time": "2023-08-27T09:25:14.210Z"
      },
      {
        "duration": 1450,
        "start_time": "2023-08-27T09:25:33.514Z"
      },
      {
        "duration": 1172,
        "start_time": "2023-08-27T09:26:10.332Z"
      },
      {
        "duration": 1336,
        "start_time": "2023-08-27T09:26:50.602Z"
      },
      {
        "duration": 247,
        "start_time": "2023-08-27T09:27:51.578Z"
      },
      {
        "duration": 246,
        "start_time": "2023-08-27T09:27:56.737Z"
      },
      {
        "duration": 617,
        "start_time": "2023-08-27T09:28:39.984Z"
      },
      {
        "duration": 10,
        "start_time": "2023-08-27T09:28:56.081Z"
      },
      {
        "duration": 400,
        "start_time": "2023-08-27T09:29:20.121Z"
      },
      {
        "duration": 459,
        "start_time": "2023-08-27T09:29:34.855Z"
      },
      {
        "duration": 379,
        "start_time": "2023-08-27T09:29:47.279Z"
      },
      {
        "duration": 208,
        "start_time": "2023-08-27T12:23:14.401Z"
      },
      {
        "duration": 605,
        "start_time": "2023-08-27T12:23:30.249Z"
      },
      {
        "duration": 197,
        "start_time": "2023-08-27T12:23:39.920Z"
      },
      {
        "duration": 503,
        "start_time": "2023-08-27T12:24:10.072Z"
      },
      {
        "duration": 541,
        "start_time": "2023-08-27T12:24:20.801Z"
      },
      {
        "duration": 679,
        "start_time": "2023-08-27T12:24:29.392Z"
      },
      {
        "duration": 458,
        "start_time": "2023-08-27T12:24:57.212Z"
      },
      {
        "duration": 180,
        "start_time": "2023-08-27T12:25:13.864Z"
      },
      {
        "duration": 169,
        "start_time": "2023-08-27T12:25:23.056Z"
      },
      {
        "duration": 403,
        "start_time": "2023-08-27T12:25:28.199Z"
      },
      {
        "duration": 4,
        "start_time": "2023-08-27T12:29:01.745Z"
      },
      {
        "duration": 75,
        "start_time": "2023-08-27T12:29:01.752Z"
      },
      {
        "duration": 5,
        "start_time": "2023-08-27T12:29:01.828Z"
      },
      {
        "duration": 50,
        "start_time": "2023-08-27T12:29:01.835Z"
      },
      {
        "duration": 134,
        "start_time": "2023-08-27T12:29:01.888Z"
      },
      {
        "duration": 10,
        "start_time": "2023-08-27T12:29:02.024Z"
      },
      {
        "duration": 320,
        "start_time": "2023-08-27T12:29:02.036Z"
      },
      {
        "duration": 200,
        "start_time": "2023-08-27T12:29:02.358Z"
      },
      {
        "duration": 408,
        "start_time": "2023-08-27T12:29:02.560Z"
      },
      {
        "duration": 517,
        "start_time": "2023-08-27T12:29:02.970Z"
      },
      {
        "duration": 151,
        "start_time": "2023-08-27T12:29:03.489Z"
      },
      {
        "duration": 82,
        "start_time": "2023-08-27T12:29:03.642Z"
      },
      {
        "duration": 139,
        "start_time": "2023-08-27T12:29:03.725Z"
      },
      {
        "duration": 266,
        "start_time": "2023-08-27T12:29:03.866Z"
      },
      {
        "duration": 295,
        "start_time": "2023-08-27T12:29:04.134Z"
      },
      {
        "duration": 5,
        "start_time": "2023-08-27T12:29:36.334Z"
      },
      {
        "duration": 136,
        "start_time": "2023-08-27T12:29:36.342Z"
      },
      {
        "duration": 16,
        "start_time": "2023-08-27T12:29:36.481Z"
      },
      {
        "duration": 49,
        "start_time": "2023-08-27T12:29:36.499Z"
      },
      {
        "duration": 151,
        "start_time": "2023-08-27T12:29:36.550Z"
      },
      {
        "duration": 10,
        "start_time": "2023-08-27T12:29:36.702Z"
      },
      {
        "duration": 135,
        "start_time": "2023-08-27T12:29:36.714Z"
      },
      {
        "duration": 185,
        "start_time": "2023-08-27T12:29:36.851Z"
      },
      {
        "duration": 414,
        "start_time": "2023-08-27T12:29:37.037Z"
      },
      {
        "duration": 509,
        "start_time": "2023-08-27T12:29:37.453Z"
      },
      {
        "duration": 148,
        "start_time": "2023-08-27T12:29:37.964Z"
      },
      {
        "duration": 96,
        "start_time": "2023-08-27T12:29:38.113Z"
      },
      {
        "duration": 164,
        "start_time": "2023-08-27T12:29:38.211Z"
      },
      {
        "duration": 407,
        "start_time": "2023-08-27T12:29:38.377Z"
      },
      {
        "duration": 148,
        "start_time": "2023-08-27T12:29:38.786Z"
      },
      {
        "duration": 19,
        "start_time": "2023-08-27T12:29:38.936Z"
      },
      {
        "duration": 6,
        "start_time": "2023-08-27T12:29:38.956Z"
      },
      {
        "duration": 38,
        "start_time": "2023-08-27T12:29:38.963Z"
      },
      {
        "duration": 23,
        "start_time": "2023-08-27T12:29:39.002Z"
      },
      {
        "duration": 28,
        "start_time": "2023-08-27T12:29:39.027Z"
      },
      {
        "duration": 7,
        "start_time": "2023-08-27T12:29:39.057Z"
      },
      {
        "duration": 634,
        "start_time": "2023-08-27T12:29:39.068Z"
      },
      {
        "duration": 2883,
        "start_time": "2023-08-27T12:29:39.704Z"
      },
      {
        "duration": 12734,
        "start_time": "2023-08-27T12:29:42.589Z"
      },
      {
        "duration": 132,
        "start_time": "2023-08-27T12:29:58.934Z"
      },
      {
        "duration": 4,
        "start_time": "2023-08-27T12:36:22.667Z"
      },
      {
        "duration": 62,
        "start_time": "2023-08-27T12:36:22.674Z"
      },
      {
        "duration": 5,
        "start_time": "2023-08-27T12:36:22.738Z"
      },
      {
        "duration": 45,
        "start_time": "2023-08-27T12:36:22.745Z"
      },
      {
        "duration": 185,
        "start_time": "2023-08-27T12:36:22.792Z"
      },
      {
        "duration": 10,
        "start_time": "2023-08-27T12:36:22.979Z"
      },
      {
        "duration": 145,
        "start_time": "2023-08-27T12:36:22.991Z"
      },
      {
        "duration": 240,
        "start_time": "2023-08-27T12:36:23.137Z"
      },
      {
        "duration": 492,
        "start_time": "2023-08-27T12:36:23.378Z"
      },
      {
        "duration": 650,
        "start_time": "2023-08-27T12:36:23.871Z"
      },
      {
        "duration": 253,
        "start_time": "2023-08-27T12:36:24.524Z"
      },
      {
        "duration": 99,
        "start_time": "2023-08-27T12:36:24.779Z"
      },
      {
        "duration": 151,
        "start_time": "2023-08-27T12:36:24.880Z"
      },
      {
        "duration": 489,
        "start_time": "2023-08-27T12:36:25.034Z"
      },
      {
        "duration": 179,
        "start_time": "2023-08-27T12:36:25.525Z"
      },
      {
        "duration": 16,
        "start_time": "2023-08-27T12:36:25.705Z"
      },
      {
        "duration": 5,
        "start_time": "2023-08-27T12:36:25.722Z"
      },
      {
        "duration": 57,
        "start_time": "2023-08-27T12:36:25.728Z"
      },
      {
        "duration": 69,
        "start_time": "2023-08-27T12:36:38.198Z"
      },
      {
        "duration": 6,
        "start_time": "2023-08-27T12:37:06.180Z"
      },
      {
        "duration": 77,
        "start_time": "2023-08-27T12:37:06.188Z"
      },
      {
        "duration": 7,
        "start_time": "2023-08-27T12:37:06.266Z"
      },
      {
        "duration": 57,
        "start_time": "2023-08-27T12:37:06.276Z"
      },
      {
        "duration": 193,
        "start_time": "2023-08-27T12:37:06.336Z"
      },
      {
        "duration": 10,
        "start_time": "2023-08-27T12:37:06.531Z"
      },
      {
        "duration": 146,
        "start_time": "2023-08-27T12:37:06.542Z"
      },
      {
        "duration": 209,
        "start_time": "2023-08-27T12:37:06.690Z"
      },
      {
        "duration": 476,
        "start_time": "2023-08-27T12:37:06.900Z"
      },
      {
        "duration": 545,
        "start_time": "2023-08-27T12:37:07.378Z"
      },
      {
        "duration": 177,
        "start_time": "2023-08-27T12:37:07.925Z"
      },
      {
        "duration": 87,
        "start_time": "2023-08-27T12:37:08.104Z"
      },
      {
        "duration": 145,
        "start_time": "2023-08-27T12:37:08.193Z"
      },
      {
        "duration": 448,
        "start_time": "2023-08-27T12:37:08.352Z"
      },
      {
        "duration": 168,
        "start_time": "2023-08-27T12:37:08.802Z"
      },
      {
        "duration": 23,
        "start_time": "2023-08-27T12:37:08.972Z"
      },
      {
        "duration": 6,
        "start_time": "2023-08-27T12:37:08.997Z"
      },
      {
        "duration": 69,
        "start_time": "2023-08-27T12:37:09.005Z"
      },
      {
        "duration": 3,
        "start_time": "2023-08-27T12:37:09.076Z"
      },
      {
        "duration": 22,
        "start_time": "2023-08-27T12:37:09.081Z"
      },
      {
        "duration": 13,
        "start_time": "2023-08-27T12:37:09.105Z"
      },
      {
        "duration": 589,
        "start_time": "2023-08-27T12:37:09.120Z"
      },
      {
        "duration": 2861,
        "start_time": "2023-08-27T12:37:09.711Z"
      },
      {
        "duration": 13741,
        "start_time": "2023-08-27T12:37:12.574Z"
      },
      {
        "duration": 200,
        "start_time": "2023-08-27T12:37:30.081Z"
      },
      {
        "duration": 5331,
        "start_time": "2023-08-27T12:44:27.581Z"
      },
      {
        "duration": 4,
        "start_time": "2023-08-27T12:44:40.060Z"
      },
      {
        "duration": 65,
        "start_time": "2023-08-27T12:44:40.066Z"
      },
      {
        "duration": 4,
        "start_time": "2023-08-27T12:44:40.133Z"
      },
      {
        "duration": 32,
        "start_time": "2023-08-27T12:44:40.139Z"
      },
      {
        "duration": 8,
        "start_time": "2023-08-27T12:44:42.412Z"
      },
      {
        "duration": 120,
        "start_time": "2023-08-27T12:45:26.124Z"
      },
      {
        "duration": 78,
        "start_time": "2023-08-27T12:47:59.307Z"
      },
      {
        "duration": 151,
        "start_time": "2023-08-27T12:48:01.625Z"
      },
      {
        "duration": 142,
        "start_time": "2023-08-27T12:48:34.916Z"
      },
      {
        "duration": 14,
        "start_time": "2023-08-27T12:49:52.985Z"
      },
      {
        "duration": 4,
        "start_time": "2023-08-27T12:50:01.816Z"
      },
      {
        "duration": 142,
        "start_time": "2023-08-27T12:50:01.823Z"
      },
      {
        "duration": 5,
        "start_time": "2023-08-27T12:50:01.967Z"
      },
      {
        "duration": 97,
        "start_time": "2023-08-27T12:50:01.973Z"
      },
      {
        "duration": 7,
        "start_time": "2023-08-27T12:50:02.072Z"
      },
      {
        "duration": 158,
        "start_time": "2023-08-27T12:50:02.080Z"
      },
      {
        "duration": 151,
        "start_time": "2023-08-27T12:50:02.240Z"
      },
      {
        "duration": 201,
        "start_time": "2023-08-27T12:50:02.392Z"
      },
      {
        "duration": 462,
        "start_time": "2023-08-27T12:50:02.594Z"
      },
      {
        "duration": 517,
        "start_time": "2023-08-27T12:50:03.057Z"
      },
      {
        "duration": 93,
        "start_time": "2023-08-27T12:50:03.576Z"
      },
      {
        "duration": 148,
        "start_time": "2023-08-27T12:50:03.671Z"
      },
      {
        "duration": 13,
        "start_time": "2023-08-27T12:50:03.821Z"
      },
      {
        "duration": 4,
        "start_time": "2023-08-27T12:50:05.281Z"
      },
      {
        "duration": 9,
        "start_time": "2023-08-27T12:50:08.362Z"
      },
      {
        "duration": 32,
        "start_time": "2023-08-27T12:50:18.840Z"
      },
      {
        "duration": 7,
        "start_time": "2023-08-27T12:50:25.264Z"
      },
      {
        "duration": 698,
        "start_time": "2023-08-27T12:50:34.720Z"
      },
      {
        "duration": 3456,
        "start_time": "2023-08-27T12:50:37.769Z"
      },
      {
        "duration": 16506,
        "start_time": "2023-08-27T12:50:44.137Z"
      },
      {
        "duration": 297,
        "start_time": "2023-08-27T12:51:03.393Z"
      },
      {
        "duration": 9,
        "start_time": "2023-08-27T12:51:28.266Z"
      },
      {
        "duration": 684,
        "start_time": "2023-08-27T12:51:32.848Z"
      },
      {
        "duration": 3382,
        "start_time": "2023-08-27T12:51:35.687Z"
      },
      {
        "duration": 14384,
        "start_time": "2023-08-27T12:51:40.584Z"
      },
      {
        "duration": 258,
        "start_time": "2023-08-27T12:51:57.631Z"
      },
      {
        "duration": 13,
        "start_time": "2023-08-27T12:52:37.918Z"
      },
      {
        "duration": 4,
        "start_time": "2023-08-27T12:52:44.637Z"
      },
      {
        "duration": 79,
        "start_time": "2023-08-27T12:52:44.646Z"
      },
      {
        "duration": 4,
        "start_time": "2023-08-27T12:52:44.727Z"
      },
      {
        "duration": 72,
        "start_time": "2023-08-27T12:52:44.732Z"
      },
      {
        "duration": 9,
        "start_time": "2023-08-27T12:52:44.807Z"
      },
      {
        "duration": 153,
        "start_time": "2023-08-27T12:52:44.817Z"
      },
      {
        "duration": 141,
        "start_time": "2023-08-27T12:52:44.972Z"
      },
      {
        "duration": 186,
        "start_time": "2023-08-27T12:52:45.114Z"
      },
      {
        "duration": 428,
        "start_time": "2023-08-27T12:52:45.302Z"
      },
      {
        "duration": 502,
        "start_time": "2023-08-27T12:52:45.732Z"
      },
      {
        "duration": 92,
        "start_time": "2023-08-27T12:52:46.236Z"
      },
      {
        "duration": 204,
        "start_time": "2023-08-27T12:52:46.330Z"
      },
      {
        "duration": 25,
        "start_time": "2023-08-27T12:52:46.536Z"
      },
      {
        "duration": 5,
        "start_time": "2023-08-27T12:52:48.814Z"
      },
      {
        "duration": 9,
        "start_time": "2023-08-27T12:52:51.495Z"
      },
      {
        "duration": 27,
        "start_time": "2023-08-27T12:52:53.398Z"
      },
      {
        "duration": 8,
        "start_time": "2023-08-27T12:52:55.694Z"
      },
      {
        "duration": 613,
        "start_time": "2023-08-27T12:52:58.095Z"
      },
      {
        "duration": 3451,
        "start_time": "2023-08-27T12:53:00.975Z"
      },
      {
        "duration": 12987,
        "start_time": "2023-08-27T12:53:07.735Z"
      },
      {
        "duration": 282,
        "start_time": "2023-08-27T12:53:27.885Z"
      },
      {
        "duration": 16,
        "start_time": "2023-08-27T12:53:41.342Z"
      },
      {
        "duration": 3,
        "start_time": "2023-08-27T12:53:44.877Z"
      },
      {
        "duration": 67,
        "start_time": "2023-08-27T12:53:44.881Z"
      },
      {
        "duration": 6,
        "start_time": "2023-08-27T12:53:44.959Z"
      },
      {
        "duration": 52,
        "start_time": "2023-08-27T12:53:44.966Z"
      },
      {
        "duration": 10,
        "start_time": "2023-08-27T12:53:45.021Z"
      },
      {
        "duration": 145,
        "start_time": "2023-08-27T12:53:45.032Z"
      },
      {
        "duration": 143,
        "start_time": "2023-08-27T12:53:45.179Z"
      },
      {
        "duration": 189,
        "start_time": "2023-08-27T12:53:45.324Z"
      },
      {
        "duration": 628,
        "start_time": "2023-08-27T12:53:45.515Z"
      },
      {
        "duration": 584,
        "start_time": "2023-08-27T12:53:46.145Z"
      },
      {
        "duration": 84,
        "start_time": "2023-08-27T12:53:46.731Z"
      },
      {
        "duration": 155,
        "start_time": "2023-08-27T12:53:46.817Z"
      },
      {
        "duration": 14,
        "start_time": "2023-08-27T12:53:46.974Z"
      },
      {
        "duration": 4,
        "start_time": "2023-08-27T12:53:49.102Z"
      },
      {
        "duration": 12,
        "start_time": "2023-08-27T12:53:50.741Z"
      },
      {
        "duration": 41,
        "start_time": "2023-08-27T12:53:51.630Z"
      },
      {
        "duration": 11,
        "start_time": "2023-08-27T12:53:53.093Z"
      },
      {
        "duration": 668,
        "start_time": "2023-08-27T12:53:54.553Z"
      },
      {
        "duration": 3300,
        "start_time": "2023-08-27T12:53:57.878Z"
      },
      {
        "duration": 13661,
        "start_time": "2023-08-27T12:54:04.565Z"
      },
      {
        "duration": 34928,
        "start_time": "2023-08-27T12:54:37.765Z"
      },
      {
        "duration": 280,
        "start_time": "2023-08-27T13:06:14.169Z"
      },
      {
        "duration": 30587,
        "start_time": "2023-08-27T13:07:36.069Z"
      },
      {
        "duration": 285,
        "start_time": "2023-08-27T13:08:15.696Z"
      },
      {
        "duration": 5,
        "start_time": "2023-08-27T13:13:24.628Z"
      },
      {
        "duration": 9,
        "start_time": "2023-08-27T13:15:30.002Z"
      },
      {
        "duration": 9,
        "start_time": "2023-08-27T13:17:21.864Z"
      },
      {
        "duration": 22,
        "start_time": "2023-08-27T13:17:27.783Z"
      },
      {
        "duration": 3,
        "start_time": "2023-08-27T13:17:48.585Z"
      },
      {
        "duration": 9,
        "start_time": "2023-08-27T13:17:57.272Z"
      },
      {
        "duration": 10,
        "start_time": "2023-08-27T13:18:11.407Z"
      },
      {
        "duration": 912,
        "start_time": "2023-08-27T13:20:38.709Z"
      },
      {
        "duration": 659,
        "start_time": "2023-08-27T13:24:50.163Z"
      },
      {
        "duration": 3155,
        "start_time": "2023-08-27T13:25:11.218Z"
      },
      {
        "duration": 27764,
        "start_time": "2023-08-27T13:25:32.667Z"
      },
      {
        "duration": 331,
        "start_time": "2023-08-27T13:26:09.220Z"
      },
      {
        "duration": 973,
        "start_time": "2023-08-27T13:26:45.297Z"
      },
      {
        "duration": 885,
        "start_time": "2023-08-27T13:26:52.888Z"
      },
      {
        "duration": 35,
        "start_time": "2023-08-27T13:35:03.804Z"
      },
      {
        "duration": 2817,
        "start_time": "2023-08-27T13:35:30.575Z"
      },
      {
        "duration": 3,
        "start_time": "2023-08-27T13:35:37.324Z"
      },
      {
        "duration": 62,
        "start_time": "2023-08-27T13:35:37.330Z"
      },
      {
        "duration": 4,
        "start_time": "2023-08-27T13:35:37.393Z"
      },
      {
        "duration": 28,
        "start_time": "2023-08-27T13:35:37.399Z"
      },
      {
        "duration": 9,
        "start_time": "2023-08-27T13:35:39.668Z"
      },
      {
        "duration": 7,
        "start_time": "2023-08-27T13:36:45.068Z"
      },
      {
        "duration": 4,
        "start_time": "2023-08-27T13:36:59.129Z"
      },
      {
        "duration": 72,
        "start_time": "2023-08-27T13:36:59.135Z"
      },
      {
        "duration": 4,
        "start_time": "2023-08-27T13:36:59.209Z"
      },
      {
        "duration": 67,
        "start_time": "2023-08-27T13:36:59.215Z"
      },
      {
        "duration": 6,
        "start_time": "2023-08-27T13:36:59.284Z"
      },
      {
        "duration": 139,
        "start_time": "2023-08-27T13:36:59.292Z"
      },
      {
        "duration": 160,
        "start_time": "2023-08-27T13:36:59.433Z"
      },
      {
        "duration": 189,
        "start_time": "2023-08-27T13:36:59.594Z"
      },
      {
        "duration": 609,
        "start_time": "2023-08-27T13:36:59.785Z"
      },
      {
        "duration": 539,
        "start_time": "2023-08-27T13:37:00.396Z"
      },
      {
        "duration": 82,
        "start_time": "2023-08-27T13:37:00.936Z"
      },
      {
        "duration": 167,
        "start_time": "2023-08-27T13:37:01.020Z"
      },
      {
        "duration": 14,
        "start_time": "2023-08-27T13:37:01.188Z"
      },
      {
        "duration": 37,
        "start_time": "2023-08-27T13:37:01.204Z"
      },
      {
        "duration": 49,
        "start_time": "2023-08-27T13:37:01.243Z"
      },
      {
        "duration": 50,
        "start_time": "2023-08-27T13:37:01.294Z"
      },
      {
        "duration": 20,
        "start_time": "2023-08-27T13:37:01.346Z"
      },
      {
        "duration": 716,
        "start_time": "2023-08-27T13:37:01.368Z"
      },
      {
        "duration": 3356,
        "start_time": "2023-08-27T13:37:02.086Z"
      },
      {
        "duration": 28887,
        "start_time": "2023-08-27T13:37:05.444Z"
      },
      {
        "duration": 324,
        "start_time": "2023-08-27T13:37:34.333Z"
      },
      {
        "duration": 90,
        "start_time": "2023-08-27T13:37:34.663Z"
      },
      {
        "duration": 9,
        "start_time": "2023-08-27T13:37:34.756Z"
      },
      {
        "duration": 7,
        "start_time": "2023-08-27T13:37:34.767Z"
      },
      {
        "duration": 951,
        "start_time": "2023-08-27T13:37:34.776Z"
      },
      {
        "duration": 26,
        "start_time": "2023-08-27T13:37:43.332Z"
      },
      {
        "duration": 4,
        "start_time": "2023-08-27T13:38:12.673Z"
      },
      {
        "duration": 56,
        "start_time": "2023-08-27T13:38:12.679Z"
      },
      {
        "duration": 4,
        "start_time": "2023-08-27T13:38:12.737Z"
      },
      {
        "duration": 40,
        "start_time": "2023-08-27T13:38:12.742Z"
      },
      {
        "duration": 7,
        "start_time": "2023-08-27T13:38:12.784Z"
      },
      {
        "duration": 130,
        "start_time": "2023-08-27T13:38:12.793Z"
      },
      {
        "duration": 155,
        "start_time": "2023-08-27T13:38:12.925Z"
      },
      {
        "duration": 184,
        "start_time": "2023-08-27T13:38:13.082Z"
      },
      {
        "duration": 433,
        "start_time": "2023-08-27T13:38:13.268Z"
      },
      {
        "duration": 698,
        "start_time": "2023-08-27T13:38:13.703Z"
      },
      {
        "duration": 93,
        "start_time": "2023-08-27T13:38:14.402Z"
      },
      {
        "duration": 145,
        "start_time": "2023-08-27T13:38:14.497Z"
      },
      {
        "duration": 23,
        "start_time": "2023-08-27T13:38:14.651Z"
      },
      {
        "duration": 4,
        "start_time": "2023-08-27T13:38:14.677Z"
      },
      {
        "duration": 34,
        "start_time": "2023-08-27T13:38:14.682Z"
      },
      {
        "duration": 11,
        "start_time": "2023-08-27T13:38:21.529Z"
      },
      {
        "duration": 14,
        "start_time": "2023-08-27T13:38:23.081Z"
      },
      {
        "duration": 16,
        "start_time": "2023-08-27T13:38:55.329Z"
      },
      {
        "duration": 4,
        "start_time": "2023-08-27T13:39:04.825Z"
      },
      {
        "duration": 57,
        "start_time": "2023-08-27T13:39:04.831Z"
      },
      {
        "duration": 4,
        "start_time": "2023-08-27T13:39:04.890Z"
      },
      {
        "duration": 40,
        "start_time": "2023-08-27T13:39:04.896Z"
      },
      {
        "duration": 14,
        "start_time": "2023-08-27T13:39:04.938Z"
      },
      {
        "duration": 125,
        "start_time": "2023-08-27T13:39:04.953Z"
      },
      {
        "duration": 152,
        "start_time": "2023-08-27T13:39:05.080Z"
      },
      {
        "duration": 188,
        "start_time": "2023-08-27T13:39:05.233Z"
      },
      {
        "duration": 404,
        "start_time": "2023-08-27T13:39:05.423Z"
      },
      {
        "duration": 600,
        "start_time": "2023-08-27T13:39:05.828Z"
      },
      {
        "duration": 84,
        "start_time": "2023-08-27T13:39:06.429Z"
      },
      {
        "duration": 145,
        "start_time": "2023-08-27T13:39:06.515Z"
      },
      {
        "duration": 13,
        "start_time": "2023-08-27T13:39:06.662Z"
      },
      {
        "duration": 4,
        "start_time": "2023-08-27T13:39:06.677Z"
      },
      {
        "duration": 29,
        "start_time": "2023-08-27T13:39:06.682Z"
      },
      {
        "duration": 8,
        "start_time": "2023-08-27T13:39:06.712Z"
      },
      {
        "duration": 21,
        "start_time": "2023-08-27T13:39:08.578Z"
      },
      {
        "duration": 16,
        "start_time": "2023-08-27T13:39:23.649Z"
      },
      {
        "duration": 14,
        "start_time": "2023-08-27T13:39:51.801Z"
      },
      {
        "duration": 8,
        "start_time": "2023-08-27T13:40:07.965Z"
      },
      {
        "duration": 3,
        "start_time": "2023-08-27T13:40:23.288Z"
      },
      {
        "duration": 56,
        "start_time": "2023-08-27T13:40:23.294Z"
      },
      {
        "duration": 12,
        "start_time": "2023-08-27T13:40:23.352Z"
      },
      {
        "duration": 32,
        "start_time": "2023-08-27T13:40:23.365Z"
      },
      {
        "duration": 7,
        "start_time": "2023-08-27T13:40:23.398Z"
      },
      {
        "duration": 160,
        "start_time": "2023-08-27T13:40:23.407Z"
      },
      {
        "duration": 289,
        "start_time": "2023-08-27T13:40:23.569Z"
      },
      {
        "duration": 172,
        "start_time": "2023-08-27T13:40:23.861Z"
      },
      {
        "duration": 395,
        "start_time": "2023-08-27T13:40:24.035Z"
      },
      {
        "duration": 497,
        "start_time": "2023-08-27T13:40:24.431Z"
      },
      {
        "duration": 85,
        "start_time": "2023-08-27T13:40:24.929Z"
      },
      {
        "duration": 139,
        "start_time": "2023-08-27T13:40:25.015Z"
      },
      {
        "duration": 13,
        "start_time": "2023-08-27T13:40:25.155Z"
      },
      {
        "duration": 3,
        "start_time": "2023-08-27T13:40:25.170Z"
      },
      {
        "duration": 42,
        "start_time": "2023-08-27T13:40:25.175Z"
      },
      {
        "duration": 8,
        "start_time": "2023-08-27T13:40:25.218Z"
      },
      {
        "duration": 30,
        "start_time": "2023-08-27T13:40:25.227Z"
      },
      {
        "duration": 18,
        "start_time": "2023-08-27T13:40:25.259Z"
      },
      {
        "duration": 0,
        "start_time": "2023-08-27T13:40:25.278Z"
      },
      {
        "duration": 0,
        "start_time": "2023-08-27T13:40:25.279Z"
      },
      {
        "duration": 0,
        "start_time": "2023-08-27T13:40:25.280Z"
      },
      {
        "duration": 0,
        "start_time": "2023-08-27T13:40:25.281Z"
      },
      {
        "duration": 0,
        "start_time": "2023-08-27T13:40:25.282Z"
      },
      {
        "duration": 0,
        "start_time": "2023-08-27T13:40:25.283Z"
      },
      {
        "duration": 0,
        "start_time": "2023-08-27T13:40:25.284Z"
      },
      {
        "duration": 30,
        "start_time": "2023-08-27T13:41:08.272Z"
      },
      {
        "duration": 34,
        "start_time": "2023-08-27T13:41:57.000Z"
      },
      {
        "duration": 9,
        "start_time": "2023-08-27T13:41:59.832Z"
      },
      {
        "duration": 10,
        "start_time": "2023-08-27T13:42:01.408Z"
      },
      {
        "duration": 526,
        "start_time": "2023-08-27T13:42:03.008Z"
      },
      {
        "duration": 2648,
        "start_time": "2023-08-27T13:42:06.311Z"
      },
      {
        "duration": 25205,
        "start_time": "2023-08-27T13:42:11.383Z"
      },
      {
        "duration": 315,
        "start_time": "2023-08-27T13:42:41.038Z"
      },
      {
        "duration": 13,
        "start_time": "2023-08-27T13:43:06.095Z"
      },
      {
        "duration": 10,
        "start_time": "2023-08-27T13:43:07.879Z"
      },
      {
        "duration": 10,
        "start_time": "2023-08-27T13:43:10.374Z"
      },
      {
        "duration": 535,
        "start_time": "2023-08-27T13:43:12.479Z"
      },
      {
        "duration": 36,
        "start_time": "2023-08-27T13:43:23.198Z"
      },
      {
        "duration": 5,
        "start_time": "2023-08-27T13:47:31.867Z"
      },
      {
        "duration": 57,
        "start_time": "2023-08-27T13:47:31.874Z"
      },
      {
        "duration": 4,
        "start_time": "2023-08-27T13:47:31.933Z"
      },
      {
        "duration": 37,
        "start_time": "2023-08-27T13:47:31.938Z"
      },
      {
        "duration": 9,
        "start_time": "2023-08-27T13:47:31.976Z"
      },
      {
        "duration": 152,
        "start_time": "2023-08-27T13:47:31.986Z"
      },
      {
        "duration": 175,
        "start_time": "2023-08-27T13:47:32.140Z"
      },
      {
        "duration": 211,
        "start_time": "2023-08-27T13:47:32.317Z"
      },
      {
        "duration": 594,
        "start_time": "2023-08-27T13:47:32.530Z"
      },
      {
        "duration": 509,
        "start_time": "2023-08-27T13:47:33.127Z"
      },
      {
        "duration": 82,
        "start_time": "2023-08-27T13:47:33.638Z"
      },
      {
        "duration": 165,
        "start_time": "2023-08-27T13:47:33.722Z"
      },
      {
        "duration": 15,
        "start_time": "2023-08-27T13:47:33.888Z"
      },
      {
        "duration": 4,
        "start_time": "2023-08-27T13:47:40.275Z"
      },
      {
        "duration": 30,
        "start_time": "2023-08-27T13:47:41.212Z"
      },
      {
        "duration": 9,
        "start_time": "2023-08-27T13:47:42.580Z"
      },
      {
        "duration": 9,
        "start_time": "2023-08-27T13:47:44.083Z"
      },
      {
        "duration": 574,
        "start_time": "2023-08-27T13:47:45.595Z"
      },
      {
        "duration": 2856,
        "start_time": "2023-08-27T13:47:49.091Z"
      },
      {
        "duration": 23665,
        "start_time": "2023-08-27T13:47:56.556Z"
      },
      {
        "duration": 182,
        "start_time": "2023-08-27T13:48:24.787Z"
      },
      {
        "duration": 10,
        "start_time": "2023-08-27T13:48:27.683Z"
      },
      {
        "duration": 8,
        "start_time": "2023-08-27T13:48:29.219Z"
      },
      {
        "duration": 8,
        "start_time": "2023-08-27T13:48:30.932Z"
      },
      {
        "duration": 719,
        "start_time": "2023-08-27T13:48:32.547Z"
      },
      {
        "duration": 44,
        "start_time": "2023-08-27T13:48:37.636Z"
      },
      {
        "duration": 43,
        "start_time": "2023-08-27T13:51:40.257Z"
      },
      {
        "duration": 5,
        "start_time": "2023-08-27T14:00:32.203Z"
      },
      {
        "duration": 106,
        "start_time": "2023-08-27T14:00:32.211Z"
      },
      {
        "duration": 7,
        "start_time": "2023-08-27T14:00:32.320Z"
      },
      {
        "duration": 57,
        "start_time": "2023-08-27T14:00:32.329Z"
      },
      {
        "duration": 10,
        "start_time": "2023-08-27T14:00:32.390Z"
      },
      {
        "duration": 192,
        "start_time": "2023-08-27T14:00:32.402Z"
      },
      {
        "duration": 191,
        "start_time": "2023-08-27T14:00:32.597Z"
      },
      {
        "duration": 195,
        "start_time": "2023-08-27T14:00:32.790Z"
      },
      {
        "duration": 430,
        "start_time": "2023-08-27T14:00:32.986Z"
      },
      {
        "duration": 725,
        "start_time": "2023-08-27T14:00:33.417Z"
      },
      {
        "duration": 6,
        "start_time": "2023-08-27T14:02:27.378Z"
      },
      {
        "duration": 6,
        "start_time": "2023-08-27T14:02:40.881Z"
      },
      {
        "duration": 14,
        "start_time": "2023-08-27T14:04:27.992Z"
      },
      {
        "duration": 11,
        "start_time": "2023-08-27T14:04:56.239Z"
      },
      {
        "duration": 12,
        "start_time": "2023-08-27T14:05:05.054Z"
      },
      {
        "duration": 13,
        "start_time": "2023-08-27T14:05:23.271Z"
      },
      {
        "duration": 11,
        "start_time": "2023-08-27T14:05:40.765Z"
      },
      {
        "duration": 10,
        "start_time": "2023-08-27T14:06:24.623Z"
      },
      {
        "duration": 5,
        "start_time": "2023-08-27T14:15:39.445Z"
      },
      {
        "duration": 67,
        "start_time": "2023-08-27T14:15:39.458Z"
      },
      {
        "duration": 4,
        "start_time": "2023-08-27T14:15:39.527Z"
      },
      {
        "duration": 64,
        "start_time": "2023-08-27T14:15:39.533Z"
      },
      {
        "duration": 8,
        "start_time": "2023-08-27T14:15:39.598Z"
      },
      {
        "duration": 136,
        "start_time": "2023-08-27T14:15:39.607Z"
      },
      {
        "duration": 150,
        "start_time": "2023-08-27T14:15:39.745Z"
      },
      {
        "duration": 194,
        "start_time": "2023-08-27T14:15:39.896Z"
      },
      {
        "duration": 434,
        "start_time": "2023-08-27T14:15:40.091Z"
      },
      {
        "duration": 510,
        "start_time": "2023-08-27T14:15:40.529Z"
      },
      {
        "duration": 90,
        "start_time": "2023-08-27T14:15:41.041Z"
      },
      {
        "duration": 326,
        "start_time": "2023-08-27T14:15:41.132Z"
      },
      {
        "duration": 20,
        "start_time": "2023-08-27T14:15:41.460Z"
      },
      {
        "duration": 28,
        "start_time": "2023-08-27T14:15:41.482Z"
      },
      {
        "duration": 39,
        "start_time": "2023-08-27T14:15:41.511Z"
      },
      {
        "duration": 15,
        "start_time": "2023-08-27T14:15:41.556Z"
      },
      {
        "duration": 11,
        "start_time": "2023-08-27T14:15:41.573Z"
      },
      {
        "duration": 583,
        "start_time": "2023-08-27T14:15:41.586Z"
      },
      {
        "duration": 2936,
        "start_time": "2023-08-27T14:15:42.171Z"
      },
      {
        "duration": 25012,
        "start_time": "2023-08-27T14:15:45.108Z"
      },
      {
        "duration": 331,
        "start_time": "2023-08-27T14:16:10.122Z"
      },
      {
        "duration": 97,
        "start_time": "2023-08-27T14:16:10.459Z"
      },
      {
        "duration": 10,
        "start_time": "2023-08-27T14:16:10.558Z"
      },
      {
        "duration": 10,
        "start_time": "2023-08-27T14:16:10.569Z"
      },
      {
        "duration": 741,
        "start_time": "2023-08-27T14:16:10.580Z"
      },
      {
        "duration": 58,
        "start_time": "2023-08-27T14:16:11.322Z"
      },
      {
        "duration": 2493,
        "start_time": "2023-08-27T16:46:23.534Z"
      },
      {
        "duration": 104,
        "start_time": "2023-08-27T16:46:26.029Z"
      },
      {
        "duration": 5,
        "start_time": "2023-08-27T16:46:26.135Z"
      },
      {
        "duration": 91,
        "start_time": "2023-08-27T16:46:26.143Z"
      },
      {
        "duration": 9,
        "start_time": "2023-08-27T16:46:26.236Z"
      },
      {
        "duration": 154,
        "start_time": "2023-08-27T16:46:26.247Z"
      },
      {
        "duration": 156,
        "start_time": "2023-08-27T16:46:26.403Z"
      },
      {
        "duration": 192,
        "start_time": "2023-08-27T16:46:26.562Z"
      },
      {
        "duration": 516,
        "start_time": "2023-08-27T16:46:26.756Z"
      },
      {
        "duration": 513,
        "start_time": "2023-08-27T16:46:27.275Z"
      },
      {
        "duration": 83,
        "start_time": "2023-08-27T16:46:27.790Z"
      },
      {
        "duration": 162,
        "start_time": "2023-08-27T16:46:27.875Z"
      },
      {
        "duration": 15,
        "start_time": "2023-08-27T16:46:28.039Z"
      },
      {
        "duration": 4,
        "start_time": "2023-08-27T16:46:28.055Z"
      },
      {
        "duration": 31,
        "start_time": "2023-08-27T16:46:28.061Z"
      },
      {
        "duration": 32,
        "start_time": "2023-08-27T16:46:28.094Z"
      },
      {
        "duration": 9,
        "start_time": "2023-08-27T16:46:28.127Z"
      },
      {
        "duration": 529,
        "start_time": "2023-08-27T16:46:28.138Z"
      },
      {
        "duration": 2964,
        "start_time": "2023-08-27T16:46:28.669Z"
      },
      {
        "duration": 25561,
        "start_time": "2023-08-27T16:46:31.634Z"
      },
      {
        "duration": 253,
        "start_time": "2023-08-27T16:46:57.197Z"
      },
      {
        "duration": 14,
        "start_time": "2023-08-27T16:46:57.525Z"
      },
      {
        "duration": 89,
        "start_time": "2023-08-27T16:46:57.541Z"
      },
      {
        "duration": 13,
        "start_time": "2023-08-27T16:46:57.632Z"
      },
      {
        "duration": 760,
        "start_time": "2023-08-27T16:46:57.648Z"
      },
      {
        "duration": 65,
        "start_time": "2023-08-27T16:46:58.411Z"
      },
      {
        "duration": 1429,
        "start_time": "2023-08-27T17:03:28.854Z"
      },
      {
        "duration": 58,
        "start_time": "2023-08-27T17:04:21.437Z"
      },
      {
        "duration": 34,
        "start_time": "2023-08-27T17:04:25.585Z"
      },
      {
        "duration": 7,
        "start_time": "2023-08-27T17:04:26.941Z"
      },
      {
        "duration": 126,
        "start_time": "2023-08-27T17:04:27.818Z"
      },
      {
        "duration": 20,
        "start_time": "2023-08-27T17:04:42.524Z"
      },
      {
        "duration": 3000,
        "start_time": "2023-08-27T17:05:57.325Z"
      },
      {
        "duration": 46,
        "start_time": "2023-08-28T15:31:13.151Z"
      },
      {
        "duration": 6,
        "start_time": "2023-08-28T15:31:30.568Z"
      },
      {
        "duration": 83,
        "start_time": "2023-08-28T15:31:45.844Z"
      },
      {
        "duration": 1466,
        "start_time": "2023-08-28T15:35:28.701Z"
      },
      {
        "duration": 106,
        "start_time": "2023-08-28T15:35:30.169Z"
      },
      {
        "duration": 5,
        "start_time": "2023-08-28T15:35:30.277Z"
      },
      {
        "duration": 104,
        "start_time": "2023-08-28T15:35:30.283Z"
      },
      {
        "duration": 8,
        "start_time": "2023-08-28T15:35:30.389Z"
      },
      {
        "duration": 161,
        "start_time": "2023-08-28T15:35:30.399Z"
      },
      {
        "duration": 142,
        "start_time": "2023-08-28T15:35:30.562Z"
      },
      {
        "duration": 188,
        "start_time": "2023-08-28T15:35:30.705Z"
      },
      {
        "duration": 512,
        "start_time": "2023-08-28T15:35:30.895Z"
      },
      {
        "duration": 513,
        "start_time": "2023-08-28T15:35:31.408Z"
      },
      {
        "duration": 82,
        "start_time": "2023-08-28T15:35:31.922Z"
      },
      {
        "duration": 161,
        "start_time": "2023-08-28T15:35:32.006Z"
      },
      {
        "duration": 17,
        "start_time": "2023-08-28T15:35:32.169Z"
      },
      {
        "duration": 45,
        "start_time": "2023-08-28T15:35:32.188Z"
      },
      {
        "duration": 803,
        "start_time": "2023-08-28T15:37:33.473Z"
      },
      {
        "duration": 985,
        "start_time": "2023-08-28T15:38:16.751Z"
      },
      {
        "duration": 1089,
        "start_time": "2023-08-28T15:38:46.550Z"
      },
      {
        "duration": 992,
        "start_time": "2023-08-28T15:46:32.740Z"
      },
      {
        "duration": 4,
        "start_time": "2023-08-28T15:47:28.271Z"
      },
      {
        "duration": 119,
        "start_time": "2023-08-28T15:48:39.189Z"
      },
      {
        "duration": 149,
        "start_time": "2023-08-28T15:50:26.485Z"
      },
      {
        "duration": 135,
        "start_time": "2023-08-28T15:50:47.524Z"
      },
      {
        "duration": 235,
        "start_time": "2023-08-28T15:51:28.914Z"
      },
      {
        "duration": 255,
        "start_time": "2023-08-28T15:52:20.027Z"
      },
      {
        "duration": 696,
        "start_time": "2023-08-28T15:52:36.154Z"
      },
      {
        "duration": 844,
        "start_time": "2023-08-28T15:53:03.036Z"
      },
      {
        "duration": 1094,
        "start_time": "2023-08-28T15:53:44.531Z"
      },
      {
        "duration": 1619,
        "start_time": "2023-08-28T15:54:17.392Z"
      },
      {
        "duration": 1410,
        "start_time": "2023-08-28T15:54:45.713Z"
      },
      {
        "duration": 34,
        "start_time": "2023-08-28T15:55:00.346Z"
      },
      {
        "duration": 265,
        "start_time": "2023-08-28T16:05:03.491Z"
      },
      {
        "duration": 261,
        "start_time": "2023-08-28T16:07:27.362Z"
      },
      {
        "duration": 272,
        "start_time": "2023-08-28T16:08:16.402Z"
      },
      {
        "duration": 262,
        "start_time": "2023-08-28T16:09:17.753Z"
      },
      {
        "duration": 387,
        "start_time": "2023-08-28T16:09:28.282Z"
      },
      {
        "duration": 282,
        "start_time": "2023-08-28T16:10:09.401Z"
      },
      {
        "duration": 271,
        "start_time": "2023-08-28T16:10:36.722Z"
      },
      {
        "duration": 357,
        "start_time": "2023-08-28T16:13:04.960Z"
      },
      {
        "duration": 325,
        "start_time": "2023-08-28T16:15:01.367Z"
      },
      {
        "duration": 387,
        "start_time": "2023-08-28T16:17:52.532Z"
      },
      {
        "duration": 330,
        "start_time": "2023-08-28T16:18:13.555Z"
      },
      {
        "duration": 171,
        "start_time": "2023-08-28T16:24:33.728Z"
      },
      {
        "duration": 323,
        "start_time": "2023-08-28T16:25:03.104Z"
      },
      {
        "duration": 332,
        "start_time": "2023-08-28T16:27:02.360Z"
      },
      {
        "duration": 796,
        "start_time": "2023-08-28T16:27:18.809Z"
      },
      {
        "duration": 3216,
        "start_time": "2023-08-28T16:29:03.277Z"
      },
      {
        "duration": 4,
        "start_time": "2023-08-28T16:29:11.276Z"
      },
      {
        "duration": 67,
        "start_time": "2023-08-28T16:29:11.282Z"
      },
      {
        "duration": 5,
        "start_time": "2023-08-28T16:29:11.350Z"
      },
      {
        "duration": 39,
        "start_time": "2023-08-28T16:29:11.357Z"
      },
      {
        "duration": 7,
        "start_time": "2023-08-28T16:29:11.398Z"
      },
      {
        "duration": 188,
        "start_time": "2023-08-28T16:29:11.406Z"
      },
      {
        "duration": 153,
        "start_time": "2023-08-28T16:29:11.596Z"
      },
      {
        "duration": 194,
        "start_time": "2023-08-28T16:29:11.751Z"
      },
      {
        "duration": 437,
        "start_time": "2023-08-28T16:29:11.949Z"
      },
      {
        "duration": 563,
        "start_time": "2023-08-28T16:29:12.388Z"
      },
      {
        "duration": 94,
        "start_time": "2023-08-28T16:29:14.996Z"
      },
      {
        "duration": 5,
        "start_time": "2023-08-28T16:29:32.055Z"
      },
      {
        "duration": 76,
        "start_time": "2023-08-28T16:29:32.061Z"
      },
      {
        "duration": 11,
        "start_time": "2023-08-28T16:29:32.140Z"
      },
      {
        "duration": 171,
        "start_time": "2023-08-28T16:29:32.153Z"
      },
      {
        "duration": 17,
        "start_time": "2023-08-28T16:29:32.327Z"
      },
      {
        "duration": 175,
        "start_time": "2023-08-28T16:29:32.349Z"
      },
      {
        "duration": 158,
        "start_time": "2023-08-28T16:29:32.526Z"
      },
      {
        "duration": 217,
        "start_time": "2023-08-28T16:29:32.685Z"
      },
      {
        "duration": 449,
        "start_time": "2023-08-28T16:29:32.904Z"
      },
      {
        "duration": 525,
        "start_time": "2023-08-28T16:29:33.355Z"
      },
      {
        "duration": 84,
        "start_time": "2023-08-28T16:29:33.882Z"
      },
      {
        "duration": 151,
        "start_time": "2023-08-28T16:29:33.967Z"
      },
      {
        "duration": 24,
        "start_time": "2023-08-28T16:29:34.120Z"
      },
      {
        "duration": 5,
        "start_time": "2023-08-28T16:29:34.146Z"
      },
      {
        "duration": 2385,
        "start_time": "2023-08-28T16:29:41.805Z"
      },
      {
        "duration": 1199,
        "start_time": "2023-08-28T16:30:25.957Z"
      },
      {
        "duration": 371,
        "start_time": "2023-08-28T16:30:48.685Z"
      },
      {
        "duration": 375,
        "start_time": "2023-08-28T16:30:57.860Z"
      },
      {
        "duration": 695,
        "start_time": "2023-08-28T16:31:09.508Z"
      },
      {
        "duration": 5,
        "start_time": "2023-08-28T16:47:33.109Z"
      },
      {
        "duration": 6,
        "start_time": "2023-08-28T16:47:56.674Z"
      },
      {
        "duration": 105,
        "start_time": "2023-08-28T16:58:01.181Z"
      },
      {
        "duration": 13,
        "start_time": "2023-08-28T16:58:09.086Z"
      },
      {
        "duration": 18,
        "start_time": "2023-08-28T16:58:18.524Z"
      },
      {
        "duration": 2026,
        "start_time": "2023-08-28T16:58:38.756Z"
      },
      {
        "duration": 310,
        "start_time": "2023-08-28T16:58:59.108Z"
      },
      {
        "duration": 1321,
        "start_time": "2023-08-28T17:05:47.073Z"
      },
      {
        "duration": 67,
        "start_time": "2023-08-28T17:05:48.396Z"
      },
      {
        "duration": 4,
        "start_time": "2023-08-28T17:05:48.465Z"
      },
      {
        "duration": 73,
        "start_time": "2023-08-28T17:05:48.471Z"
      },
      {
        "duration": 7,
        "start_time": "2023-08-28T17:05:48.546Z"
      },
      {
        "duration": 146,
        "start_time": "2023-08-28T17:05:48.555Z"
      },
      {
        "duration": 154,
        "start_time": "2023-08-28T17:05:48.702Z"
      },
      {
        "duration": 190,
        "start_time": "2023-08-28T17:05:48.858Z"
      },
      {
        "duration": 498,
        "start_time": "2023-08-28T17:05:49.050Z"
      },
      {
        "duration": 513,
        "start_time": "2023-08-28T17:05:49.550Z"
      },
      {
        "duration": 81,
        "start_time": "2023-08-28T17:05:50.065Z"
      },
      {
        "duration": 143,
        "start_time": "2023-08-28T17:05:50.148Z"
      },
      {
        "duration": 14,
        "start_time": "2023-08-28T17:05:50.292Z"
      },
      {
        "duration": 4,
        "start_time": "2023-08-28T17:05:50.307Z"
      },
      {
        "duration": 33,
        "start_time": "2023-08-28T17:05:50.312Z"
      },
      {
        "duration": 5,
        "start_time": "2023-08-28T17:05:50.346Z"
      },
      {
        "duration": 530,
        "start_time": "2023-08-28T17:07:05.816Z"
      },
      {
        "duration": 90,
        "start_time": "2023-08-28T17:07:39.256Z"
      },
      {
        "duration": 1755,
        "start_time": "2023-08-28T17:07:46.770Z"
      },
      {
        "duration": 1397,
        "start_time": "2023-08-28T17:08:18.703Z"
      },
      {
        "duration": 1377,
        "start_time": "2023-08-28T17:08:54.703Z"
      },
      {
        "duration": 1514,
        "start_time": "2023-08-28T17:09:25.711Z"
      },
      {
        "duration": 681,
        "start_time": "2023-08-28T17:16:25.572Z"
      },
      {
        "duration": 1164,
        "start_time": "2023-08-28T17:20:25.492Z"
      },
      {
        "duration": 698,
        "start_time": "2023-08-28T17:21:19.241Z"
      },
      {
        "duration": 606,
        "start_time": "2023-08-28T17:21:50.601Z"
      },
      {
        "duration": 643,
        "start_time": "2023-08-28T17:22:06.856Z"
      },
      {
        "duration": 4653,
        "start_time": "2023-08-28T17:24:56.935Z"
      },
      {
        "duration": 5096,
        "start_time": "2023-08-28T17:26:41.232Z"
      },
      {
        "duration": 135,
        "start_time": "2023-08-28T17:27:04.422Z"
      },
      {
        "duration": 5022,
        "start_time": "2023-08-28T17:27:22.973Z"
      },
      {
        "duration": 11,
        "start_time": "2023-08-28T17:35:20.524Z"
      },
      {
        "duration": 4583,
        "start_time": "2023-08-28T17:35:26.866Z"
      },
      {
        "duration": 214,
        "start_time": "2023-08-28T17:38:34.063Z"
      },
      {
        "duration": 118,
        "start_time": "2023-08-28T17:39:12.945Z"
      },
      {
        "duration": 81,
        "start_time": "2023-08-28T17:40:55.997Z"
      },
      {
        "duration": 4,
        "start_time": "2023-08-28T17:42:54.509Z"
      },
      {
        "duration": 687,
        "start_time": "2023-08-28T17:43:07.428Z"
      },
      {
        "duration": 104,
        "start_time": "2023-08-28T18:19:55.382Z"
      },
      {
        "duration": 4,
        "start_time": "2023-08-28T18:20:00.419Z"
      },
      {
        "duration": 156,
        "start_time": "2023-08-28T18:20:00.425Z"
      },
      {
        "duration": 30,
        "start_time": "2023-08-28T18:20:00.583Z"
      },
      {
        "duration": 79,
        "start_time": "2023-08-28T18:20:00.615Z"
      },
      {
        "duration": 14,
        "start_time": "2023-08-28T18:20:00.697Z"
      },
      {
        "duration": 169,
        "start_time": "2023-08-28T18:20:00.713Z"
      },
      {
        "duration": 145,
        "start_time": "2023-08-28T18:20:00.884Z"
      },
      {
        "duration": 187,
        "start_time": "2023-08-28T18:20:01.035Z"
      },
      {
        "duration": 462,
        "start_time": "2023-08-28T18:20:01.225Z"
      },
      {
        "duration": 672,
        "start_time": "2023-08-28T18:20:01.689Z"
      },
      {
        "duration": 111,
        "start_time": "2023-08-28T18:20:02.363Z"
      },
      {
        "duration": 158,
        "start_time": "2023-08-28T18:20:02.478Z"
      },
      {
        "duration": 35,
        "start_time": "2023-08-28T18:20:02.638Z"
      },
      {
        "duration": 45,
        "start_time": "2023-08-28T18:20:02.676Z"
      },
      {
        "duration": 59,
        "start_time": "2023-08-28T18:20:02.723Z"
      },
      {
        "duration": 97,
        "start_time": "2023-08-28T18:20:02.784Z"
      },
      {
        "duration": 5139,
        "start_time": "2023-08-28T18:20:02.883Z"
      },
      {
        "duration": 139,
        "start_time": "2023-08-28T18:20:08.023Z"
      },
      {
        "duration": 646,
        "start_time": "2023-08-28T18:20:08.164Z"
      },
      {
        "duration": 40,
        "start_time": "2023-08-28T18:20:08.812Z"
      },
      {
        "duration": 8,
        "start_time": "2023-08-28T18:20:08.853Z"
      },
      {
        "duration": 8,
        "start_time": "2023-08-28T18:20:08.863Z"
      },
      {
        "duration": 648,
        "start_time": "2023-08-28T18:20:08.873Z"
      },
      {
        "duration": 2948,
        "start_time": "2023-08-28T18:20:09.523Z"
      },
      {
        "duration": 25199,
        "start_time": "2023-08-28T18:20:12.472Z"
      },
      {
        "duration": 1283,
        "start_time": "2023-08-28T18:24:24.078Z"
      },
      {
        "duration": 61,
        "start_time": "2023-08-28T18:24:25.363Z"
      },
      {
        "duration": 5,
        "start_time": "2023-08-28T18:24:25.426Z"
      },
      {
        "duration": 111,
        "start_time": "2023-08-28T18:24:25.433Z"
      },
      {
        "duration": 11,
        "start_time": "2023-08-28T18:24:25.546Z"
      },
      {
        "duration": 147,
        "start_time": "2023-08-28T18:24:25.558Z"
      },
      {
        "duration": 143,
        "start_time": "2023-08-28T18:24:25.706Z"
      },
      {
        "duration": 179,
        "start_time": "2023-08-28T18:24:25.851Z"
      },
      {
        "duration": 502,
        "start_time": "2023-08-28T18:24:26.034Z"
      },
      {
        "duration": 516,
        "start_time": "2023-08-28T18:24:26.539Z"
      },
      {
        "duration": 85,
        "start_time": "2023-08-28T18:24:27.057Z"
      },
      {
        "duration": 150,
        "start_time": "2023-08-28T18:24:27.143Z"
      },
      {
        "duration": 14,
        "start_time": "2023-08-28T18:24:27.294Z"
      },
      {
        "duration": 4,
        "start_time": "2023-08-28T18:24:27.309Z"
      },
      {
        "duration": 22,
        "start_time": "2023-08-28T18:24:27.314Z"
      },
      {
        "duration": 25,
        "start_time": "2023-08-28T18:24:27.338Z"
      },
      {
        "duration": 4912,
        "start_time": "2023-08-28T18:24:27.364Z"
      },
      {
        "duration": 229,
        "start_time": "2023-08-28T18:24:32.278Z"
      },
      {
        "duration": 658,
        "start_time": "2023-08-28T18:24:32.509Z"
      },
      {
        "duration": 32,
        "start_time": "2023-08-28T18:24:33.169Z"
      },
      {
        "duration": 9,
        "start_time": "2023-08-28T18:24:33.202Z"
      },
      {
        "duration": 27,
        "start_time": "2023-08-28T18:24:33.212Z"
      },
      {
        "duration": 523,
        "start_time": "2023-08-28T18:24:33.241Z"
      },
      {
        "duration": 68,
        "start_time": "2023-08-28T18:29:51.274Z"
      },
      {
        "duration": 5,
        "start_time": "2023-08-28T18:29:59.720Z"
      },
      {
        "duration": 1440,
        "start_time": "2023-08-28T18:30:05.049Z"
      },
      {
        "duration": 68,
        "start_time": "2023-08-28T18:30:06.491Z"
      },
      {
        "duration": 6,
        "start_time": "2023-08-28T18:30:06.562Z"
      },
      {
        "duration": 82,
        "start_time": "2023-08-28T18:30:06.570Z"
      },
      {
        "duration": 10,
        "start_time": "2023-08-28T18:30:06.655Z"
      },
      {
        "duration": 216,
        "start_time": "2023-08-28T18:30:06.667Z"
      },
      {
        "duration": 157,
        "start_time": "2023-08-28T18:30:06.885Z"
      },
      {
        "duration": 240,
        "start_time": "2023-08-28T18:30:07.044Z"
      },
      {
        "duration": 548,
        "start_time": "2023-08-28T18:30:07.286Z"
      },
      {
        "duration": 608,
        "start_time": "2023-08-28T18:30:07.837Z"
      },
      {
        "duration": 79,
        "start_time": "2023-08-28T18:30:08.447Z"
      },
      {
        "duration": 161,
        "start_time": "2023-08-28T18:30:08.528Z"
      },
      {
        "duration": 24,
        "start_time": "2023-08-28T18:30:08.691Z"
      },
      {
        "duration": 17,
        "start_time": "2023-08-28T18:30:08.717Z"
      },
      {
        "duration": 22,
        "start_time": "2023-08-28T18:30:08.736Z"
      },
      {
        "duration": 42,
        "start_time": "2023-08-28T18:30:08.759Z"
      },
      {
        "duration": 5253,
        "start_time": "2023-08-28T18:30:08.803Z"
      },
      {
        "duration": 279,
        "start_time": "2023-08-28T18:30:14.058Z"
      },
      {
        "duration": 716,
        "start_time": "2023-08-28T18:30:14.339Z"
      },
      {
        "duration": 30,
        "start_time": "2023-08-28T18:30:15.057Z"
      },
      {
        "duration": 8,
        "start_time": "2023-08-28T18:30:15.089Z"
      },
      {
        "duration": 10,
        "start_time": "2023-08-28T18:30:15.098Z"
      },
      {
        "duration": 555,
        "start_time": "2023-08-28T18:30:15.110Z"
      },
      {
        "duration": 2917,
        "start_time": "2023-08-28T18:30:15.667Z"
      },
      {
        "duration": 25181,
        "start_time": "2023-08-28T18:30:18.585Z"
      },
      {
        "duration": 5,
        "start_time": "2023-08-28T18:30:43.768Z"
      },
      {
        "duration": 268,
        "start_time": "2023-08-28T18:31:16.374Z"
      },
      {
        "duration": 4,
        "start_time": "2023-08-28T18:31:23.639Z"
      },
      {
        "duration": 4,
        "start_time": "2023-08-28T18:31:38.105Z"
      },
      {
        "duration": 5,
        "start_time": "2023-08-28T18:31:46.042Z"
      },
      {
        "duration": 4,
        "start_time": "2023-08-28T18:31:49.625Z"
      },
      {
        "duration": 262588,
        "start_time": "2023-08-28T18:31:51.098Z"
      },
      {
        "duration": 11,
        "start_time": "2023-08-28T18:39:52.067Z"
      },
      {
        "duration": 12,
        "start_time": "2023-08-28T18:39:56.363Z"
      },
      {
        "duration": 12,
        "start_time": "2023-08-28T18:40:00.235Z"
      },
      {
        "duration": 4,
        "start_time": "2023-08-28T18:41:41.363Z"
      },
      {
        "duration": 62885,
        "start_time": "2023-08-28T18:42:03.278Z"
      },
      {
        "duration": 88158,
        "start_time": "2023-08-28T18:43:57.222Z"
      },
      {
        "duration": 104,
        "start_time": "2023-08-28T18:45:25.382Z"
      },
      {
        "duration": 99,
        "start_time": "2023-08-28T18:48:44.852Z"
      },
      {
        "duration": 69,
        "start_time": "2023-08-28T18:50:46.596Z"
      },
      {
        "duration": 9,
        "start_time": "2023-08-28T18:52:44.659Z"
      },
      {
        "duration": 82476,
        "start_time": "2023-08-28T18:54:34.418Z"
      },
      {
        "duration": 36873,
        "start_time": "2023-08-28T18:56:13.195Z"
      },
      {
        "duration": 10,
        "start_time": "2023-08-28T18:56:53.886Z"
      },
      {
        "duration": 37545,
        "start_time": "2023-08-28T18:57:22.271Z"
      },
      {
        "duration": 37375,
        "start_time": "2023-08-28T18:58:01.751Z"
      },
      {
        "duration": 19,
        "start_time": "2023-08-28T19:00:36.238Z"
      },
      {
        "duration": 83,
        "start_time": "2023-08-28T19:01:36.991Z"
      },
      {
        "duration": 104,
        "start_time": "2023-08-28T19:03:02.178Z"
      },
      {
        "duration": 18,
        "start_time": "2023-08-28T19:04:50.653Z"
      },
      {
        "duration": 18,
        "start_time": "2023-08-28T19:04:55.353Z"
      },
      {
        "duration": 3,
        "start_time": "2023-08-28T19:05:49.098Z"
      },
      {
        "duration": 83,
        "start_time": "2023-08-28T19:05:49.103Z"
      },
      {
        "duration": 4,
        "start_time": "2023-08-28T19:05:49.188Z"
      },
      {
        "duration": 43,
        "start_time": "2023-08-28T19:05:49.194Z"
      },
      {
        "duration": 13,
        "start_time": "2023-08-28T19:05:49.239Z"
      },
      {
        "duration": 133,
        "start_time": "2023-08-28T19:05:49.254Z"
      },
      {
        "duration": 176,
        "start_time": "2023-08-28T19:05:49.389Z"
      },
      {
        "duration": 206,
        "start_time": "2023-08-28T19:05:49.567Z"
      },
      {
        "duration": 541,
        "start_time": "2023-08-28T19:05:49.777Z"
      },
      {
        "duration": 528,
        "start_time": "2023-08-28T19:05:50.320Z"
      },
      {
        "duration": 91,
        "start_time": "2023-08-28T19:05:50.849Z"
      },
      {
        "duration": 170,
        "start_time": "2023-08-28T19:05:50.941Z"
      },
      {
        "duration": 33,
        "start_time": "2023-08-28T19:05:51.113Z"
      },
      {
        "duration": 4,
        "start_time": "2023-08-28T19:05:51.148Z"
      },
      {
        "duration": 12,
        "start_time": "2023-08-28T19:05:51.154Z"
      },
      {
        "duration": 10,
        "start_time": "2023-08-28T19:05:51.168Z"
      },
      {
        "duration": 5345,
        "start_time": "2023-08-28T19:05:51.180Z"
      },
      {
        "duration": 234,
        "start_time": "2023-08-28T19:05:56.527Z"
      },
      {
        "duration": 702,
        "start_time": "2023-08-28T19:05:56.762Z"
      },
      {
        "duration": 42,
        "start_time": "2023-08-28T19:05:57.466Z"
      },
      {
        "duration": 29,
        "start_time": "2023-08-28T19:05:57.510Z"
      },
      {
        "duration": 13,
        "start_time": "2023-08-28T19:05:57.540Z"
      },
      {
        "duration": 548,
        "start_time": "2023-08-28T19:05:57.555Z"
      },
      {
        "duration": 2976,
        "start_time": "2023-08-28T19:05:58.106Z"
      },
      {
        "duration": 25574,
        "start_time": "2023-08-28T19:06:01.084Z"
      },
      {
        "duration": 4,
        "start_time": "2023-08-28T19:06:26.660Z"
      },
      {
        "duration": 1324,
        "start_time": "2023-08-28T19:14:20.058Z"
      },
      {
        "duration": 83,
        "start_time": "2023-08-28T19:14:21.383Z"
      },
      {
        "duration": 5,
        "start_time": "2023-08-28T19:14:21.468Z"
      },
      {
        "duration": 83,
        "start_time": "2023-08-28T19:14:21.474Z"
      },
      {
        "duration": 10,
        "start_time": "2023-08-28T19:14:21.559Z"
      },
      {
        "duration": 142,
        "start_time": "2023-08-28T19:14:21.571Z"
      },
      {
        "duration": 165,
        "start_time": "2023-08-28T19:14:21.715Z"
      },
      {
        "duration": 212,
        "start_time": "2023-08-28T19:14:21.882Z"
      },
      {
        "duration": 506,
        "start_time": "2023-08-28T19:14:22.096Z"
      },
      {
        "duration": 575,
        "start_time": "2023-08-28T19:14:22.605Z"
      },
      {
        "duration": 91,
        "start_time": "2023-08-28T19:14:23.181Z"
      },
      {
        "duration": 147,
        "start_time": "2023-08-28T19:14:23.274Z"
      },
      {
        "duration": 33,
        "start_time": "2023-08-28T19:14:23.423Z"
      },
      {
        "duration": 15,
        "start_time": "2023-08-28T19:14:23.459Z"
      },
      {
        "duration": 24,
        "start_time": "2023-08-28T19:14:23.476Z"
      },
      {
        "duration": 12,
        "start_time": "2023-08-28T19:14:23.501Z"
      },
      {
        "duration": 5087,
        "start_time": "2023-08-28T19:14:23.514Z"
      },
      {
        "duration": 249,
        "start_time": "2023-08-28T19:14:28.603Z"
      },
      {
        "duration": 719,
        "start_time": "2023-08-28T19:14:28.857Z"
      },
      {
        "duration": 30,
        "start_time": "2023-08-28T19:14:29.578Z"
      },
      {
        "duration": 42,
        "start_time": "2023-08-28T19:14:29.610Z"
      },
      {
        "duration": 79,
        "start_time": "2023-08-28T19:14:29.654Z"
      },
      {
        "duration": 613,
        "start_time": "2023-08-28T19:14:29.745Z"
      },
      {
        "duration": 3055,
        "start_time": "2023-08-28T19:14:30.362Z"
      },
      {
        "duration": 25597,
        "start_time": "2023-08-28T19:14:33.419Z"
      },
      {
        "duration": 7,
        "start_time": "2023-08-28T19:15:02.449Z"
      },
      {
        "duration": 65793,
        "start_time": "2023-08-28T19:15:04.707Z"
      },
      {
        "duration": 294,
        "start_time": "2023-08-28T19:16:19.350Z"
      },
      {
        "duration": 10,
        "start_time": "2023-08-28T19:16:21.768Z"
      },
      {
        "duration": 9,
        "start_time": "2023-08-28T19:16:23.464Z"
      },
      {
        "duration": 10,
        "start_time": "2023-08-28T19:16:26.032Z"
      },
      {
        "duration": 160,
        "start_time": "2023-08-28T19:16:31.770Z"
      },
      {
        "duration": 88304,
        "start_time": "2023-08-28T19:16:37.570Z"
      },
      {
        "duration": 12,
        "start_time": "2023-08-28T19:18:14.866Z"
      },
      {
        "duration": 7,
        "start_time": "2023-08-28T19:18:16.201Z"
      },
      {
        "duration": 36926,
        "start_time": "2023-08-28T19:18:21.158Z"
      },
      {
        "duration": 22,
        "start_time": "2023-08-28T19:19:32.936Z"
      },
      {
        "duration": 17,
        "start_time": "2023-08-28T19:19:38.078Z"
      }
    ],
    "kernelspec": {
      "display_name": "Python 3 (ipykernel)",
      "language": "python",
      "name": "python3"
    },
    "language_info": {
      "codemirror_mode": {
        "name": "ipython",
        "version": 3
      },
      "file_extension": ".py",
      "mimetype": "text/x-python",
      "name": "python",
      "nbconvert_exporter": "python",
      "pygments_lexer": "ipython3",
      "version": "3.9.5"
    },
    "toc": {
      "base_numbering": 1,
      "nav_menu": {},
      "number_sections": true,
      "sideBar": true,
      "skip_h1_title": true,
      "title_cell": "Содержание",
      "title_sidebar": "Contents",
      "toc_cell": true,
      "toc_position": {},
      "toc_section_display": true,
      "toc_window_display": false
    },
    "colab": {
      "provenance": []
    }
  },
  "nbformat": 4,
  "nbformat_minor": 0
}